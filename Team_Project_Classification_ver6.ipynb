{
 "cells": [
  {
   "cell_type": "markdown",
   "metadata": {},
   "source": [
    "# Classification"
   ]
  },
  {
   "cell_type": "markdown",
   "metadata": {},
   "source": [
    "## Team Name\n",
    ">### Sigma  \n",
    "\n",
    "## Team Member\n",
    ">### 조현윤, 이상협, 정하연  \n",
    "\n",
    "## Objective\n",
    "> ### in search of better methods of using this behavioral data to predict which individuals they should approach—and even when and how to approach them.\n",
    "> ### to create a classification algorithm that accurately identifies which customers have the most potential business value for Red Hat based on their characteristics and activities.\n",
    "> ### to predict the potential business value of a person who has performed a specific activity.\n",
    "\n",
    "## Evaluation\n",
    "> ### valuated on area under the ROC curve between the predicted and the observed outcome.\n",
    "\n",
    "## Submission File\n",
    "> ### For each activity_id in the test set, you must predict a probability for the 'outcome' variable, represented by a number between 0 and 1.\n",
    "~~~~\n",
    "activity_id,outcome\n",
    "act1_1,0\n",
    "act1_100006,0\n",
    "act1_100050,0\n",
    "~~~~\n",
    "\n",
    "## Reference \n",
    "[kaggel Predicting Red Hat Business Value](https://www.kaggle.com/c/predicting-red-hat-business-value)"
   ]
  },
  {
   "cell_type": "markdown",
   "metadata": {},
   "source": [
    "## Load Data Set"
   ]
  },
  {
   "cell_type": "code",
   "execution_count": 73,
   "metadata": {},
   "outputs": [],
   "source": [
    "import pandas as pd\n",
    "# activity data set\n",
    "act_Train = pd.read_csv('./data/act_train.csv')\n",
    "act_Test = pd.read_csv('./data/act_test.csv')\n",
    "# people data set\n",
    "people = pd.read_csv('./data/people.csv')"
   ]
  },
  {
   "cell_type": "markdown",
   "metadata": {},
   "source": [
    "## Data\n",
    "> #### uses two separate data files that may be joined together to create a single, unified data table.\n",
    "> #### a people file and an activity file."
   ]
  },
  {
   "cell_type": "code",
   "execution_count": 74,
   "metadata": {},
   "outputs": [],
   "source": [
    "pd.set_option('display.max_columns', 60)"
   ]
  },
  {
   "cell_type": "markdown",
   "metadata": {},
   "source": [
    "### People file\n",
    "> #### all of the unique people (and the corresponding characteristics) that have performed activities over time.\n",
    "> #### Each row in the people file represents a unique person.\n",
    "> #### Each person has a unique people_id."
   ]
  },
  {
   "cell_type": "code",
   "execution_count": 75,
   "metadata": {},
   "outputs": [
    {
     "name": "stdout",
     "output_type": "stream",
     "text": [
      "featue : people_id, type : object\n",
      "featue : char_1, type : object\n",
      "featue : group_1, type : object\n",
      "featue : char_2, type : object\n",
      "featue : date, type : object\n",
      "featue : char_3, type : object\n",
      "featue : char_4, type : object\n",
      "featue : char_5, type : object\n",
      "featue : char_6, type : object\n",
      "featue : char_7, type : object\n",
      "featue : char_8, type : object\n",
      "featue : char_9, type : object\n",
      "featue : char_10, type : bool\n",
      "featue : char_11, type : bool\n",
      "featue : char_12, type : bool\n",
      "featue : char_13, type : bool\n",
      "featue : char_14, type : bool\n",
      "featue : char_15, type : bool\n",
      "featue : char_16, type : bool\n",
      "featue : char_17, type : bool\n",
      "featue : char_18, type : bool\n",
      "featue : char_19, type : bool\n",
      "featue : char_20, type : bool\n",
      "featue : char_21, type : bool\n",
      "featue : char_22, type : bool\n",
      "featue : char_23, type : bool\n",
      "featue : char_24, type : bool\n",
      "featue : char_25, type : bool\n",
      "featue : char_26, type : bool\n",
      "featue : char_27, type : bool\n",
      "featue : char_28, type : bool\n",
      "featue : char_29, type : bool\n",
      "featue : char_30, type : bool\n",
      "featue : char_31, type : bool\n",
      "featue : char_32, type : bool\n",
      "featue : char_33, type : bool\n",
      "featue : char_34, type : bool\n",
      "featue : char_35, type : bool\n",
      "featue : char_36, type : bool\n",
      "featue : char_37, type : bool\n",
      "featue : char_38, type : int64\n"
     ]
    }
   ],
   "source": [
    "for column in people.columns:\n",
    "    print ('featue : {}, type : {}'.format(column,people[column].dtype))"
   ]
  },
  {
   "cell_type": "markdown",
   "metadata": {},
   "source": [
    "people_id : identical  \n",
    "group_1 : group *  \n",
    "date : datetime  \n",
    "char_1 ~ char_9 : type *  \n",
    "char_10 ~ char_37 : True or False  \n",
    "char_38 : integer  "
   ]
  },
  {
   "cell_type": "code",
   "execution_count": 76,
   "metadata": {
    "scrolled": true
   },
   "outputs": [
    {
     "data": {
      "text/html": [
       "<div>\n",
       "<style scoped>\n",
       "    .dataframe tbody tr th:only-of-type {\n",
       "        vertical-align: middle;\n",
       "    }\n",
       "\n",
       "    .dataframe tbody tr th {\n",
       "        vertical-align: top;\n",
       "    }\n",
       "\n",
       "    .dataframe thead th {\n",
       "        text-align: right;\n",
       "    }\n",
       "</style>\n",
       "<table border=\"1\" class=\"dataframe\">\n",
       "  <thead>\n",
       "    <tr style=\"text-align: right;\">\n",
       "      <th></th>\n",
       "      <th>people_id</th>\n",
       "      <th>char_1</th>\n",
       "      <th>group_1</th>\n",
       "      <th>char_2</th>\n",
       "      <th>date</th>\n",
       "      <th>char_3</th>\n",
       "      <th>char_4</th>\n",
       "      <th>char_5</th>\n",
       "      <th>char_6</th>\n",
       "      <th>char_7</th>\n",
       "      <th>char_8</th>\n",
       "      <th>char_9</th>\n",
       "      <th>char_10</th>\n",
       "      <th>char_11</th>\n",
       "      <th>char_12</th>\n",
       "      <th>char_13</th>\n",
       "      <th>char_14</th>\n",
       "      <th>char_15</th>\n",
       "      <th>char_16</th>\n",
       "      <th>char_17</th>\n",
       "      <th>char_18</th>\n",
       "      <th>char_19</th>\n",
       "      <th>char_20</th>\n",
       "      <th>char_21</th>\n",
       "      <th>char_22</th>\n",
       "      <th>char_23</th>\n",
       "      <th>char_24</th>\n",
       "      <th>char_25</th>\n",
       "      <th>char_26</th>\n",
       "      <th>char_27</th>\n",
       "      <th>char_28</th>\n",
       "      <th>char_29</th>\n",
       "      <th>char_30</th>\n",
       "      <th>char_31</th>\n",
       "      <th>char_32</th>\n",
       "      <th>char_33</th>\n",
       "      <th>char_34</th>\n",
       "      <th>char_35</th>\n",
       "      <th>char_36</th>\n",
       "      <th>char_37</th>\n",
       "      <th>char_38</th>\n",
       "    </tr>\n",
       "  </thead>\n",
       "  <tbody>\n",
       "    <tr>\n",
       "      <th>0</th>\n",
       "      <td>ppl_100</td>\n",
       "      <td>type 2</td>\n",
       "      <td>group 17304</td>\n",
       "      <td>type 2</td>\n",
       "      <td>2021-06-29</td>\n",
       "      <td>type 5</td>\n",
       "      <td>type 5</td>\n",
       "      <td>type 5</td>\n",
       "      <td>type 3</td>\n",
       "      <td>type 11</td>\n",
       "      <td>type 2</td>\n",
       "      <td>type 2</td>\n",
       "      <td>True</td>\n",
       "      <td>False</td>\n",
       "      <td>False</td>\n",
       "      <td>True</td>\n",
       "      <td>True</td>\n",
       "      <td>False</td>\n",
       "      <td>True</td>\n",
       "      <td>False</td>\n",
       "      <td>False</td>\n",
       "      <td>False</td>\n",
       "      <td>False</td>\n",
       "      <td>True</td>\n",
       "      <td>False</td>\n",
       "      <td>False</td>\n",
       "      <td>False</td>\n",
       "      <td>False</td>\n",
       "      <td>False</td>\n",
       "      <td>True</td>\n",
       "      <td>True</td>\n",
       "      <td>False</td>\n",
       "      <td>True</td>\n",
       "      <td>True</td>\n",
       "      <td>False</td>\n",
       "      <td>False</td>\n",
       "      <td>True</td>\n",
       "      <td>True</td>\n",
       "      <td>True</td>\n",
       "      <td>False</td>\n",
       "      <td>36</td>\n",
       "    </tr>\n",
       "    <tr>\n",
       "      <th>1</th>\n",
       "      <td>ppl_100002</td>\n",
       "      <td>type 2</td>\n",
       "      <td>group 8688</td>\n",
       "      <td>type 3</td>\n",
       "      <td>2021-01-06</td>\n",
       "      <td>type 28</td>\n",
       "      <td>type 9</td>\n",
       "      <td>type 5</td>\n",
       "      <td>type 3</td>\n",
       "      <td>type 11</td>\n",
       "      <td>type 2</td>\n",
       "      <td>type 4</td>\n",
       "      <td>False</td>\n",
       "      <td>False</td>\n",
       "      <td>True</td>\n",
       "      <td>True</td>\n",
       "      <td>False</td>\n",
       "      <td>False</td>\n",
       "      <td>False</td>\n",
       "      <td>True</td>\n",
       "      <td>False</td>\n",
       "      <td>False</td>\n",
       "      <td>False</td>\n",
       "      <td>False</td>\n",
       "      <td>False</td>\n",
       "      <td>True</td>\n",
       "      <td>False</td>\n",
       "      <td>True</td>\n",
       "      <td>True</td>\n",
       "      <td>True</td>\n",
       "      <td>False</td>\n",
       "      <td>False</td>\n",
       "      <td>True</td>\n",
       "      <td>True</td>\n",
       "      <td>True</td>\n",
       "      <td>True</td>\n",
       "      <td>True</td>\n",
       "      <td>True</td>\n",
       "      <td>True</td>\n",
       "      <td>False</td>\n",
       "      <td>76</td>\n",
       "    </tr>\n",
       "    <tr>\n",
       "      <th>2</th>\n",
       "      <td>ppl_100003</td>\n",
       "      <td>type 2</td>\n",
       "      <td>group 33592</td>\n",
       "      <td>type 3</td>\n",
       "      <td>2022-06-10</td>\n",
       "      <td>type 4</td>\n",
       "      <td>type 8</td>\n",
       "      <td>type 5</td>\n",
       "      <td>type 2</td>\n",
       "      <td>type 5</td>\n",
       "      <td>type 2</td>\n",
       "      <td>type 2</td>\n",
       "      <td>True</td>\n",
       "      <td>True</td>\n",
       "      <td>True</td>\n",
       "      <td>True</td>\n",
       "      <td>True</td>\n",
       "      <td>True</td>\n",
       "      <td>False</td>\n",
       "      <td>True</td>\n",
       "      <td>False</td>\n",
       "      <td>True</td>\n",
       "      <td>False</td>\n",
       "      <td>True</td>\n",
       "      <td>True</td>\n",
       "      <td>True</td>\n",
       "      <td>True</td>\n",
       "      <td>True</td>\n",
       "      <td>True</td>\n",
       "      <td>True</td>\n",
       "      <td>True</td>\n",
       "      <td>False</td>\n",
       "      <td>False</td>\n",
       "      <td>True</td>\n",
       "      <td>True</td>\n",
       "      <td>True</td>\n",
       "      <td>True</td>\n",
       "      <td>False</td>\n",
       "      <td>True</td>\n",
       "      <td>True</td>\n",
       "      <td>99</td>\n",
       "    </tr>\n",
       "    <tr>\n",
       "      <th>3</th>\n",
       "      <td>ppl_100004</td>\n",
       "      <td>type 2</td>\n",
       "      <td>group 22593</td>\n",
       "      <td>type 3</td>\n",
       "      <td>2022-07-20</td>\n",
       "      <td>type 40</td>\n",
       "      <td>type 25</td>\n",
       "      <td>type 9</td>\n",
       "      <td>type 4</td>\n",
       "      <td>type 16</td>\n",
       "      <td>type 2</td>\n",
       "      <td>type 2</td>\n",
       "      <td>True</td>\n",
       "      <td>True</td>\n",
       "      <td>True</td>\n",
       "      <td>True</td>\n",
       "      <td>True</td>\n",
       "      <td>False</td>\n",
       "      <td>True</td>\n",
       "      <td>True</td>\n",
       "      <td>True</td>\n",
       "      <td>True</td>\n",
       "      <td>True</td>\n",
       "      <td>True</td>\n",
       "      <td>True</td>\n",
       "      <td>True</td>\n",
       "      <td>False</td>\n",
       "      <td>True</td>\n",
       "      <td>True</td>\n",
       "      <td>True</td>\n",
       "      <td>True</td>\n",
       "      <td>True</td>\n",
       "      <td>True</td>\n",
       "      <td>True</td>\n",
       "      <td>True</td>\n",
       "      <td>True</td>\n",
       "      <td>True</td>\n",
       "      <td>True</td>\n",
       "      <td>True</td>\n",
       "      <td>True</td>\n",
       "      <td>76</td>\n",
       "    </tr>\n",
       "    <tr>\n",
       "      <th>4</th>\n",
       "      <td>ppl_100006</td>\n",
       "      <td>type 2</td>\n",
       "      <td>group 6534</td>\n",
       "      <td>type 3</td>\n",
       "      <td>2022-07-27</td>\n",
       "      <td>type 40</td>\n",
       "      <td>type 25</td>\n",
       "      <td>type 9</td>\n",
       "      <td>type 3</td>\n",
       "      <td>type 8</td>\n",
       "      <td>type 2</td>\n",
       "      <td>type 2</td>\n",
       "      <td>False</td>\n",
       "      <td>False</td>\n",
       "      <td>False</td>\n",
       "      <td>False</td>\n",
       "      <td>False</td>\n",
       "      <td>False</td>\n",
       "      <td>False</td>\n",
       "      <td>False</td>\n",
       "      <td>False</td>\n",
       "      <td>False</td>\n",
       "      <td>False</td>\n",
       "      <td>False</td>\n",
       "      <td>False</td>\n",
       "      <td>False</td>\n",
       "      <td>False</td>\n",
       "      <td>False</td>\n",
       "      <td>False</td>\n",
       "      <td>False</td>\n",
       "      <td>False</td>\n",
       "      <td>False</td>\n",
       "      <td>False</td>\n",
       "      <td>True</td>\n",
       "      <td>False</td>\n",
       "      <td>False</td>\n",
       "      <td>False</td>\n",
       "      <td>True</td>\n",
       "      <td>True</td>\n",
       "      <td>False</td>\n",
       "      <td>84</td>\n",
       "    </tr>\n",
       "  </tbody>\n",
       "</table>\n",
       "</div>"
      ],
      "text/plain": [
       "    people_id  char_1      group_1  char_2        date   char_3   char_4  \\\n",
       "0     ppl_100  type 2  group 17304  type 2  2021-06-29   type 5   type 5   \n",
       "1  ppl_100002  type 2   group 8688  type 3  2021-01-06  type 28   type 9   \n",
       "2  ppl_100003  type 2  group 33592  type 3  2022-06-10   type 4   type 8   \n",
       "3  ppl_100004  type 2  group 22593  type 3  2022-07-20  type 40  type 25   \n",
       "4  ppl_100006  type 2   group 6534  type 3  2022-07-27  type 40  type 25   \n",
       "\n",
       "   char_5  char_6   char_7  char_8  char_9  char_10  char_11  char_12  \\\n",
       "0  type 5  type 3  type 11  type 2  type 2     True    False    False   \n",
       "1  type 5  type 3  type 11  type 2  type 4    False    False     True   \n",
       "2  type 5  type 2   type 5  type 2  type 2     True     True     True   \n",
       "3  type 9  type 4  type 16  type 2  type 2     True     True     True   \n",
       "4  type 9  type 3   type 8  type 2  type 2    False    False    False   \n",
       "\n",
       "   char_13  char_14  char_15  char_16  char_17  char_18  char_19  char_20  \\\n",
       "0     True     True    False     True    False    False    False    False   \n",
       "1     True    False    False    False     True    False    False    False   \n",
       "2     True     True     True    False     True    False     True    False   \n",
       "3     True     True    False     True     True     True     True     True   \n",
       "4    False    False    False    False    False    False    False    False   \n",
       "\n",
       "   char_21  char_22  char_23  char_24  char_25  char_26  char_27  char_28  \\\n",
       "0     True    False    False    False    False    False     True     True   \n",
       "1    False    False     True    False     True     True     True    False   \n",
       "2     True     True     True     True     True     True     True     True   \n",
       "3     True     True     True    False     True     True     True     True   \n",
       "4    False    False    False    False    False    False    False    False   \n",
       "\n",
       "   char_29  char_30  char_31  char_32  char_33  char_34  char_35  char_36  \\\n",
       "0    False     True     True    False    False     True     True     True   \n",
       "1    False     True     True     True     True     True     True     True   \n",
       "2    False    False     True     True     True     True    False     True   \n",
       "3     True     True     True     True     True     True     True     True   \n",
       "4    False    False     True    False    False    False     True     True   \n",
       "\n",
       "   char_37  char_38  \n",
       "0    False       36  \n",
       "1    False       76  \n",
       "2     True       99  \n",
       "3     True       76  \n",
       "4    False       84  "
      ]
     },
     "execution_count": 76,
     "metadata": {},
     "output_type": "execute_result"
    }
   ],
   "source": [
    "people.head()"
   ]
  },
  {
   "cell_type": "code",
   "execution_count": 77,
   "metadata": {},
   "outputs": [
    {
     "data": {
      "text/plain": [
       "189118"
      ]
     },
     "execution_count": 77,
     "metadata": {},
     "output_type": "execute_result"
    }
   ],
   "source": [
    "len(people)"
   ]
  },
  {
   "cell_type": "markdown",
   "metadata": {},
   "source": [
    "### activity file"
   ]
  },
  {
   "cell_type": "markdown",
   "metadata": {},
   "source": [
    "> #### the unique activities (and the corresponding activity characteristics) that each person has performed over time.\n",
    "> #### Each row in the activity file represents a unique activity performed by a person on a certain date.\n",
    "> #### Each activity has a unique activity_id.\n",
    "> #### The activity file contains several different categories of activities.    \n",
    ">> ##### Type 1 activities are different from type 2-7 activities because there are more known characteristics associated with type 1 activities (nine in total) than type 2-7 activities (which have only one associated characteristic).\n",
    "> ####  All variables are categorical, with the exception of 'char_38' in the people file, which is a continuous numerical variable."
   ]
  },
  {
   "cell_type": "markdown",
   "metadata": {},
   "source": [
    "### act_Train"
   ]
  },
  {
   "cell_type": "code",
   "execution_count": 78,
   "metadata": {},
   "outputs": [
    {
     "name": "stdout",
     "output_type": "stream",
     "text": [
      "featue : people_id, type : object\n",
      "featue : activity_id, type : object\n",
      "featue : date, type : object\n",
      "featue : activity_category, type : object\n",
      "featue : char_1, type : object\n",
      "featue : char_2, type : object\n",
      "featue : char_3, type : object\n",
      "featue : char_4, type : object\n",
      "featue : char_5, type : object\n",
      "featue : char_6, type : object\n",
      "featue : char_7, type : object\n",
      "featue : char_8, type : object\n",
      "featue : char_9, type : object\n",
      "featue : char_10, type : object\n",
      "featue : outcome, type : int64\n"
     ]
    }
   ],
   "source": [
    "for column in act_Train.columns:\n",
    "    print ('featue : {}, type : {}'.format(column,act_Train[column].dtype))"
   ]
  },
  {
   "cell_type": "code",
   "execution_count": 79,
   "metadata": {},
   "outputs": [
    {
     "data": {
      "text/html": [
       "<div>\n",
       "<style scoped>\n",
       "    .dataframe tbody tr th:only-of-type {\n",
       "        vertical-align: middle;\n",
       "    }\n",
       "\n",
       "    .dataframe tbody tr th {\n",
       "        vertical-align: top;\n",
       "    }\n",
       "\n",
       "    .dataframe thead th {\n",
       "        text-align: right;\n",
       "    }\n",
       "</style>\n",
       "<table border=\"1\" class=\"dataframe\">\n",
       "  <thead>\n",
       "    <tr style=\"text-align: right;\">\n",
       "      <th></th>\n",
       "      <th>people_id</th>\n",
       "      <th>activity_id</th>\n",
       "      <th>date</th>\n",
       "      <th>activity_category</th>\n",
       "      <th>char_1</th>\n",
       "      <th>char_2</th>\n",
       "      <th>char_3</th>\n",
       "      <th>char_4</th>\n",
       "      <th>char_5</th>\n",
       "      <th>char_6</th>\n",
       "      <th>char_7</th>\n",
       "      <th>char_8</th>\n",
       "      <th>char_9</th>\n",
       "      <th>char_10</th>\n",
       "      <th>outcome</th>\n",
       "    </tr>\n",
       "  </thead>\n",
       "  <tbody>\n",
       "    <tr>\n",
       "      <th>0</th>\n",
       "      <td>ppl_100</td>\n",
       "      <td>act2_1734928</td>\n",
       "      <td>2023-08-26</td>\n",
       "      <td>type 4</td>\n",
       "      <td>NaN</td>\n",
       "      <td>NaN</td>\n",
       "      <td>NaN</td>\n",
       "      <td>NaN</td>\n",
       "      <td>NaN</td>\n",
       "      <td>NaN</td>\n",
       "      <td>NaN</td>\n",
       "      <td>NaN</td>\n",
       "      <td>NaN</td>\n",
       "      <td>type 76</td>\n",
       "      <td>0</td>\n",
       "    </tr>\n",
       "    <tr>\n",
       "      <th>1</th>\n",
       "      <td>ppl_100</td>\n",
       "      <td>act2_2434093</td>\n",
       "      <td>2022-09-27</td>\n",
       "      <td>type 2</td>\n",
       "      <td>NaN</td>\n",
       "      <td>NaN</td>\n",
       "      <td>NaN</td>\n",
       "      <td>NaN</td>\n",
       "      <td>NaN</td>\n",
       "      <td>NaN</td>\n",
       "      <td>NaN</td>\n",
       "      <td>NaN</td>\n",
       "      <td>NaN</td>\n",
       "      <td>type 1</td>\n",
       "      <td>0</td>\n",
       "    </tr>\n",
       "    <tr>\n",
       "      <th>2</th>\n",
       "      <td>ppl_100</td>\n",
       "      <td>act2_3404049</td>\n",
       "      <td>2022-09-27</td>\n",
       "      <td>type 2</td>\n",
       "      <td>NaN</td>\n",
       "      <td>NaN</td>\n",
       "      <td>NaN</td>\n",
       "      <td>NaN</td>\n",
       "      <td>NaN</td>\n",
       "      <td>NaN</td>\n",
       "      <td>NaN</td>\n",
       "      <td>NaN</td>\n",
       "      <td>NaN</td>\n",
       "      <td>type 1</td>\n",
       "      <td>0</td>\n",
       "    </tr>\n",
       "    <tr>\n",
       "      <th>3</th>\n",
       "      <td>ppl_100</td>\n",
       "      <td>act2_3651215</td>\n",
       "      <td>2023-08-04</td>\n",
       "      <td>type 2</td>\n",
       "      <td>NaN</td>\n",
       "      <td>NaN</td>\n",
       "      <td>NaN</td>\n",
       "      <td>NaN</td>\n",
       "      <td>NaN</td>\n",
       "      <td>NaN</td>\n",
       "      <td>NaN</td>\n",
       "      <td>NaN</td>\n",
       "      <td>NaN</td>\n",
       "      <td>type 1</td>\n",
       "      <td>0</td>\n",
       "    </tr>\n",
       "    <tr>\n",
       "      <th>4</th>\n",
       "      <td>ppl_100</td>\n",
       "      <td>act2_4109017</td>\n",
       "      <td>2023-08-26</td>\n",
       "      <td>type 2</td>\n",
       "      <td>NaN</td>\n",
       "      <td>NaN</td>\n",
       "      <td>NaN</td>\n",
       "      <td>NaN</td>\n",
       "      <td>NaN</td>\n",
       "      <td>NaN</td>\n",
       "      <td>NaN</td>\n",
       "      <td>NaN</td>\n",
       "      <td>NaN</td>\n",
       "      <td>type 1</td>\n",
       "      <td>0</td>\n",
       "    </tr>\n",
       "  </tbody>\n",
       "</table>\n",
       "</div>"
      ],
      "text/plain": [
       "  people_id   activity_id        date activity_category char_1 char_2 char_3  \\\n",
       "0   ppl_100  act2_1734928  2023-08-26            type 4    NaN    NaN    NaN   \n",
       "1   ppl_100  act2_2434093  2022-09-27            type 2    NaN    NaN    NaN   \n",
       "2   ppl_100  act2_3404049  2022-09-27            type 2    NaN    NaN    NaN   \n",
       "3   ppl_100  act2_3651215  2023-08-04            type 2    NaN    NaN    NaN   \n",
       "4   ppl_100  act2_4109017  2023-08-26            type 2    NaN    NaN    NaN   \n",
       "\n",
       "  char_4 char_5 char_6 char_7 char_8 char_9  char_10  outcome  \n",
       "0    NaN    NaN    NaN    NaN    NaN    NaN  type 76        0  \n",
       "1    NaN    NaN    NaN    NaN    NaN    NaN   type 1        0  \n",
       "2    NaN    NaN    NaN    NaN    NaN    NaN   type 1        0  \n",
       "3    NaN    NaN    NaN    NaN    NaN    NaN   type 1        0  \n",
       "4    NaN    NaN    NaN    NaN    NaN    NaN   type 1        0  "
      ]
     },
     "execution_count": 79,
     "metadata": {},
     "output_type": "execute_result"
    }
   ],
   "source": [
    "act_Train.head()"
   ]
  },
  {
   "cell_type": "markdown",
   "metadata": {},
   "source": [
    "### act_Test"
   ]
  },
  {
   "cell_type": "code",
   "execution_count": 80,
   "metadata": {},
   "outputs": [
    {
     "name": "stdout",
     "output_type": "stream",
     "text": [
      "featue : people_id, type : object\n",
      "featue : activity_id, type : object\n",
      "featue : date, type : object\n",
      "featue : activity_category, type : object\n",
      "featue : char_1, type : object\n",
      "featue : char_2, type : object\n",
      "featue : char_3, type : object\n",
      "featue : char_4, type : object\n",
      "featue : char_5, type : object\n",
      "featue : char_6, type : object\n",
      "featue : char_7, type : object\n",
      "featue : char_8, type : object\n",
      "featue : char_9, type : object\n",
      "featue : char_10, type : object\n"
     ]
    }
   ],
   "source": [
    "for column in act_Test.columns:\n",
    "    print ('featue : {}, type : {}'.format(column,act_Test[column].dtype))"
   ]
  },
  {
   "cell_type": "code",
   "execution_count": 81,
   "metadata": {
    "scrolled": true
   },
   "outputs": [
    {
     "data": {
      "text/html": [
       "<div>\n",
       "<style scoped>\n",
       "    .dataframe tbody tr th:only-of-type {\n",
       "        vertical-align: middle;\n",
       "    }\n",
       "\n",
       "    .dataframe tbody tr th {\n",
       "        vertical-align: top;\n",
       "    }\n",
       "\n",
       "    .dataframe thead th {\n",
       "        text-align: right;\n",
       "    }\n",
       "</style>\n",
       "<table border=\"1\" class=\"dataframe\">\n",
       "  <thead>\n",
       "    <tr style=\"text-align: right;\">\n",
       "      <th></th>\n",
       "      <th>people_id</th>\n",
       "      <th>activity_id</th>\n",
       "      <th>date</th>\n",
       "      <th>activity_category</th>\n",
       "      <th>char_1</th>\n",
       "      <th>char_2</th>\n",
       "      <th>char_3</th>\n",
       "      <th>char_4</th>\n",
       "      <th>char_5</th>\n",
       "      <th>char_6</th>\n",
       "      <th>char_7</th>\n",
       "      <th>char_8</th>\n",
       "      <th>char_9</th>\n",
       "      <th>char_10</th>\n",
       "    </tr>\n",
       "  </thead>\n",
       "  <tbody>\n",
       "    <tr>\n",
       "      <th>0</th>\n",
       "      <td>ppl_100004</td>\n",
       "      <td>act1_249281</td>\n",
       "      <td>2022-07-20</td>\n",
       "      <td>type 1</td>\n",
       "      <td>type 5</td>\n",
       "      <td>type 10</td>\n",
       "      <td>type 5</td>\n",
       "      <td>type 1</td>\n",
       "      <td>type 6</td>\n",
       "      <td>type 1</td>\n",
       "      <td>type 1</td>\n",
       "      <td>type 7</td>\n",
       "      <td>type 4</td>\n",
       "      <td>NaN</td>\n",
       "    </tr>\n",
       "    <tr>\n",
       "      <th>1</th>\n",
       "      <td>ppl_100004</td>\n",
       "      <td>act2_230855</td>\n",
       "      <td>2022-07-20</td>\n",
       "      <td>type 5</td>\n",
       "      <td>NaN</td>\n",
       "      <td>NaN</td>\n",
       "      <td>NaN</td>\n",
       "      <td>NaN</td>\n",
       "      <td>NaN</td>\n",
       "      <td>NaN</td>\n",
       "      <td>NaN</td>\n",
       "      <td>NaN</td>\n",
       "      <td>NaN</td>\n",
       "      <td>type 682</td>\n",
       "    </tr>\n",
       "    <tr>\n",
       "      <th>2</th>\n",
       "      <td>ppl_10001</td>\n",
       "      <td>act1_240724</td>\n",
       "      <td>2022-10-14</td>\n",
       "      <td>type 1</td>\n",
       "      <td>type 12</td>\n",
       "      <td>type 1</td>\n",
       "      <td>type 5</td>\n",
       "      <td>type 4</td>\n",
       "      <td>type 6</td>\n",
       "      <td>type 1</td>\n",
       "      <td>type 1</td>\n",
       "      <td>type 13</td>\n",
       "      <td>type 10</td>\n",
       "      <td>NaN</td>\n",
       "    </tr>\n",
       "    <tr>\n",
       "      <th>3</th>\n",
       "      <td>ppl_10001</td>\n",
       "      <td>act1_83552</td>\n",
       "      <td>2022-11-27</td>\n",
       "      <td>type 1</td>\n",
       "      <td>type 20</td>\n",
       "      <td>type 10</td>\n",
       "      <td>type 5</td>\n",
       "      <td>type 4</td>\n",
       "      <td>type 6</td>\n",
       "      <td>type 1</td>\n",
       "      <td>type 1</td>\n",
       "      <td>type 5</td>\n",
       "      <td>type 5</td>\n",
       "      <td>NaN</td>\n",
       "    </tr>\n",
       "    <tr>\n",
       "      <th>4</th>\n",
       "      <td>ppl_10001</td>\n",
       "      <td>act2_1043301</td>\n",
       "      <td>2022-10-15</td>\n",
       "      <td>type 5</td>\n",
       "      <td>NaN</td>\n",
       "      <td>NaN</td>\n",
       "      <td>NaN</td>\n",
       "      <td>NaN</td>\n",
       "      <td>NaN</td>\n",
       "      <td>NaN</td>\n",
       "      <td>NaN</td>\n",
       "      <td>NaN</td>\n",
       "      <td>NaN</td>\n",
       "      <td>type 3015</td>\n",
       "    </tr>\n",
       "  </tbody>\n",
       "</table>\n",
       "</div>"
      ],
      "text/plain": [
       "    people_id   activity_id        date activity_category   char_1   char_2  \\\n",
       "0  ppl_100004   act1_249281  2022-07-20            type 1   type 5  type 10   \n",
       "1  ppl_100004   act2_230855  2022-07-20            type 5      NaN      NaN   \n",
       "2   ppl_10001   act1_240724  2022-10-14            type 1  type 12   type 1   \n",
       "3   ppl_10001    act1_83552  2022-11-27            type 1  type 20  type 10   \n",
       "4   ppl_10001  act2_1043301  2022-10-15            type 5      NaN      NaN   \n",
       "\n",
       "   char_3  char_4  char_5  char_6  char_7   char_8   char_9    char_10  \n",
       "0  type 5  type 1  type 6  type 1  type 1   type 7   type 4        NaN  \n",
       "1     NaN     NaN     NaN     NaN     NaN      NaN      NaN   type 682  \n",
       "2  type 5  type 4  type 6  type 1  type 1  type 13  type 10        NaN  \n",
       "3  type 5  type 4  type 6  type 1  type 1   type 5   type 5        NaN  \n",
       "4     NaN     NaN     NaN     NaN     NaN      NaN      NaN  type 3015  "
      ]
     },
     "execution_count": 81,
     "metadata": {},
     "output_type": "execute_result"
    }
   ],
   "source": [
    "act_Test.head()"
   ]
  },
  {
   "cell_type": "markdown",
   "metadata": {},
   "source": [
    "> #### To develop a predictive model with this data, you will likely need to join the files together into a single data set.\n",
    "> #### The two files can be joined together using person_id as the common key."
   ]
  },
  {
   "cell_type": "markdown",
   "metadata": {},
   "source": [
    "### Load Python Package"
   ]
  },
  {
   "cell_type": "code",
   "execution_count": 82,
   "metadata": {},
   "outputs": [],
   "source": [
    "import numpy as np\n",
    "import matplotlib.pyplot as plt\n",
    "import matplotlib\n",
    "from datetime import datetime\n",
    "from datetime import date\n",
    "import seaborn as sns\n",
    "import statsmodels.api as sm\n",
    "import statsmodels.stats.api as sms\n",
    "import statsmodels.stats.stattools as stools\n",
    "import scipy as sp\n",
    "%matplotlib inline"
   ]
  },
  {
   "cell_type": "code",
   "execution_count": 83,
   "metadata": {},
   "outputs": [],
   "source": [
    "from sklearn.model_selection import cross_val_score\n",
    "from sklearn.model_selection import KFold\n",
    "from sklearn.preprocessing import LabelEncoder\n",
    "from sklearn.cluster import KMeans\n",
    "from sklearn.model_selection import train_test_split\n",
    "from scipy.stats import chisquare\n",
    "from sklearn.preprocessing import OneHotEncoder\n",
    "from sklearn.model_selection import GridSearchCV\n",
    "from sklearn.pipeline import Pipeline"
   ]
  },
  {
   "cell_type": "code",
   "execution_count": 84,
   "metadata": {},
   "outputs": [],
   "source": [
    "from sklearn.tree import DecisionTreeClassifier\n",
    "from sklearn.metrics import *\n",
    "from sklearn.ensemble import RandomForestClassifier\n",
    "from sklearn.linear_model import LogisticRegression\n",
    "from sklearn.ensemble import BaggingClassifier, GradientBoostingClassifier\n",
    "import xgboost\n",
    "import io\n",
    "import pydot\n",
    "from IPython.core.display import Image \n",
    "from sklearn.tree import export_graphviz"
   ]
  },
  {
   "cell_type": "code",
   "execution_count": 85,
   "metadata": {},
   "outputs": [],
   "source": [
    "# import numpy as np\n",
    "def ResetDataFrame(df, checkList):\n",
    "    for feature in df.columns:\n",
    "        if feature not in checkList:\n",
    "            if df[feature].dtype == 'object':\n",
    "                df[feature].fillna ('type 0', inplace = True)\n",
    "                df[feature] = df[feature].apply(lambda x:x.split(' ')[1]).astype(np.int32)\n",
    "            elif df[feature].dtype == 'bool':\n",
    "                df[feature] = df[feature].astype(np.int8)\n",
    "    return df"
   ]
  },
  {
   "cell_type": "code",
   "execution_count": 86,
   "metadata": {},
   "outputs": [],
   "source": [
    "def SetTime(df, timeFeature):\n",
    "    df[timeFeature] = pd.to_datetime(df[timeFeature])\n",
    "    df['year'] = df[timeFeature].dt.year\n",
    "    df['month'] = df[timeFeature].dt.month\n",
    "    df['day'] = df[timeFeature].dt.day\n",
    "    df['weekday'] = df[timeFeature].dt.weekday\n",
    "    df['weekend'] = ((df.weekday == 0) | (df.weekday == 6)).astype(int)\n",
    "    return df"
   ]
  },
  {
   "cell_type": "markdown",
   "metadata": {},
   "source": [
    "## Exploratory Data Analysis (EDA )¶"
   ]
  },
  {
   "cell_type": "markdown",
   "metadata": {},
   "source": [
    "#### people id in act_train data set"
   ]
  },
  {
   "cell_type": "code",
   "execution_count": 87,
   "metadata": {
    "scrolled": true
   },
   "outputs": [
    {
     "data": {
      "text/plain": [
       "2197291"
      ]
     },
     "execution_count": 87,
     "metadata": {},
     "output_type": "execute_result"
    }
   ],
   "source": [
    "len(act_Train)"
   ]
  },
  {
   "cell_type": "code",
   "execution_count": 88,
   "metadata": {},
   "outputs": [
    {
     "name": "stdout",
     "output_type": "stream",
     "text": [
      "Number of active people: 151295\n"
     ]
    }
   ],
   "source": [
    "print('Number of active people: {}'.format(act_Train['people_id'].nunique()))"
   ]
  },
  {
   "cell_type": "code",
   "execution_count": 89,
   "metadata": {
    "scrolled": false
   },
   "outputs": [
    {
     "data": {
      "text/plain": [
       "<matplotlib.axes._subplots.AxesSubplot at 0x1c30221240>"
      ]
     },
     "execution_count": 89,
     "metadata": {},
     "output_type": "execute_result"
    },
    {
     "name": "stderr",
     "output_type": "stream",
     "text": [
      "/Users/hyunyoun/anaconda3/lib/python3.6/site-packages/matplotlib/font_manager.py:1297: UserWarning: findfont: Font family ['nanumgothic'] not found. Falling back to DejaVu Sans\n",
      "  (prop.get_family(), self.defaultFamily[fontext]))\n"
     ]
    },
    {
     "data": {
      "image/png": "[encoded data removed]",
      "text/plain": [
       "<matplotlib.figure.Figure at 0x1c302211d0>"
      ]
     },
     "metadata": {},
     "output_type": "display_data"
    }
   ],
   "source": [
    "plt.figure(figsize=(10,5))\n",
    "act_Train['people_id'].value_counts()[:50].plot(kind = 'bar',title = 'count of activity by people_id in act_train data set')"
   ]
  },
  {
   "cell_type": "markdown",
   "metadata": {},
   "source": [
    "#### people id in act_test data set"
   ]
  },
  {
   "cell_type": "code",
   "execution_count": 90,
   "metadata": {},
   "outputs": [
    {
     "data": {
      "text/plain": [
       "498687"
      ]
     },
     "execution_count": 90,
     "metadata": {},
     "output_type": "execute_result"
    }
   ],
   "source": [
    "len(act_Test)"
   ]
  },
  {
   "cell_type": "code",
   "execution_count": 91,
   "metadata": {
    "scrolled": true
   },
   "outputs": [
    {
     "name": "stdout",
     "output_type": "stream",
     "text": [
      "Number of active people: 37823\n"
     ]
    }
   ],
   "source": [
    "print('Number of active people: {}'.format(act_Test['people_id'].nunique()))"
   ]
  },
  {
   "cell_type": "code",
   "execution_count": 92,
   "metadata": {
    "scrolled": false
   },
   "outputs": [
    {
     "data": {
      "text/plain": [
       "<matplotlib.axes._subplots.AxesSubplot at 0x1c1f4996d8>"
      ]
     },
     "execution_count": 92,
     "metadata": {},
     "output_type": "execute_result"
    },
    {
     "name": "stderr",
     "output_type": "stream",
     "text": [
      "/Users/hyunyoun/anaconda3/lib/python3.6/site-packages/matplotlib/font_manager.py:1297: UserWarning: findfont: Font family ['nanumgothic'] not found. Falling back to DejaVu Sans\n",
      "  (prop.get_family(), self.defaultFamily[fontext]))\n"
     ]
    },
    {
     "data": {
      "image/png": "[encoded data removed]",
      "text/plain": [
       "<matplotlib.figure.Figure at 0x1c1f499048>"
      ]
     },
     "metadata": {},
     "output_type": "display_data"
    }
   ],
   "source": [
    "plt.figure(figsize=(10,5))\n",
    "act_Test['people_id'].value_counts()[:50].plot(kind = 'bar',title = 'count of activity by people_id in act_test data set')"
   ]
  },
  {
   "cell_type": "markdown",
   "metadata": {},
   "source": [
    "### Split people data set wether train data set or test data set"
   ]
  },
  {
   "cell_type": "code",
   "execution_count": 93,
   "metadata": {},
   "outputs": [],
   "source": [
    "idx_train =list(act_Train['people_id'].value_counts().index)\n",
    "idx_test =list(act_Test['people_id'].value_counts().index)"
   ]
  },
  {
   "cell_type": "code",
   "execution_count": 94,
   "metadata": {},
   "outputs": [],
   "source": [
    "train_people = people.loc[people['people_id'].isin(idx_train)]\n",
    "test_people = people.loc[people['people_id'].isin(idx_test)]"
   ]
  },
  {
   "cell_type": "code",
   "execution_count": 95,
   "metadata": {},
   "outputs": [],
   "source": [
    "train_people.to_csv('./data/act_train_people.csv',index=False)\n",
    "test_people.to_csv('./data/act_test_people.csv',index=False)"
   ]
  },
  {
   "cell_type": "markdown",
   "metadata": {},
   "source": [
    "### group by people_id & outcome in people data set"
   ]
  },
  {
   "cell_type": "code",
   "execution_count": 96,
   "metadata": {},
   "outputs": [],
   "source": [
    "dfx = act_Train.groupby(['people_id','outcome']).size().unstack()\n",
    "dfx = dfx.fillna(0).astype(int)"
   ]
  },
  {
   "cell_type": "code",
   "execution_count": 97,
   "metadata": {
    "scrolled": true
   },
   "outputs": [],
   "source": [
    "only_1 = dfx[(dfx[0]==0) & (dfx[1]!=0)]\n",
    "only_0 = dfx[(dfx[0]!=0) & (dfx[1]==0)]\n",
    "mix__0or1 = dfx[(dfx[0]!=0) & (dfx[1]!=0)]\n",
    "totalCount = len(only_1.index) + len(only_0.index) + len(mix__0or1)"
   ]
  },
  {
   "cell_type": "code",
   "execution_count": 98,
   "metadata": {},
   "outputs": [],
   "source": [
    "only1 = len(only_1.index)/totalCount\n",
    "only0 = len(only_0.index)/totalCount\n",
    "mix = len(mix__0or1)/totalCount"
   ]
  },
  {
   "cell_type": "code",
   "execution_count": 99,
   "metadata": {},
   "outputs": [
    {
     "name": "stdout",
     "output_type": "stream",
     "text": [
      "only 1 : 62115, people probability : 0.4106\n",
      "only 0 : 82524 , people probability : 0.5455\n",
      "0 or 1 : 6656, , people probability : 0.0440\n"
     ]
    }
   ],
   "source": [
    "print ('only 1 : {0}, people probability : {1:0.4f}'.format(len(only_1.index), only1))\n",
    "print ('only 0 : {0} , people probability : {1:0.4f}'.format(len(only_0.index), only0))\n",
    "print ('0 or 1 : {0}, , people probability : {1:0.4f}'.format(len(mix__0or1), mix))"
   ]
  },
  {
   "cell_type": "markdown",
   "metadata": {},
   "source": [
    "### people_id & outcome in act_train data set"
   ]
  },
  {
   "cell_type": "code",
   "execution_count": 100,
   "metadata": {},
   "outputs": [],
   "source": [
    "train_people = pd.merge(train_people, dfx, left_on = 'people_id',right_index = True)"
   ]
  },
  {
   "cell_type": "code",
   "execution_count": 101,
   "metadata": {},
   "outputs": [],
   "source": [
    "train_people.rename(columns={0:'outcome_0',1:'outcome_1'}, inplace = True)"
   ]
  },
  {
   "cell_type": "code",
   "execution_count": 102,
   "metadata": {},
   "outputs": [],
   "source": [
    "def ax(x):\n",
    "    if x['outcome_0'] !=0 and x['outcome_1'] ==0:\n",
    "        return 0\n",
    "    elif x['outcome_0'] ==0 and x['outcome_1'] !=0:\n",
    "        return 1\n",
    "    else:\n",
    "        return 2"
   ]
  },
  {
   "cell_type": "code",
   "execution_count": 103,
   "metadata": {},
   "outputs": [],
   "source": [
    "train_people['result'] = train_people.apply(ax, axis = 1)"
   ]
  },
  {
   "cell_type": "code",
   "execution_count": 104,
   "metadata": {},
   "outputs": [],
   "source": [
    "x = train_people[['people_id','outcome_0','outcome_1']]\n",
    "x.set_index('people_id', inplace = True)\n",
    "x = x.loc[idx_train]"
   ]
  },
  {
   "cell_type": "code",
   "execution_count": 105,
   "metadata": {},
   "outputs": [
    {
     "data": {
      "text/plain": [
       "<matplotlib.axes._subplots.AxesSubplot at 0x1c21e48d68>"
      ]
     },
     "execution_count": 105,
     "metadata": {},
     "output_type": "execute_result"
    },
    {
     "name": "stderr",
     "output_type": "stream",
     "text": [
      "/Users/hyunyoun/anaconda3/lib/python3.6/site-packages/matplotlib/font_manager.py:1297: UserWarning: findfont: Font family ['nanumgothic'] not found. Falling back to DejaVu Sans\n",
      "  (prop.get_family(), self.defaultFamily[fontext]))\n"
     ]
    },
    {
     "data": {
      "text/plain": [
       "<matplotlib.figure.Figure at 0x1c21e52198>"
      ]
     },
     "metadata": {},
     "output_type": "display_data"
    },
    {
     "data": {
      "image/png": "[encoded data removed]",
      "text/plain": [
       "<matplotlib.figure.Figure at 0x1c2008def0>"
      ]
     },
     "metadata": {},
     "output_type": "display_data"
    }
   ],
   "source": [
    "plt.figure(figsize=(15,5))\n",
    "x[:50].plot(kind = 'bar')"
   ]
  },
  {
   "cell_type": "code",
   "execution_count": 106,
   "metadata": {},
   "outputs": [],
   "source": [
    "train_people.drop(['outcome_0','outcome_1'],inplace = True, axis = 1)"
   ]
  },
  {
   "cell_type": "code",
   "execution_count": 107,
   "metadata": {},
   "outputs": [
    {
     "data": {
      "text/plain": [
       "<matplotlib.axes._subplots.AxesSubplot at 0x1c22a0c550>"
      ]
     },
     "execution_count": 107,
     "metadata": {},
     "output_type": "execute_result"
    },
    {
     "name": "stderr",
     "output_type": "stream",
     "text": [
      "/Users/hyunyoun/anaconda3/lib/python3.6/site-packages/matplotlib/font_manager.py:1297: UserWarning: findfont: Font family ['nanumgothic'] not found. Falling back to DejaVu Sans\n",
      "  (prop.get_family(), self.defaultFamily[fontext]))\n"
     ]
    },
    {
     "data": {
      "image/png": "[encoded data removed]",
      "text/plain": [
       "<matplotlib.figure.Figure at 0x1c229b68d0>"
      ]
     },
     "metadata": {},
     "output_type": "display_data"
    }
   ],
   "source": [
    "train_people['result'].value_counts().plot(kind = 'bar',rot = 0)"
   ]
  },
  {
   "cell_type": "code",
   "execution_count": 108,
   "metadata": {},
   "outputs": [
    {
     "name": "stdout",
     "output_type": "stream",
     "text": [
      "819757 1069456 308078\n"
     ]
    }
   ],
   "source": [
    "only1_in_act = len(act_Train.loc[act_Train['people_id'].isin(only_1.index)])\n",
    "only0_in_act = len(act_Train.loc[act_Train['people_id'].isin(only_0.index)])\n",
    "mix_in_act = len(act_Train.loc[act_Train['people_id'].isin(mix__0or1.index)])\n",
    "print ('{} {} {}'.format(only1_in_act, only0_in_act, mix_in_act))"
   ]
  },
  {
   "cell_type": "code",
   "execution_count": 109,
   "metadata": {},
   "outputs": [],
   "source": [
    "x0 = pd.concat([act_Train.loc[act_Train['people_id'].isin(only_1.index)],act_Train.loc[act_Train['people_id'].isin(only_0.index)]])"
   ]
  },
  {
   "cell_type": "code",
   "execution_count": 169,
   "metadata": {},
   "outputs": [
    {
     "data": {
      "text/html": [
       "<div>\n",
       "<style scoped>\n",
       "    .dataframe tbody tr th:only-of-type {\n",
       "        vertical-align: middle;\n",
       "    }\n",
       "\n",
       "    .dataframe tbody tr th {\n",
       "        vertical-align: top;\n",
       "    }\n",
       "\n",
       "    .dataframe thead th {\n",
       "        text-align: right;\n",
       "    }\n",
       "</style>\n",
       "<table border=\"1\" class=\"dataframe\">\n",
       "  <thead>\n",
       "    <tr style=\"text-align: right;\">\n",
       "      <th></th>\n",
       "      <th>people_id</th>\n",
       "      <th>activity_id</th>\n",
       "      <th>activity_category</th>\n",
       "      <th>char_1</th>\n",
       "      <th>char_2</th>\n",
       "      <th>char_3</th>\n",
       "      <th>char_4</th>\n",
       "      <th>char_5</th>\n",
       "      <th>char_6</th>\n",
       "      <th>char_7</th>\n",
       "      <th>char_8</th>\n",
       "      <th>char_9</th>\n",
       "      <th>char_10</th>\n",
       "      <th>outcome</th>\n",
       "      <th>year</th>\n",
       "      <th>month</th>\n",
       "      <th>day</th>\n",
       "      <th>weekday</th>\n",
       "      <th>weekend</th>\n",
       "    </tr>\n",
       "  </thead>\n",
       "  <tbody>\n",
       "    <tr>\n",
       "      <th>6</th>\n",
       "      <td>ppl_100002</td>\n",
       "      <td>act2_1233489</td>\n",
       "      <td>2</td>\n",
       "      <td>0</td>\n",
       "      <td>0</td>\n",
       "      <td>0</td>\n",
       "      <td>0</td>\n",
       "      <td>0</td>\n",
       "      <td>0</td>\n",
       "      <td>0</td>\n",
       "      <td>0</td>\n",
       "      <td>0</td>\n",
       "      <td>1</td>\n",
       "      <td>1</td>\n",
       "      <td>2022</td>\n",
       "      <td>11</td>\n",
       "      <td>23</td>\n",
       "      <td>2</td>\n",
       "      <td>0</td>\n",
       "    </tr>\n",
       "    <tr>\n",
       "      <th>7</th>\n",
       "      <td>ppl_100002</td>\n",
       "      <td>act2_1623405</td>\n",
       "      <td>2</td>\n",
       "      <td>0</td>\n",
       "      <td>0</td>\n",
       "      <td>0</td>\n",
       "      <td>0</td>\n",
       "      <td>0</td>\n",
       "      <td>0</td>\n",
       "      <td>0</td>\n",
       "      <td>0</td>\n",
       "      <td>0</td>\n",
       "      <td>1</td>\n",
       "      <td>1</td>\n",
       "      <td>2022</td>\n",
       "      <td>11</td>\n",
       "      <td>23</td>\n",
       "      <td>2</td>\n",
       "      <td>0</td>\n",
       "    </tr>\n",
       "    <tr>\n",
       "      <th>8</th>\n",
       "      <td>ppl_100003</td>\n",
       "      <td>act2_1111598</td>\n",
       "      <td>2</td>\n",
       "      <td>0</td>\n",
       "      <td>0</td>\n",
       "      <td>0</td>\n",
       "      <td>0</td>\n",
       "      <td>0</td>\n",
       "      <td>0</td>\n",
       "      <td>0</td>\n",
       "      <td>0</td>\n",
       "      <td>0</td>\n",
       "      <td>1</td>\n",
       "      <td>1</td>\n",
       "      <td>2023</td>\n",
       "      <td>2</td>\n",
       "      <td>7</td>\n",
       "      <td>1</td>\n",
       "      <td>0</td>\n",
       "    </tr>\n",
       "    <tr>\n",
       "      <th>9</th>\n",
       "      <td>ppl_100003</td>\n",
       "      <td>act2_1177453</td>\n",
       "      <td>2</td>\n",
       "      <td>0</td>\n",
       "      <td>0</td>\n",
       "      <td>0</td>\n",
       "      <td>0</td>\n",
       "      <td>0</td>\n",
       "      <td>0</td>\n",
       "      <td>0</td>\n",
       "      <td>0</td>\n",
       "      <td>0</td>\n",
       "      <td>1</td>\n",
       "      <td>1</td>\n",
       "      <td>2023</td>\n",
       "      <td>6</td>\n",
       "      <td>28</td>\n",
       "      <td>2</td>\n",
       "      <td>0</td>\n",
       "    </tr>\n",
       "    <tr>\n",
       "      <th>10</th>\n",
       "      <td>ppl_100003</td>\n",
       "      <td>act2_133509</td>\n",
       "      <td>4</td>\n",
       "      <td>0</td>\n",
       "      <td>0</td>\n",
       "      <td>0</td>\n",
       "      <td>0</td>\n",
       "      <td>0</td>\n",
       "      <td>0</td>\n",
       "      <td>0</td>\n",
       "      <td>0</td>\n",
       "      <td>0</td>\n",
       "      <td>894</td>\n",
       "      <td>1</td>\n",
       "      <td>2022</td>\n",
       "      <td>8</td>\n",
       "      <td>10</td>\n",
       "      <td>2</td>\n",
       "      <td>0</td>\n",
       "    </tr>\n",
       "  </tbody>\n",
       "</table>\n",
       "</div>"
      ],
      "text/plain": [
       "     people_id   activity_id  activity_category  char_1  char_2  char_3  \\\n",
       "6   ppl_100002  act2_1233489                  2       0       0       0   \n",
       "7   ppl_100002  act2_1623405                  2       0       0       0   \n",
       "8   ppl_100003  act2_1111598                  2       0       0       0   \n",
       "9   ppl_100003  act2_1177453                  2       0       0       0   \n",
       "10  ppl_100003   act2_133509                  4       0       0       0   \n",
       "\n",
       "    char_4  char_5  char_6  char_7  char_8  char_9  char_10  outcome  year  \\\n",
       "6        0       0       0       0       0       0        1        1  2022   \n",
       "7        0       0       0       0       0       0        1        1  2022   \n",
       "8        0       0       0       0       0       0        1        1  2023   \n",
       "9        0       0       0       0       0       0        1        1  2023   \n",
       "10       0       0       0       0       0       0      894        1  2022   \n",
       "\n",
       "    month  day  weekday  weekend  \n",
       "6      11   23        2        0  \n",
       "7      11   23        2        0  \n",
       "8       2    7        1        0  \n",
       "9       6   28        2        0  \n",
       "10      8   10        2        0  "
      ]
     },
     "execution_count": 169,
     "metadata": {},
     "output_type": "execute_result"
    }
   ],
   "source": [
    "x0.head()"
   ]
  },
  {
   "cell_type": "code",
   "execution_count": 110,
   "metadata": {},
   "outputs": [],
   "source": [
    "list1 = ['people_id','activity_id','date', 'outcome']\n",
    "x0 = ResetDataFrame(x0, list1)\n",
    "x0 = SetTime(x0,'date')\n",
    "x0.drop('date',axis = 1,inplace = True)"
   ]
  },
  {
   "cell_type": "code",
   "execution_count": 174,
   "metadata": {},
   "outputs": [],
   "source": [
    "x_test0 = act_Test.drop(['people_id','activity_id'],axis = 1)"
   ]
  },
  {
   "cell_type": "code",
   "execution_count": 111,
   "metadata": {},
   "outputs": [],
   "source": [
    "x1 = act_Train.loc[act_Train['people_id'].isin(mix__0or1.index)]"
   ]
  },
  {
   "cell_type": "code",
   "execution_count": 112,
   "metadata": {
    "collapsed": true
   },
   "outputs": [
    {
     "name": "stderr",
     "output_type": "stream",
     "text": [
      "/Users/hyunyoun/anaconda3/lib/python3.6/site-packages/pandas/core/generic.py:4355: SettingWithCopyWarning: \n",
      "A value is trying to be set on a copy of a slice from a DataFrame\n",
      "\n",
      "See the caveats in the documentation: http://pandas.pydata.org/pandas-docs/stable/indexing.html#indexing-view-versus-copy\n",
      "  self._update_inplace(new_data)\n",
      "/Users/hyunyoun/anaconda3/lib/python3.6/site-packages/ipykernel_launcher.py:7: SettingWithCopyWarning: \n",
      "A value is trying to be set on a copy of a slice from a DataFrame.\n",
      "Try using .loc[row_indexer,col_indexer] = value instead\n",
      "\n",
      "See the caveats in the documentation: http://pandas.pydata.org/pandas-docs/stable/indexing.html#indexing-view-versus-copy\n",
      "  import sys\n",
      "/Users/hyunyoun/anaconda3/lib/python3.6/site-packages/ipykernel_launcher.py:2: SettingWithCopyWarning: \n",
      "A value is trying to be set on a copy of a slice from a DataFrame.\n",
      "Try using .loc[row_indexer,col_indexer] = value instead\n",
      "\n",
      "See the caveats in the documentation: http://pandas.pydata.org/pandas-docs/stable/indexing.html#indexing-view-versus-copy\n",
      "  \n",
      "/Users/hyunyoun/anaconda3/lib/python3.6/site-packages/ipykernel_launcher.py:3: SettingWithCopyWarning: \n",
      "A value is trying to be set on a copy of a slice from a DataFrame.\n",
      "Try using .loc[row_indexer,col_indexer] = value instead\n",
      "\n",
      "See the caveats in the documentation: http://pandas.pydata.org/pandas-docs/stable/indexing.html#indexing-view-versus-copy\n",
      "  This is separate from the ipykernel package so we can avoid doing imports until\n",
      "/Users/hyunyoun/anaconda3/lib/python3.6/site-packages/ipykernel_launcher.py:4: SettingWithCopyWarning: \n",
      "A value is trying to be set on a copy of a slice from a DataFrame.\n",
      "Try using .loc[row_indexer,col_indexer] = value instead\n",
      "\n",
      "See the caveats in the documentation: http://pandas.pydata.org/pandas-docs/stable/indexing.html#indexing-view-versus-copy\n",
      "  after removing the cwd from sys.path.\n",
      "/Users/hyunyoun/anaconda3/lib/python3.6/site-packages/ipykernel_launcher.py:5: SettingWithCopyWarning: \n",
      "A value is trying to be set on a copy of a slice from a DataFrame.\n",
      "Try using .loc[row_indexer,col_indexer] = value instead\n",
      "\n",
      "See the caveats in the documentation: http://pandas.pydata.org/pandas-docs/stable/indexing.html#indexing-view-versus-copy\n",
      "  \"\"\"\n",
      "/Users/hyunyoun/anaconda3/lib/python3.6/site-packages/ipykernel_launcher.py:6: SettingWithCopyWarning: \n",
      "A value is trying to be set on a copy of a slice from a DataFrame.\n",
      "Try using .loc[row_indexer,col_indexer] = value instead\n",
      "\n",
      "See the caveats in the documentation: http://pandas.pydata.org/pandas-docs/stable/indexing.html#indexing-view-versus-copy\n",
      "  \n",
      "/Users/hyunyoun/anaconda3/lib/python3.6/site-packages/ipykernel_launcher.py:4: SettingWithCopyWarning: \n",
      "A value is trying to be set on a copy of a slice from a DataFrame\n",
      "\n",
      "See the caveats in the documentation: http://pandas.pydata.org/pandas-docs/stable/indexing.html#indexing-view-versus-copy\n",
      "  after removing the cwd from sys.path.\n"
     ]
    }
   ],
   "source": [
    "list1 = ['people_id','activity_id','date', 'outcome']\n",
    "x1 = ResetDataFrame(x1, list1)\n",
    "x1 = SetTime(x1,'date')\n",
    "x1.drop('date',axis = 1,inplace = True)"
   ]
  },
  {
   "cell_type": "code",
   "execution_count": 113,
   "metadata": {},
   "outputs": [],
   "source": [
    "mX = x0.drop(['people_id','activity_id','outcome'],axis = 1)\n",
    "my = x0['outcome']\n",
    "mtX = x1.drop(['people_id','activity_id','outcome'],axis = 1)\n",
    "mty = x1['outcome']"
   ]
  },
  {
   "cell_type": "markdown",
   "metadata": {},
   "source": [
    "#### Logisitic regression"
   ]
  },
  {
   "cell_type": "code",
   "execution_count": 114,
   "metadata": {},
   "outputs": [],
   "source": [
    "lomodel = LogisticRegression(random_state=5).fit(mX, my)"
   ]
  },
  {
   "cell_type": "code",
   "execution_count": 115,
   "metadata": {},
   "outputs": [
    {
     "data": {
      "text/plain": [
       "array([ 0.50892625,  0.51574266,  0.51028954,  0.51457414,  0.51996235,\n",
       "        0.86951441,  0.87620099,  0.86720982,  0.51050086,  0.51793424])"
      ]
     },
     "execution_count": 115,
     "metadata": {},
     "output_type": "execute_result"
    }
   ],
   "source": [
    "cross_val_score(lomodel, mtX, mty, scoring=\"accuracy\", cv=10)"
   ]
  },
  {
   "cell_type": "markdown",
   "metadata": {},
   "source": [
    "#### Gradient Boost"
   ]
  },
  {
   "cell_type": "code",
   "execution_count": 116,
   "metadata": {},
   "outputs": [],
   "source": [
    "original_params0 = {'n_estimators': 15, 'max_depth': None, 'random_state': 2,\n",
    "                   'min_samples_split': 10000}\n",
    "original_params0.update({'learning_rate': 0.1, 'subsample': 0.5})"
   ]
  },
  {
   "cell_type": "code",
   "execution_count": 117,
   "metadata": {},
   "outputs": [
    {
     "data": {
      "text/plain": [
       "GradientBoostingClassifier(criterion='friedman_mse', init=None,\n",
       "              learning_rate=0.1, loss='deviance', max_depth=None,\n",
       "              max_features=None, max_leaf_nodes=None,\n",
       "              min_impurity_decrease=0.0, min_impurity_split=None,\n",
       "              min_samples_leaf=1, min_samples_split=10000,\n",
       "              min_weight_fraction_leaf=0.0, n_estimators=15,\n",
       "              presort='auto', random_state=2, subsample=0.5, verbose=0,\n",
       "              warm_start=False)"
      ]
     },
     "execution_count": 117,
     "metadata": {},
     "output_type": "execute_result"
    }
   ],
   "source": [
    "model_grad = GradientBoostingClassifier(**original_params0)\n",
    "model_grad.fit(mX, my)"
   ]
  },
  {
   "cell_type": "code",
   "execution_count": 118,
   "metadata": {},
   "outputs": [
    {
     "data": {
      "text/plain": [
       "array([ 0.50704363,  0.50344066,  0.50399247,  0.50623215,  0.53898338,\n",
       "        0.98850948,  0.96617762,  0.97591535,  0.73372935,  0.50563184])"
      ]
     },
     "execution_count": 118,
     "metadata": {},
     "output_type": "execute_result"
    }
   ],
   "source": [
    "cross_val_score(model_grad, mtX, mty, scoring=\"accuracy\", cv=10)"
   ]
  },
  {
   "cell_type": "code",
   "execution_count": 166,
   "metadata": {},
   "outputs": [],
   "source": [
    "grad_fi0 = sorted(zip(mX.columns,model_grad.feature_importances_),key=lambda x: x[1])[-10:]"
   ]
  },
  {
   "cell_type": "markdown",
   "metadata": {},
   "source": [
    "#### Random Forest"
   ]
  },
  {
   "cell_type": "code",
   "execution_count": 119,
   "metadata": {},
   "outputs": [],
   "source": [
    "original_params1 = {'n_estimators': 30, 'max_depth': None, 'random_state': 2,\n",
    "                   'min_samples_split': 10000}"
   ]
  },
  {
   "cell_type": "code",
   "execution_count": 120,
   "metadata": {},
   "outputs": [
    {
     "data": {
      "text/plain": [
       "RandomForestClassifier(bootstrap=True, class_weight=None, criterion='gini',\n",
       "            max_depth=None, max_features='auto', max_leaf_nodes=None,\n",
       "            min_impurity_decrease=0.0, min_impurity_split=None,\n",
       "            min_samples_leaf=1, min_samples_split=10000,\n",
       "            min_weight_fraction_leaf=0.0, n_estimators=30, n_jobs=1,\n",
       "            oob_score=False, random_state=2, verbose=0, warm_start=False)"
      ]
     },
     "execution_count": 120,
     "metadata": {},
     "output_type": "execute_result"
    }
   ],
   "source": [
    "rfmodel = RandomForestClassifier(**original_params1)\n",
    "rfmodel.fit(mX,my)"
   ]
  },
  {
   "cell_type": "code",
   "execution_count": 121,
   "metadata": {},
   "outputs": [
    {
     "data": {
      "text/plain": [
       "array([ 0.50619969,  0.50766035,  0.50717346,  0.50616723,  0.53622436,\n",
       "        0.99120358,  0.98951571,  0.99315113,  0.73265816,  0.50537216])"
      ]
     },
     "execution_count": 121,
     "metadata": {},
     "output_type": "execute_result"
    }
   ],
   "source": [
    "cross_val_score(rfmodel, mtX, mty, scoring=\"accuracy\", cv=10)"
   ]
  },
  {
   "cell_type": "code",
   "execution_count": 167,
   "metadata": {},
   "outputs": [],
   "source": [
    "rf_fi0 = sorted(zip(x_test.columns,rfmodel.feature_importances_),key=lambda x: x[1])[-10:]"
   ]
  },
  {
   "cell_type": "markdown",
   "metadata": {},
   "source": [
    "### Feature importance"
   ]
  },
  {
   "cell_type": "code",
   "execution_count": 168,
   "metadata": {},
   "outputs": [
    {
     "name": "stdout",
     "output_type": "stream",
     "text": [
      "gradient boost : char_5, 0.0080, randomforest : char_4_x, 0.0056\n",
      "gradient boost : char_4, 0.0086, randomforest : char_1_x, 0.0063\n",
      "gradient boost : char_2, 0.0091, randomforest : char_5_x, 0.0084\n",
      "gradient boost : char_1, 0.0103, randomforest : weekend_x, 0.0157\n",
      "gradient boost : weekday, 0.0170, randomforest : year_x, 0.0532\n",
      "gradient boost : weekend, 0.0174, randomforest : weekday_x, 0.0545\n",
      "gradient boost : activity_category, 0.0371, randomforest : day_x, 0.1142\n",
      "gradient boost : month, 0.0599, randomforest : month_x, 0.1229\n",
      "gradient boost : day, 0.0842, randomforest : activity_category, 0.2096\n",
      "gradient boost : char_10, 0.7231, randomforest : char_10_x, 0.3858\n"
     ]
    }
   ],
   "source": [
    "for idx in range(10):\n",
    "    print ('gradient boost : {0}, {1:0.4f}, randomforest : {2}, {3:0.4f}'.format(grad_fi0[idx][0],float(grad_fi0[idx][1]), rf_fi0[idx][0],float(rf_fi0[idx][1])))"
   ]
  },
  {
   "cell_type": "code",
   "execution_count": 181,
   "metadata": {},
   "outputs": [],
   "source": [
    "ypred = model_grad.predict(x_test0)\n",
    "output = pd.DataFrame({ 'activity_id' : act_Test['activity_id'], 'outcome': ypred })\n",
    "output.head()\n",
    "output.to_csv('sub_test0.csv', index = False)"
   ]
  },
  {
   "cell_type": "code",
   "execution_count": 182,
   "metadata": {},
   "outputs": [],
   "source": [
    "ypred = rfmodel.predict(x_test0)\n",
    "output = pd.DataFrame({ 'activity_id' : act_Test['activity_id'], 'outcome': ypred })\n",
    "output.head()\n",
    "output.to_csv('sub_test1.csv', index = False)"
   ]
  },
  {
   "cell_type": "markdown",
   "metadata": {},
   "source": [
    "auc : 0.572521"
   ]
  },
  {
   "cell_type": "markdown",
   "metadata": {},
   "source": [
    "### Classification"
   ]
  },
  {
   "cell_type": "markdown",
   "metadata": {},
   "source": [
    "#### Train data"
   ]
  },
  {
   "cell_type": "code",
   "execution_count": 122,
   "metadata": {},
   "outputs": [],
   "source": [
    "list1 = ['people_id','activity_id','date', 'outcome']\n",
    "act_Train = ResetDataFrame(act_Train, list1)\n",
    "act_Train = SetTime(act_Train,'date')\n",
    "act_Train.drop('date',axis = 1,inplace = True)"
   ]
  },
  {
   "cell_type": "code",
   "execution_count": 123,
   "metadata": {},
   "outputs": [
    {
     "data": {
      "text/html": [
       "<div>\n",
       "<style scoped>\n",
       "    .dataframe tbody tr th:only-of-type {\n",
       "        vertical-align: middle;\n",
       "    }\n",
       "\n",
       "    .dataframe tbody tr th {\n",
       "        vertical-align: top;\n",
       "    }\n",
       "\n",
       "    .dataframe thead th {\n",
       "        text-align: right;\n",
       "    }\n",
       "</style>\n",
       "<table border=\"1\" class=\"dataframe\">\n",
       "  <thead>\n",
       "    <tr style=\"text-align: right;\">\n",
       "      <th></th>\n",
       "      <th>people_id</th>\n",
       "      <th>char_1</th>\n",
       "      <th>group_1</th>\n",
       "      <th>char_2</th>\n",
       "      <th>date</th>\n",
       "      <th>char_3</th>\n",
       "      <th>char_4</th>\n",
       "      <th>char_5</th>\n",
       "      <th>char_6</th>\n",
       "      <th>char_7</th>\n",
       "      <th>char_8</th>\n",
       "      <th>char_9</th>\n",
       "      <th>char_10</th>\n",
       "      <th>char_11</th>\n",
       "      <th>char_12</th>\n",
       "      <th>char_13</th>\n",
       "      <th>char_14</th>\n",
       "      <th>char_15</th>\n",
       "      <th>char_16</th>\n",
       "      <th>char_17</th>\n",
       "      <th>char_18</th>\n",
       "      <th>char_19</th>\n",
       "      <th>char_20</th>\n",
       "      <th>char_21</th>\n",
       "      <th>char_22</th>\n",
       "      <th>char_23</th>\n",
       "      <th>char_24</th>\n",
       "      <th>char_25</th>\n",
       "      <th>char_26</th>\n",
       "      <th>char_27</th>\n",
       "      <th>char_28</th>\n",
       "      <th>char_29</th>\n",
       "      <th>char_30</th>\n",
       "      <th>char_31</th>\n",
       "      <th>char_32</th>\n",
       "      <th>char_33</th>\n",
       "      <th>char_34</th>\n",
       "      <th>char_35</th>\n",
       "      <th>char_36</th>\n",
       "      <th>char_37</th>\n",
       "      <th>char_38</th>\n",
       "    </tr>\n",
       "  </thead>\n",
       "  <tbody>\n",
       "    <tr>\n",
       "      <th>0</th>\n",
       "      <td>ppl_100</td>\n",
       "      <td>type 2</td>\n",
       "      <td>group 17304</td>\n",
       "      <td>type 2</td>\n",
       "      <td>2021-06-29</td>\n",
       "      <td>type 5</td>\n",
       "      <td>type 5</td>\n",
       "      <td>type 5</td>\n",
       "      <td>type 3</td>\n",
       "      <td>type 11</td>\n",
       "      <td>type 2</td>\n",
       "      <td>type 2</td>\n",
       "      <td>True</td>\n",
       "      <td>False</td>\n",
       "      <td>False</td>\n",
       "      <td>True</td>\n",
       "      <td>True</td>\n",
       "      <td>False</td>\n",
       "      <td>True</td>\n",
       "      <td>False</td>\n",
       "      <td>False</td>\n",
       "      <td>False</td>\n",
       "      <td>False</td>\n",
       "      <td>True</td>\n",
       "      <td>False</td>\n",
       "      <td>False</td>\n",
       "      <td>False</td>\n",
       "      <td>False</td>\n",
       "      <td>False</td>\n",
       "      <td>True</td>\n",
       "      <td>True</td>\n",
       "      <td>False</td>\n",
       "      <td>True</td>\n",
       "      <td>True</td>\n",
       "      <td>False</td>\n",
       "      <td>False</td>\n",
       "      <td>True</td>\n",
       "      <td>True</td>\n",
       "      <td>True</td>\n",
       "      <td>False</td>\n",
       "      <td>36</td>\n",
       "    </tr>\n",
       "    <tr>\n",
       "      <th>1</th>\n",
       "      <td>ppl_100002</td>\n",
       "      <td>type 2</td>\n",
       "      <td>group 8688</td>\n",
       "      <td>type 3</td>\n",
       "      <td>2021-01-06</td>\n",
       "      <td>type 28</td>\n",
       "      <td>type 9</td>\n",
       "      <td>type 5</td>\n",
       "      <td>type 3</td>\n",
       "      <td>type 11</td>\n",
       "      <td>type 2</td>\n",
       "      <td>type 4</td>\n",
       "      <td>False</td>\n",
       "      <td>False</td>\n",
       "      <td>True</td>\n",
       "      <td>True</td>\n",
       "      <td>False</td>\n",
       "      <td>False</td>\n",
       "      <td>False</td>\n",
       "      <td>True</td>\n",
       "      <td>False</td>\n",
       "      <td>False</td>\n",
       "      <td>False</td>\n",
       "      <td>False</td>\n",
       "      <td>False</td>\n",
       "      <td>True</td>\n",
       "      <td>False</td>\n",
       "      <td>True</td>\n",
       "      <td>True</td>\n",
       "      <td>True</td>\n",
       "      <td>False</td>\n",
       "      <td>False</td>\n",
       "      <td>True</td>\n",
       "      <td>True</td>\n",
       "      <td>True</td>\n",
       "      <td>True</td>\n",
       "      <td>True</td>\n",
       "      <td>True</td>\n",
       "      <td>True</td>\n",
       "      <td>False</td>\n",
       "      <td>76</td>\n",
       "    </tr>\n",
       "    <tr>\n",
       "      <th>2</th>\n",
       "      <td>ppl_100003</td>\n",
       "      <td>type 2</td>\n",
       "      <td>group 33592</td>\n",
       "      <td>type 3</td>\n",
       "      <td>2022-06-10</td>\n",
       "      <td>type 4</td>\n",
       "      <td>type 8</td>\n",
       "      <td>type 5</td>\n",
       "      <td>type 2</td>\n",
       "      <td>type 5</td>\n",
       "      <td>type 2</td>\n",
       "      <td>type 2</td>\n",
       "      <td>True</td>\n",
       "      <td>True</td>\n",
       "      <td>True</td>\n",
       "      <td>True</td>\n",
       "      <td>True</td>\n",
       "      <td>True</td>\n",
       "      <td>False</td>\n",
       "      <td>True</td>\n",
       "      <td>False</td>\n",
       "      <td>True</td>\n",
       "      <td>False</td>\n",
       "      <td>True</td>\n",
       "      <td>True</td>\n",
       "      <td>True</td>\n",
       "      <td>True</td>\n",
       "      <td>True</td>\n",
       "      <td>True</td>\n",
       "      <td>True</td>\n",
       "      <td>True</td>\n",
       "      <td>False</td>\n",
       "      <td>False</td>\n",
       "      <td>True</td>\n",
       "      <td>True</td>\n",
       "      <td>True</td>\n",
       "      <td>True</td>\n",
       "      <td>False</td>\n",
       "      <td>True</td>\n",
       "      <td>True</td>\n",
       "      <td>99</td>\n",
       "    </tr>\n",
       "    <tr>\n",
       "      <th>3</th>\n",
       "      <td>ppl_100004</td>\n",
       "      <td>type 2</td>\n",
       "      <td>group 22593</td>\n",
       "      <td>type 3</td>\n",
       "      <td>2022-07-20</td>\n",
       "      <td>type 40</td>\n",
       "      <td>type 25</td>\n",
       "      <td>type 9</td>\n",
       "      <td>type 4</td>\n",
       "      <td>type 16</td>\n",
       "      <td>type 2</td>\n",
       "      <td>type 2</td>\n",
       "      <td>True</td>\n",
       "      <td>True</td>\n",
       "      <td>True</td>\n",
       "      <td>True</td>\n",
       "      <td>True</td>\n",
       "      <td>False</td>\n",
       "      <td>True</td>\n",
       "      <td>True</td>\n",
       "      <td>True</td>\n",
       "      <td>True</td>\n",
       "      <td>True</td>\n",
       "      <td>True</td>\n",
       "      <td>True</td>\n",
       "      <td>True</td>\n",
       "      <td>False</td>\n",
       "      <td>True</td>\n",
       "      <td>True</td>\n",
       "      <td>True</td>\n",
       "      <td>True</td>\n",
       "      <td>True</td>\n",
       "      <td>True</td>\n",
       "      <td>True</td>\n",
       "      <td>True</td>\n",
       "      <td>True</td>\n",
       "      <td>True</td>\n",
       "      <td>True</td>\n",
       "      <td>True</td>\n",
       "      <td>True</td>\n",
       "      <td>76</td>\n",
       "    </tr>\n",
       "    <tr>\n",
       "      <th>4</th>\n",
       "      <td>ppl_100006</td>\n",
       "      <td>type 2</td>\n",
       "      <td>group 6534</td>\n",
       "      <td>type 3</td>\n",
       "      <td>2022-07-27</td>\n",
       "      <td>type 40</td>\n",
       "      <td>type 25</td>\n",
       "      <td>type 9</td>\n",
       "      <td>type 3</td>\n",
       "      <td>type 8</td>\n",
       "      <td>type 2</td>\n",
       "      <td>type 2</td>\n",
       "      <td>False</td>\n",
       "      <td>False</td>\n",
       "      <td>False</td>\n",
       "      <td>False</td>\n",
       "      <td>False</td>\n",
       "      <td>False</td>\n",
       "      <td>False</td>\n",
       "      <td>False</td>\n",
       "      <td>False</td>\n",
       "      <td>False</td>\n",
       "      <td>False</td>\n",
       "      <td>False</td>\n",
       "      <td>False</td>\n",
       "      <td>False</td>\n",
       "      <td>False</td>\n",
       "      <td>False</td>\n",
       "      <td>False</td>\n",
       "      <td>False</td>\n",
       "      <td>False</td>\n",
       "      <td>False</td>\n",
       "      <td>False</td>\n",
       "      <td>True</td>\n",
       "      <td>False</td>\n",
       "      <td>False</td>\n",
       "      <td>False</td>\n",
       "      <td>True</td>\n",
       "      <td>True</td>\n",
       "      <td>False</td>\n",
       "      <td>84</td>\n",
       "    </tr>\n",
       "  </tbody>\n",
       "</table>\n",
       "</div>"
      ],
      "text/plain": [
       "    people_id  char_1      group_1  char_2        date   char_3   char_4  \\\n",
       "0     ppl_100  type 2  group 17304  type 2  2021-06-29   type 5   type 5   \n",
       "1  ppl_100002  type 2   group 8688  type 3  2021-01-06  type 28   type 9   \n",
       "2  ppl_100003  type 2  group 33592  type 3  2022-06-10   type 4   type 8   \n",
       "3  ppl_100004  type 2  group 22593  type 3  2022-07-20  type 40  type 25   \n",
       "4  ppl_100006  type 2   group 6534  type 3  2022-07-27  type 40  type 25   \n",
       "\n",
       "   char_5  char_6   char_7  char_8  char_9  char_10  char_11  char_12  \\\n",
       "0  type 5  type 3  type 11  type 2  type 2     True    False    False   \n",
       "1  type 5  type 3  type 11  type 2  type 4    False    False     True   \n",
       "2  type 5  type 2   type 5  type 2  type 2     True     True     True   \n",
       "3  type 9  type 4  type 16  type 2  type 2     True     True     True   \n",
       "4  type 9  type 3   type 8  type 2  type 2    False    False    False   \n",
       "\n",
       "   char_13  char_14  char_15  char_16  char_17  char_18  char_19  char_20  \\\n",
       "0     True     True    False     True    False    False    False    False   \n",
       "1     True    False    False    False     True    False    False    False   \n",
       "2     True     True     True    False     True    False     True    False   \n",
       "3     True     True    False     True     True     True     True     True   \n",
       "4    False    False    False    False    False    False    False    False   \n",
       "\n",
       "   char_21  char_22  char_23  char_24  char_25  char_26  char_27  char_28  \\\n",
       "0     True    False    False    False    False    False     True     True   \n",
       "1    False    False     True    False     True     True     True    False   \n",
       "2     True     True     True     True     True     True     True     True   \n",
       "3     True     True     True    False     True     True     True     True   \n",
       "4    False    False    False    False    False    False    False    False   \n",
       "\n",
       "   char_29  char_30  char_31  char_32  char_33  char_34  char_35  char_36  \\\n",
       "0    False     True     True    False    False     True     True     True   \n",
       "1    False     True     True     True     True     True     True     True   \n",
       "2    False    False     True     True     True     True    False     True   \n",
       "3     True     True     True     True     True     True     True     True   \n",
       "4    False    False     True    False    False    False     True     True   \n",
       "\n",
       "   char_37  char_38  \n",
       "0    False       36  \n",
       "1    False       76  \n",
       "2     True       99  \n",
       "3     True       76  \n",
       "4    False       84  "
      ]
     },
     "execution_count": 123,
     "metadata": {},
     "output_type": "execute_result"
    }
   ],
   "source": [
    "people.head()"
   ]
  },
  {
   "cell_type": "code",
   "execution_count": 124,
   "metadata": {},
   "outputs": [],
   "source": [
    "list1 = ['people_id','date','char_38']\n",
    "people = ResetDataFrame(people, list1)\n",
    "people = SetTime(people,'date')\n",
    "people.drop('date',axis = 1,inplace = True)"
   ]
  },
  {
   "cell_type": "code",
   "execution_count": 125,
   "metadata": {},
   "outputs": [
    {
     "data": {
      "text/html": [
       "<div>\n",
       "<style scoped>\n",
       "    .dataframe tbody tr th:only-of-type {\n",
       "        vertical-align: middle;\n",
       "    }\n",
       "\n",
       "    .dataframe tbody tr th {\n",
       "        vertical-align: top;\n",
       "    }\n",
       "\n",
       "    .dataframe thead th {\n",
       "        text-align: right;\n",
       "    }\n",
       "</style>\n",
       "<table border=\"1\" class=\"dataframe\">\n",
       "  <thead>\n",
       "    <tr style=\"text-align: right;\">\n",
       "      <th></th>\n",
       "      <th>people_id</th>\n",
       "      <th>activity_id</th>\n",
       "      <th>activity_category</th>\n",
       "      <th>char_1_x</th>\n",
       "      <th>char_2_x</th>\n",
       "      <th>char_3_x</th>\n",
       "      <th>char_4_x</th>\n",
       "      <th>char_5_x</th>\n",
       "      <th>char_6_x</th>\n",
       "      <th>char_7_x</th>\n",
       "      <th>char_8_x</th>\n",
       "      <th>char_9_x</th>\n",
       "      <th>char_10_x</th>\n",
       "      <th>outcome</th>\n",
       "      <th>year_x</th>\n",
       "      <th>month_x</th>\n",
       "      <th>day_x</th>\n",
       "      <th>weekday_x</th>\n",
       "      <th>weekend_x</th>\n",
       "      <th>char_1_y</th>\n",
       "      <th>group_1</th>\n",
       "      <th>char_2_y</th>\n",
       "      <th>char_3_y</th>\n",
       "      <th>char_4_y</th>\n",
       "      <th>char_5_y</th>\n",
       "      <th>char_6_y</th>\n",
       "      <th>char_7_y</th>\n",
       "      <th>char_8_y</th>\n",
       "      <th>char_9_y</th>\n",
       "      <th>char_10_y</th>\n",
       "      <th>...</th>\n",
       "      <th>char_14</th>\n",
       "      <th>char_15</th>\n",
       "      <th>char_16</th>\n",
       "      <th>char_17</th>\n",
       "      <th>char_18</th>\n",
       "      <th>char_19</th>\n",
       "      <th>char_20</th>\n",
       "      <th>char_21</th>\n",
       "      <th>char_22</th>\n",
       "      <th>char_23</th>\n",
       "      <th>char_24</th>\n",
       "      <th>char_25</th>\n",
       "      <th>char_26</th>\n",
       "      <th>char_27</th>\n",
       "      <th>char_28</th>\n",
       "      <th>char_29</th>\n",
       "      <th>char_30</th>\n",
       "      <th>char_31</th>\n",
       "      <th>char_32</th>\n",
       "      <th>char_33</th>\n",
       "      <th>char_34</th>\n",
       "      <th>char_35</th>\n",
       "      <th>char_36</th>\n",
       "      <th>char_37</th>\n",
       "      <th>char_38</th>\n",
       "      <th>year_y</th>\n",
       "      <th>month_y</th>\n",
       "      <th>day_y</th>\n",
       "      <th>weekday_y</th>\n",
       "      <th>weekend_y</th>\n",
       "    </tr>\n",
       "  </thead>\n",
       "  <tbody>\n",
       "    <tr>\n",
       "      <th>2197286</th>\n",
       "      <td>ppl_99994</td>\n",
       "      <td>act2_4668076</td>\n",
       "      <td>4</td>\n",
       "      <td>0</td>\n",
       "      <td>0</td>\n",
       "      <td>0</td>\n",
       "      <td>0</td>\n",
       "      <td>0</td>\n",
       "      <td>0</td>\n",
       "      <td>0</td>\n",
       "      <td>0</td>\n",
       "      <td>0</td>\n",
       "      <td>418</td>\n",
       "      <td>1</td>\n",
       "      <td>2023</td>\n",
       "      <td>6</td>\n",
       "      <td>16</td>\n",
       "      <td>4</td>\n",
       "      <td>0</td>\n",
       "      <td>2</td>\n",
       "      <td>17764</td>\n",
       "      <td>3</td>\n",
       "      <td>2</td>\n",
       "      <td>7</td>\n",
       "      <td>2</td>\n",
       "      <td>1</td>\n",
       "      <td>2</td>\n",
       "      <td>2</td>\n",
       "      <td>2</td>\n",
       "      <td>1</td>\n",
       "      <td>...</td>\n",
       "      <td>1</td>\n",
       "      <td>1</td>\n",
       "      <td>1</td>\n",
       "      <td>1</td>\n",
       "      <td>1</td>\n",
       "      <td>1</td>\n",
       "      <td>1</td>\n",
       "      <td>1</td>\n",
       "      <td>1</td>\n",
       "      <td>1</td>\n",
       "      <td>1</td>\n",
       "      <td>1</td>\n",
       "      <td>1</td>\n",
       "      <td>1</td>\n",
       "      <td>1</td>\n",
       "      <td>1</td>\n",
       "      <td>1</td>\n",
       "      <td>1</td>\n",
       "      <td>1</td>\n",
       "      <td>0</td>\n",
       "      <td>1</td>\n",
       "      <td>1</td>\n",
       "      <td>1</td>\n",
       "      <td>1</td>\n",
       "      <td>95</td>\n",
       "      <td>2023</td>\n",
       "      <td>1</td>\n",
       "      <td>6</td>\n",
       "      <td>4</td>\n",
       "      <td>0</td>\n",
       "    </tr>\n",
       "    <tr>\n",
       "      <th>2197287</th>\n",
       "      <td>ppl_99994</td>\n",
       "      <td>act2_4743548</td>\n",
       "      <td>4</td>\n",
       "      <td>0</td>\n",
       "      <td>0</td>\n",
       "      <td>0</td>\n",
       "      <td>0</td>\n",
       "      <td>0</td>\n",
       "      <td>0</td>\n",
       "      <td>0</td>\n",
       "      <td>0</td>\n",
       "      <td>0</td>\n",
       "      <td>1832</td>\n",
       "      <td>1</td>\n",
       "      <td>2023</td>\n",
       "      <td>3</td>\n",
       "      <td>30</td>\n",
       "      <td>3</td>\n",
       "      <td>0</td>\n",
       "      <td>2</td>\n",
       "      <td>17764</td>\n",
       "      <td>3</td>\n",
       "      <td>2</td>\n",
       "      <td>7</td>\n",
       "      <td>2</td>\n",
       "      <td>1</td>\n",
       "      <td>2</td>\n",
       "      <td>2</td>\n",
       "      <td>2</td>\n",
       "      <td>1</td>\n",
       "      <td>...</td>\n",
       "      <td>1</td>\n",
       "      <td>1</td>\n",
       "      <td>1</td>\n",
       "      <td>1</td>\n",
       "      <td>1</td>\n",
       "      <td>1</td>\n",
       "      <td>1</td>\n",
       "      <td>1</td>\n",
       "      <td>1</td>\n",
       "      <td>1</td>\n",
       "      <td>1</td>\n",
       "      <td>1</td>\n",
       "      <td>1</td>\n",
       "      <td>1</td>\n",
       "      <td>1</td>\n",
       "      <td>1</td>\n",
       "      <td>1</td>\n",
       "      <td>1</td>\n",
       "      <td>1</td>\n",
       "      <td>0</td>\n",
       "      <td>1</td>\n",
       "      <td>1</td>\n",
       "      <td>1</td>\n",
       "      <td>1</td>\n",
       "      <td>95</td>\n",
       "      <td>2023</td>\n",
       "      <td>1</td>\n",
       "      <td>6</td>\n",
       "      <td>4</td>\n",
       "      <td>0</td>\n",
       "    </tr>\n",
       "    <tr>\n",
       "      <th>2197288</th>\n",
       "      <td>ppl_99994</td>\n",
       "      <td>act2_536973</td>\n",
       "      <td>2</td>\n",
       "      <td>0</td>\n",
       "      <td>0</td>\n",
       "      <td>0</td>\n",
       "      <td>0</td>\n",
       "      <td>0</td>\n",
       "      <td>0</td>\n",
       "      <td>0</td>\n",
       "      <td>0</td>\n",
       "      <td>0</td>\n",
       "      <td>1</td>\n",
       "      <td>1</td>\n",
       "      <td>2023</td>\n",
       "      <td>1</td>\n",
       "      <td>19</td>\n",
       "      <td>3</td>\n",
       "      <td>0</td>\n",
       "      <td>2</td>\n",
       "      <td>17764</td>\n",
       "      <td>3</td>\n",
       "      <td>2</td>\n",
       "      <td>7</td>\n",
       "      <td>2</td>\n",
       "      <td>1</td>\n",
       "      <td>2</td>\n",
       "      <td>2</td>\n",
       "      <td>2</td>\n",
       "      <td>1</td>\n",
       "      <td>...</td>\n",
       "      <td>1</td>\n",
       "      <td>1</td>\n",
       "      <td>1</td>\n",
       "      <td>1</td>\n",
       "      <td>1</td>\n",
       "      <td>1</td>\n",
       "      <td>1</td>\n",
       "      <td>1</td>\n",
       "      <td>1</td>\n",
       "      <td>1</td>\n",
       "      <td>1</td>\n",
       "      <td>1</td>\n",
       "      <td>1</td>\n",
       "      <td>1</td>\n",
       "      <td>1</td>\n",
       "      <td>1</td>\n",
       "      <td>1</td>\n",
       "      <td>1</td>\n",
       "      <td>1</td>\n",
       "      <td>0</td>\n",
       "      <td>1</td>\n",
       "      <td>1</td>\n",
       "      <td>1</td>\n",
       "      <td>1</td>\n",
       "      <td>95</td>\n",
       "      <td>2023</td>\n",
       "      <td>1</td>\n",
       "      <td>6</td>\n",
       "      <td>4</td>\n",
       "      <td>0</td>\n",
       "    </tr>\n",
       "    <tr>\n",
       "      <th>2197289</th>\n",
       "      <td>ppl_99994</td>\n",
       "      <td>act2_688656</td>\n",
       "      <td>4</td>\n",
       "      <td>0</td>\n",
       "      <td>0</td>\n",
       "      <td>0</td>\n",
       "      <td>0</td>\n",
       "      <td>0</td>\n",
       "      <td>0</td>\n",
       "      <td>0</td>\n",
       "      <td>0</td>\n",
       "      <td>0</td>\n",
       "      <td>199</td>\n",
       "      <td>1</td>\n",
       "      <td>2023</td>\n",
       "      <td>5</td>\n",
       "      <td>2</td>\n",
       "      <td>1</td>\n",
       "      <td>0</td>\n",
       "      <td>2</td>\n",
       "      <td>17764</td>\n",
       "      <td>3</td>\n",
       "      <td>2</td>\n",
       "      <td>7</td>\n",
       "      <td>2</td>\n",
       "      <td>1</td>\n",
       "      <td>2</td>\n",
       "      <td>2</td>\n",
       "      <td>2</td>\n",
       "      <td>1</td>\n",
       "      <td>...</td>\n",
       "      <td>1</td>\n",
       "      <td>1</td>\n",
       "      <td>1</td>\n",
       "      <td>1</td>\n",
       "      <td>1</td>\n",
       "      <td>1</td>\n",
       "      <td>1</td>\n",
       "      <td>1</td>\n",
       "      <td>1</td>\n",
       "      <td>1</td>\n",
       "      <td>1</td>\n",
       "      <td>1</td>\n",
       "      <td>1</td>\n",
       "      <td>1</td>\n",
       "      <td>1</td>\n",
       "      <td>1</td>\n",
       "      <td>1</td>\n",
       "      <td>1</td>\n",
       "      <td>1</td>\n",
       "      <td>0</td>\n",
       "      <td>1</td>\n",
       "      <td>1</td>\n",
       "      <td>1</td>\n",
       "      <td>1</td>\n",
       "      <td>95</td>\n",
       "      <td>2023</td>\n",
       "      <td>1</td>\n",
       "      <td>6</td>\n",
       "      <td>4</td>\n",
       "      <td>0</td>\n",
       "    </tr>\n",
       "    <tr>\n",
       "      <th>2197290</th>\n",
       "      <td>ppl_99994</td>\n",
       "      <td>act2_715089</td>\n",
       "      <td>2</td>\n",
       "      <td>0</td>\n",
       "      <td>0</td>\n",
       "      <td>0</td>\n",
       "      <td>0</td>\n",
       "      <td>0</td>\n",
       "      <td>0</td>\n",
       "      <td>0</td>\n",
       "      <td>0</td>\n",
       "      <td>0</td>\n",
       "      <td>1</td>\n",
       "      <td>1</td>\n",
       "      <td>2023</td>\n",
       "      <td>6</td>\n",
       "      <td>15</td>\n",
       "      <td>3</td>\n",
       "      <td>0</td>\n",
       "      <td>2</td>\n",
       "      <td>17764</td>\n",
       "      <td>3</td>\n",
       "      <td>2</td>\n",
       "      <td>7</td>\n",
       "      <td>2</td>\n",
       "      <td>1</td>\n",
       "      <td>2</td>\n",
       "      <td>2</td>\n",
       "      <td>2</td>\n",
       "      <td>1</td>\n",
       "      <td>...</td>\n",
       "      <td>1</td>\n",
       "      <td>1</td>\n",
       "      <td>1</td>\n",
       "      <td>1</td>\n",
       "      <td>1</td>\n",
       "      <td>1</td>\n",
       "      <td>1</td>\n",
       "      <td>1</td>\n",
       "      <td>1</td>\n",
       "      <td>1</td>\n",
       "      <td>1</td>\n",
       "      <td>1</td>\n",
       "      <td>1</td>\n",
       "      <td>1</td>\n",
       "      <td>1</td>\n",
       "      <td>1</td>\n",
       "      <td>1</td>\n",
       "      <td>1</td>\n",
       "      <td>1</td>\n",
       "      <td>0</td>\n",
       "      <td>1</td>\n",
       "      <td>1</td>\n",
       "      <td>1</td>\n",
       "      <td>1</td>\n",
       "      <td>95</td>\n",
       "      <td>2023</td>\n",
       "      <td>1</td>\n",
       "      <td>6</td>\n",
       "      <td>4</td>\n",
       "      <td>0</td>\n",
       "    </tr>\n",
       "  </tbody>\n",
       "</table>\n",
       "<p>5 rows × 63 columns</p>\n",
       "</div>"
      ],
      "text/plain": [
       "         people_id   activity_id  activity_category  char_1_x  char_2_x  \\\n",
       "2197286  ppl_99994  act2_4668076                  4         0         0   \n",
       "2197287  ppl_99994  act2_4743548                  4         0         0   \n",
       "2197288  ppl_99994   act2_536973                  2         0         0   \n",
       "2197289  ppl_99994   act2_688656                  4         0         0   \n",
       "2197290  ppl_99994   act2_715089                  2         0         0   \n",
       "\n",
       "         char_3_x  char_4_x  char_5_x  char_6_x  char_7_x  char_8_x  char_9_x  \\\n",
       "2197286         0         0         0         0         0         0         0   \n",
       "2197287         0         0         0         0         0         0         0   \n",
       "2197288         0         0         0         0         0         0         0   \n",
       "2197289         0         0         0         0         0         0         0   \n",
       "2197290         0         0         0         0         0         0         0   \n",
       "\n",
       "         char_10_x  outcome  year_x  month_x  day_x  weekday_x  weekend_x  \\\n",
       "2197286        418        1    2023        6     16          4          0   \n",
       "2197287       1832        1    2023        3     30          3          0   \n",
       "2197288          1        1    2023        1     19          3          0   \n",
       "2197289        199        1    2023        5      2          1          0   \n",
       "2197290          1        1    2023        6     15          3          0   \n",
       "\n",
       "         char_1_y  group_1  char_2_y  char_3_y  char_4_y  char_5_y  char_6_y  \\\n",
       "2197286         2    17764         3         2         7         2         1   \n",
       "2197287         2    17764         3         2         7         2         1   \n",
       "2197288         2    17764         3         2         7         2         1   \n",
       "2197289         2    17764         3         2         7         2         1   \n",
       "2197290         2    17764         3         2         7         2         1   \n",
       "\n",
       "         char_7_y  char_8_y  char_9_y  char_10_y    ...      char_14  char_15  \\\n",
       "2197286         2         2         2          1    ...            1        1   \n",
       "2197287         2         2         2          1    ...            1        1   \n",
       "2197288         2         2         2          1    ...            1        1   \n",
       "2197289         2         2         2          1    ...            1        1   \n",
       "2197290         2         2         2          1    ...            1        1   \n",
       "\n",
       "         char_16  char_17  char_18  char_19  char_20  char_21  char_22  \\\n",
       "2197286        1        1        1        1        1        1        1   \n",
       "2197287        1        1        1        1        1        1        1   \n",
       "2197288        1        1        1        1        1        1        1   \n",
       "2197289        1        1        1        1        1        1        1   \n",
       "2197290        1        1        1        1        1        1        1   \n",
       "\n",
       "         char_23  char_24  char_25  char_26  char_27  char_28  char_29  \\\n",
       "2197286        1        1        1        1        1        1        1   \n",
       "2197287        1        1        1        1        1        1        1   \n",
       "2197288        1        1        1        1        1        1        1   \n",
       "2197289        1        1        1        1        1        1        1   \n",
       "2197290        1        1        1        1        1        1        1   \n",
       "\n",
       "         char_30  char_31  char_32  char_33  char_34  char_35  char_36  \\\n",
       "2197286        1        1        1        0        1        1        1   \n",
       "2197287        1        1        1        0        1        1        1   \n",
       "2197288        1        1        1        0        1        1        1   \n",
       "2197289        1        1        1        0        1        1        1   \n",
       "2197290        1        1        1        0        1        1        1   \n",
       "\n",
       "         char_37  char_38  year_y  month_y  day_y  weekday_y  weekend_y  \n",
       "2197286        1       95    2023        1      6          4          0  \n",
       "2197287        1       95    2023        1      6          4          0  \n",
       "2197288        1       95    2023        1      6          4          0  \n",
       "2197289        1       95    2023        1      6          4          0  \n",
       "2197290        1       95    2023        1      6          4          0  \n",
       "\n",
       "[5 rows x 63 columns]"
      ]
     },
     "execution_count": 125,
     "metadata": {},
     "output_type": "execute_result"
    }
   ],
   "source": [
    "trainMerge = pd.merge(act_Train,people, on='people_id')\n",
    "trainMerge.tail()"
   ]
  },
  {
   "cell_type": "code",
   "execution_count": 126,
   "metadata": {},
   "outputs": [],
   "source": [
    "trainMerge.to_csv('./data/train_merge.csv',index=False)"
   ]
  },
  {
   "cell_type": "code",
   "execution_count": 127,
   "metadata": {},
   "outputs": [],
   "source": [
    "mergeX = trainMerge.drop(['people_id','activity_id','outcome'],axis = 1)\n",
    "mergey = trainMerge['outcome']"
   ]
  },
  {
   "cell_type": "markdown",
   "metadata": {},
   "source": [
    "#### Test data"
   ]
  },
  {
   "cell_type": "code",
   "execution_count": 128,
   "metadata": {},
   "outputs": [],
   "source": [
    "list1 = ['people_id','activity_id','date', 'outcome']\n",
    "act_Test = ResetDataFrame(act_Test, list1)\n",
    "act_Test = SetTime(act_Test,'date')\n",
    "act_Test.drop('date',axis = 1,inplace = True)"
   ]
  },
  {
   "cell_type": "code",
   "execution_count": 129,
   "metadata": {},
   "outputs": [
    {
     "data": {
      "text/html": [
       "<div>\n",
       "<style scoped>\n",
       "    .dataframe tbody tr th:only-of-type {\n",
       "        vertical-align: middle;\n",
       "    }\n",
       "\n",
       "    .dataframe tbody tr th {\n",
       "        vertical-align: top;\n",
       "    }\n",
       "\n",
       "    .dataframe thead th {\n",
       "        text-align: right;\n",
       "    }\n",
       "</style>\n",
       "<table border=\"1\" class=\"dataframe\">\n",
       "  <thead>\n",
       "    <tr style=\"text-align: right;\">\n",
       "      <th></th>\n",
       "      <th>people_id</th>\n",
       "      <th>activity_id</th>\n",
       "      <th>activity_category</th>\n",
       "      <th>char_1_x</th>\n",
       "      <th>char_2_x</th>\n",
       "      <th>char_3_x</th>\n",
       "      <th>char_4_x</th>\n",
       "      <th>char_5_x</th>\n",
       "      <th>char_6_x</th>\n",
       "      <th>char_7_x</th>\n",
       "      <th>char_8_x</th>\n",
       "      <th>char_9_x</th>\n",
       "      <th>char_10_x</th>\n",
       "      <th>year_x</th>\n",
       "      <th>month_x</th>\n",
       "      <th>day_x</th>\n",
       "      <th>weekday_x</th>\n",
       "      <th>weekend_x</th>\n",
       "      <th>char_1_y</th>\n",
       "      <th>group_1</th>\n",
       "      <th>char_2_y</th>\n",
       "      <th>char_3_y</th>\n",
       "      <th>char_4_y</th>\n",
       "      <th>char_5_y</th>\n",
       "      <th>char_6_y</th>\n",
       "      <th>char_7_y</th>\n",
       "      <th>char_8_y</th>\n",
       "      <th>char_9_y</th>\n",
       "      <th>char_10_y</th>\n",
       "      <th>char_11</th>\n",
       "      <th>...</th>\n",
       "      <th>char_14</th>\n",
       "      <th>char_15</th>\n",
       "      <th>char_16</th>\n",
       "      <th>char_17</th>\n",
       "      <th>char_18</th>\n",
       "      <th>char_19</th>\n",
       "      <th>char_20</th>\n",
       "      <th>char_21</th>\n",
       "      <th>char_22</th>\n",
       "      <th>char_23</th>\n",
       "      <th>char_24</th>\n",
       "      <th>char_25</th>\n",
       "      <th>char_26</th>\n",
       "      <th>char_27</th>\n",
       "      <th>char_28</th>\n",
       "      <th>char_29</th>\n",
       "      <th>char_30</th>\n",
       "      <th>char_31</th>\n",
       "      <th>char_32</th>\n",
       "      <th>char_33</th>\n",
       "      <th>char_34</th>\n",
       "      <th>char_35</th>\n",
       "      <th>char_36</th>\n",
       "      <th>char_37</th>\n",
       "      <th>char_38</th>\n",
       "      <th>year_y</th>\n",
       "      <th>month_y</th>\n",
       "      <th>day_y</th>\n",
       "      <th>weekday_y</th>\n",
       "      <th>weekend_y</th>\n",
       "    </tr>\n",
       "  </thead>\n",
       "  <tbody>\n",
       "    <tr>\n",
       "      <th>498682</th>\n",
       "      <td>ppl_99997</td>\n",
       "      <td>act2_4367092</td>\n",
       "      <td>2</td>\n",
       "      <td>0</td>\n",
       "      <td>0</td>\n",
       "      <td>0</td>\n",
       "      <td>0</td>\n",
       "      <td>0</td>\n",
       "      <td>0</td>\n",
       "      <td>0</td>\n",
       "      <td>0</td>\n",
       "      <td>0</td>\n",
       "      <td>1</td>\n",
       "      <td>2023</td>\n",
       "      <td>4</td>\n",
       "      <td>22</td>\n",
       "      <td>5</td>\n",
       "      <td>0</td>\n",
       "      <td>2</td>\n",
       "      <td>17304</td>\n",
       "      <td>2</td>\n",
       "      <td>40</td>\n",
       "      <td>25</td>\n",
       "      <td>9</td>\n",
       "      <td>3</td>\n",
       "      <td>8</td>\n",
       "      <td>6</td>\n",
       "      <td>6</td>\n",
       "      <td>0</td>\n",
       "      <td>0</td>\n",
       "      <td>...</td>\n",
       "      <td>0</td>\n",
       "      <td>0</td>\n",
       "      <td>0</td>\n",
       "      <td>0</td>\n",
       "      <td>0</td>\n",
       "      <td>0</td>\n",
       "      <td>0</td>\n",
       "      <td>0</td>\n",
       "      <td>0</td>\n",
       "      <td>0</td>\n",
       "      <td>0</td>\n",
       "      <td>0</td>\n",
       "      <td>0</td>\n",
       "      <td>0</td>\n",
       "      <td>0</td>\n",
       "      <td>0</td>\n",
       "      <td>0</td>\n",
       "      <td>0</td>\n",
       "      <td>0</td>\n",
       "      <td>0</td>\n",
       "      <td>0</td>\n",
       "      <td>0</td>\n",
       "      <td>0</td>\n",
       "      <td>0</td>\n",
       "      <td>36</td>\n",
       "      <td>2022</td>\n",
       "      <td>3</td>\n",
       "      <td>12</td>\n",
       "      <td>5</td>\n",
       "      <td>0</td>\n",
       "    </tr>\n",
       "    <tr>\n",
       "      <th>498683</th>\n",
       "      <td>ppl_99997</td>\n",
       "      <td>act2_4404220</td>\n",
       "      <td>2</td>\n",
       "      <td>0</td>\n",
       "      <td>0</td>\n",
       "      <td>0</td>\n",
       "      <td>0</td>\n",
       "      <td>0</td>\n",
       "      <td>0</td>\n",
       "      <td>0</td>\n",
       "      <td>0</td>\n",
       "      <td>0</td>\n",
       "      <td>1</td>\n",
       "      <td>2022</td>\n",
       "      <td>11</td>\n",
       "      <td>12</td>\n",
       "      <td>5</td>\n",
       "      <td>0</td>\n",
       "      <td>2</td>\n",
       "      <td>17304</td>\n",
       "      <td>2</td>\n",
       "      <td>40</td>\n",
       "      <td>25</td>\n",
       "      <td>9</td>\n",
       "      <td>3</td>\n",
       "      <td>8</td>\n",
       "      <td>6</td>\n",
       "      <td>6</td>\n",
       "      <td>0</td>\n",
       "      <td>0</td>\n",
       "      <td>...</td>\n",
       "      <td>0</td>\n",
       "      <td>0</td>\n",
       "      <td>0</td>\n",
       "      <td>0</td>\n",
       "      <td>0</td>\n",
       "      <td>0</td>\n",
       "      <td>0</td>\n",
       "      <td>0</td>\n",
       "      <td>0</td>\n",
       "      <td>0</td>\n",
       "      <td>0</td>\n",
       "      <td>0</td>\n",
       "      <td>0</td>\n",
       "      <td>0</td>\n",
       "      <td>0</td>\n",
       "      <td>0</td>\n",
       "      <td>0</td>\n",
       "      <td>0</td>\n",
       "      <td>0</td>\n",
       "      <td>0</td>\n",
       "      <td>0</td>\n",
       "      <td>0</td>\n",
       "      <td>0</td>\n",
       "      <td>0</td>\n",
       "      <td>36</td>\n",
       "      <td>2022</td>\n",
       "      <td>3</td>\n",
       "      <td>12</td>\n",
       "      <td>5</td>\n",
       "      <td>0</td>\n",
       "    </tr>\n",
       "    <tr>\n",
       "      <th>498684</th>\n",
       "      <td>ppl_99997</td>\n",
       "      <td>act2_448830</td>\n",
       "      <td>2</td>\n",
       "      <td>0</td>\n",
       "      <td>0</td>\n",
       "      <td>0</td>\n",
       "      <td>0</td>\n",
       "      <td>0</td>\n",
       "      <td>0</td>\n",
       "      <td>0</td>\n",
       "      <td>0</td>\n",
       "      <td>0</td>\n",
       "      <td>1</td>\n",
       "      <td>2022</td>\n",
       "      <td>8</td>\n",
       "      <td>2</td>\n",
       "      <td>1</td>\n",
       "      <td>0</td>\n",
       "      <td>2</td>\n",
       "      <td>17304</td>\n",
       "      <td>2</td>\n",
       "      <td>40</td>\n",
       "      <td>25</td>\n",
       "      <td>9</td>\n",
       "      <td>3</td>\n",
       "      <td>8</td>\n",
       "      <td>6</td>\n",
       "      <td>6</td>\n",
       "      <td>0</td>\n",
       "      <td>0</td>\n",
       "      <td>...</td>\n",
       "      <td>0</td>\n",
       "      <td>0</td>\n",
       "      <td>0</td>\n",
       "      <td>0</td>\n",
       "      <td>0</td>\n",
       "      <td>0</td>\n",
       "      <td>0</td>\n",
       "      <td>0</td>\n",
       "      <td>0</td>\n",
       "      <td>0</td>\n",
       "      <td>0</td>\n",
       "      <td>0</td>\n",
       "      <td>0</td>\n",
       "      <td>0</td>\n",
       "      <td>0</td>\n",
       "      <td>0</td>\n",
       "      <td>0</td>\n",
       "      <td>0</td>\n",
       "      <td>0</td>\n",
       "      <td>0</td>\n",
       "      <td>0</td>\n",
       "      <td>0</td>\n",
       "      <td>0</td>\n",
       "      <td>0</td>\n",
       "      <td>36</td>\n",
       "      <td>2022</td>\n",
       "      <td>3</td>\n",
       "      <td>12</td>\n",
       "      <td>5</td>\n",
       "      <td>0</td>\n",
       "    </tr>\n",
       "    <tr>\n",
       "      <th>498685</th>\n",
       "      <td>ppl_99997</td>\n",
       "      <td>act2_450133</td>\n",
       "      <td>2</td>\n",
       "      <td>0</td>\n",
       "      <td>0</td>\n",
       "      <td>0</td>\n",
       "      <td>0</td>\n",
       "      <td>0</td>\n",
       "      <td>0</td>\n",
       "      <td>0</td>\n",
       "      <td>0</td>\n",
       "      <td>0</td>\n",
       "      <td>1</td>\n",
       "      <td>2022</td>\n",
       "      <td>8</td>\n",
       "      <td>2</td>\n",
       "      <td>1</td>\n",
       "      <td>0</td>\n",
       "      <td>2</td>\n",
       "      <td>17304</td>\n",
       "      <td>2</td>\n",
       "      <td>40</td>\n",
       "      <td>25</td>\n",
       "      <td>9</td>\n",
       "      <td>3</td>\n",
       "      <td>8</td>\n",
       "      <td>6</td>\n",
       "      <td>6</td>\n",
       "      <td>0</td>\n",
       "      <td>0</td>\n",
       "      <td>...</td>\n",
       "      <td>0</td>\n",
       "      <td>0</td>\n",
       "      <td>0</td>\n",
       "      <td>0</td>\n",
       "      <td>0</td>\n",
       "      <td>0</td>\n",
       "      <td>0</td>\n",
       "      <td>0</td>\n",
       "      <td>0</td>\n",
       "      <td>0</td>\n",
       "      <td>0</td>\n",
       "      <td>0</td>\n",
       "      <td>0</td>\n",
       "      <td>0</td>\n",
       "      <td>0</td>\n",
       "      <td>0</td>\n",
       "      <td>0</td>\n",
       "      <td>0</td>\n",
       "      <td>0</td>\n",
       "      <td>0</td>\n",
       "      <td>0</td>\n",
       "      <td>0</td>\n",
       "      <td>0</td>\n",
       "      <td>0</td>\n",
       "      <td>36</td>\n",
       "      <td>2022</td>\n",
       "      <td>3</td>\n",
       "      <td>12</td>\n",
       "      <td>5</td>\n",
       "      <td>0</td>\n",
       "    </tr>\n",
       "    <tr>\n",
       "      <th>498686</th>\n",
       "      <td>ppl_99997</td>\n",
       "      <td>act2_847967</td>\n",
       "      <td>2</td>\n",
       "      <td>0</td>\n",
       "      <td>0</td>\n",
       "      <td>0</td>\n",
       "      <td>0</td>\n",
       "      <td>0</td>\n",
       "      <td>0</td>\n",
       "      <td>0</td>\n",
       "      <td>0</td>\n",
       "      <td>0</td>\n",
       "      <td>1</td>\n",
       "      <td>2022</td>\n",
       "      <td>10</td>\n",
       "      <td>15</td>\n",
       "      <td>5</td>\n",
       "      <td>0</td>\n",
       "      <td>2</td>\n",
       "      <td>17304</td>\n",
       "      <td>2</td>\n",
       "      <td>40</td>\n",
       "      <td>25</td>\n",
       "      <td>9</td>\n",
       "      <td>3</td>\n",
       "      <td>8</td>\n",
       "      <td>6</td>\n",
       "      <td>6</td>\n",
       "      <td>0</td>\n",
       "      <td>0</td>\n",
       "      <td>...</td>\n",
       "      <td>0</td>\n",
       "      <td>0</td>\n",
       "      <td>0</td>\n",
       "      <td>0</td>\n",
       "      <td>0</td>\n",
       "      <td>0</td>\n",
       "      <td>0</td>\n",
       "      <td>0</td>\n",
       "      <td>0</td>\n",
       "      <td>0</td>\n",
       "      <td>0</td>\n",
       "      <td>0</td>\n",
       "      <td>0</td>\n",
       "      <td>0</td>\n",
       "      <td>0</td>\n",
       "      <td>0</td>\n",
       "      <td>0</td>\n",
       "      <td>0</td>\n",
       "      <td>0</td>\n",
       "      <td>0</td>\n",
       "      <td>0</td>\n",
       "      <td>0</td>\n",
       "      <td>0</td>\n",
       "      <td>0</td>\n",
       "      <td>36</td>\n",
       "      <td>2022</td>\n",
       "      <td>3</td>\n",
       "      <td>12</td>\n",
       "      <td>5</td>\n",
       "      <td>0</td>\n",
       "    </tr>\n",
       "  </tbody>\n",
       "</table>\n",
       "<p>5 rows × 62 columns</p>\n",
       "</div>"
      ],
      "text/plain": [
       "        people_id   activity_id  activity_category  char_1_x  char_2_x  \\\n",
       "498682  ppl_99997  act2_4367092                  2         0         0   \n",
       "498683  ppl_99997  act2_4404220                  2         0         0   \n",
       "498684  ppl_99997   act2_448830                  2         0         0   \n",
       "498685  ppl_99997   act2_450133                  2         0         0   \n",
       "498686  ppl_99997   act2_847967                  2         0         0   \n",
       "\n",
       "        char_3_x  char_4_x  char_5_x  char_6_x  char_7_x  char_8_x  char_9_x  \\\n",
       "498682         0         0         0         0         0         0         0   \n",
       "498683         0         0         0         0         0         0         0   \n",
       "498684         0         0         0         0         0         0         0   \n",
       "498685         0         0         0         0         0         0         0   \n",
       "498686         0         0         0         0         0         0         0   \n",
       "\n",
       "        char_10_x  year_x  month_x  day_x  weekday_x  weekend_x  char_1_y  \\\n",
       "498682          1    2023        4     22          5          0         2   \n",
       "498683          1    2022       11     12          5          0         2   \n",
       "498684          1    2022        8      2          1          0         2   \n",
       "498685          1    2022        8      2          1          0         2   \n",
       "498686          1    2022       10     15          5          0         2   \n",
       "\n",
       "        group_1  char_2_y  char_3_y  char_4_y  char_5_y  char_6_y  char_7_y  \\\n",
       "498682    17304         2        40        25         9         3         8   \n",
       "498683    17304         2        40        25         9         3         8   \n",
       "498684    17304         2        40        25         9         3         8   \n",
       "498685    17304         2        40        25         9         3         8   \n",
       "498686    17304         2        40        25         9         3         8   \n",
       "\n",
       "        char_8_y  char_9_y  char_10_y  char_11    ...      char_14  char_15  \\\n",
       "498682         6         6          0        0    ...            0        0   \n",
       "498683         6         6          0        0    ...            0        0   \n",
       "498684         6         6          0        0    ...            0        0   \n",
       "498685         6         6          0        0    ...            0        0   \n",
       "498686         6         6          0        0    ...            0        0   \n",
       "\n",
       "        char_16  char_17  char_18  char_19  char_20  char_21  char_22  \\\n",
       "498682        0        0        0        0        0        0        0   \n",
       "498683        0        0        0        0        0        0        0   \n",
       "498684        0        0        0        0        0        0        0   \n",
       "498685        0        0        0        0        0        0        0   \n",
       "498686        0        0        0        0        0        0        0   \n",
       "\n",
       "        char_23  char_24  char_25  char_26  char_27  char_28  char_29  \\\n",
       "498682        0        0        0        0        0        0        0   \n",
       "498683        0        0        0        0        0        0        0   \n",
       "498684        0        0        0        0        0        0        0   \n",
       "498685        0        0        0        0        0        0        0   \n",
       "498686        0        0        0        0        0        0        0   \n",
       "\n",
       "        char_30  char_31  char_32  char_33  char_34  char_35  char_36  \\\n",
       "498682        0        0        0        0        0        0        0   \n",
       "498683        0        0        0        0        0        0        0   \n",
       "498684        0        0        0        0        0        0        0   \n",
       "498685        0        0        0        0        0        0        0   \n",
       "498686        0        0        0        0        0        0        0   \n",
       "\n",
       "        char_37  char_38  year_y  month_y  day_y  weekday_y  weekend_y  \n",
       "498682        0       36    2022        3     12          5          0  \n",
       "498683        0       36    2022        3     12          5          0  \n",
       "498684        0       36    2022        3     12          5          0  \n",
       "498685        0       36    2022        3     12          5          0  \n",
       "498686        0       36    2022        3     12          5          0  \n",
       "\n",
       "[5 rows x 62 columns]"
      ]
     },
     "execution_count": 129,
     "metadata": {},
     "output_type": "execute_result"
    }
   ],
   "source": [
    "testMerge = pd.merge(act_Test,people, on='people_id')\n",
    "testMerge.tail()"
   ]
  },
  {
   "cell_type": "code",
   "execution_count": 130,
   "metadata": {},
   "outputs": [],
   "source": [
    "testMerge.to_csv('./data/test_merge.csv',index=False)"
   ]
  },
  {
   "cell_type": "code",
   "execution_count": 131,
   "metadata": {},
   "outputs": [],
   "source": [
    "act_id = testMerge['activity_id']\n",
    "testMergeX = testMerge.drop(['people_id','activity_id'],axis = 1)"
   ]
  },
  {
   "cell_type": "markdown",
   "metadata": {},
   "source": [
    "### Classification"
   ]
  },
  {
   "cell_type": "code",
   "execution_count": 186,
   "metadata": {},
   "outputs": [],
   "source": [
    "x_train, x_test, y_train,y_test = train_test_split(mergeX, mergey, test_size=0.2)"
   ]
  },
  {
   "cell_type": "code",
   "execution_count": 133,
   "metadata": {},
   "outputs": [],
   "source": [
    "mlomodel = LogisticRegression(random_state=5).fit(x_train, y_train)"
   ]
  },
  {
   "cell_type": "code",
   "execution_count": 134,
   "metadata": {},
   "outputs": [
    {
     "data": {
      "text/plain": [
       "array([ 0.82492149,  0.82498976,  0.82617303,  0.82640058,  0.82749283,\n",
       "        0.82703773,  0.8255814 ,  0.82610476,  0.82435261,  0.82621459])"
      ]
     },
     "execution_count": 134,
     "metadata": {},
     "output_type": "execute_result"
    }
   ],
   "source": [
    "cross_val_score(mlomodel, x_test, y_test, scoring=\"accuracy\", cv=10)"
   ]
  },
  {
   "cell_type": "markdown",
   "metadata": {},
   "source": [
    "### Bagging"
   ]
  },
  {
   "cell_type": "code",
   "execution_count": 135,
   "metadata": {},
   "outputs": [],
   "source": [
    "mbagmodel = BaggingClassifier(LogisticRegression(), bootstrap_features=True, random_state=0).fit(x_train, y_train)\n"
   ]
  },
  {
   "cell_type": "code",
   "execution_count": 136,
   "metadata": {},
   "outputs": [
    {
     "data": {
      "text/plain": [
       "array([ 0.82087107,  0.82212261,  0.81898239,  0.82494425,  0.82118964,\n",
       "        0.82137168,  0.82321485,  0.82596823,  0.81982433,  0.8187052 ])"
      ]
     },
     "execution_count": 136,
     "metadata": {},
     "output_type": "execute_result"
    }
   ],
   "source": [
    "cross_val_score(mbagmodel, x_test, y_test, scoring=\"accuracy\", cv=10)"
   ]
  },
  {
   "cell_type": "code",
   "execution_count": 183,
   "metadata": {},
   "outputs": [],
   "source": [
    "original_params = {'n_estimators': 50, 'max_depth': None, 'random_state': 2,\n",
    "                   'min_samples_split':20000}\n",
    "original_params.update({'learning_rate': 0.1, 'subsample': 0.5})"
   ]
  },
  {
   "cell_type": "markdown",
   "metadata": {},
   "source": [
    "### Gradient boost"
   ]
  },
  {
   "cell_type": "code",
   "execution_count": 184,
   "metadata": {},
   "outputs": [],
   "source": [
    "mmodel_grad = GradientBoostingClassifier(**original_params).fit(x_train, y_train)"
   ]
  },
  {
   "cell_type": "code",
   "execution_count": null,
   "metadata": {},
   "outputs": [],
   "source": [
    "cross_val_score(mmodel_grad, x_test, y_test, scoring=\"accuracy\", cv=10)"
   ]
  },
  {
   "cell_type": "code",
   "execution_count": null,
   "metadata": {},
   "outputs": [],
   "source": [
    "grad_fi = sorted(zip(x_test.columns,mmodel_grad.feature_importances_),key=lambda x: x[1])[-10:]"
   ]
  },
  {
   "cell_type": "markdown",
   "metadata": {},
   "source": [
    "### Random forest"
   ]
  },
  {
   "cell_type": "code",
   "execution_count": null,
   "metadata": {},
   "outputs": [],
   "source": [
    "original_params1 = {'n_estimators': 50, 'max_depth': None, 'random_state': 2,\n",
    "                   'min_samples_split': 20000}"
   ]
  },
  {
   "cell_type": "code",
   "execution_count": null,
   "metadata": {},
   "outputs": [],
   "source": [
    "mrfmodel = RandomForestClassifier(**original_params1).fit(x_train, y_train)"
   ]
  },
  {
   "cell_type": "code",
   "execution_count": null,
   "metadata": {},
   "outputs": [],
   "source": [
    "cross_val_score(mrfmodel, x_test, y_test, scoring=\"accuracy\", cv=10)"
   ]
  },
  {
   "cell_type": "code",
   "execution_count": null,
   "metadata": {},
   "outputs": [],
   "source": [
    "rf_fi = sorted(zip(x_test.columns,mrfmodel.feature_importances_),key=lambda x: x[1])[-10:]"
   ]
  },
  {
   "cell_type": "markdown",
   "metadata": {},
   "source": [
    "### Feature Importance"
   ]
  },
  {
   "cell_type": "code",
   "execution_count": null,
   "metadata": {},
   "outputs": [],
   "source": [
    "for idx in range(10):\n",
    "    print ('gradient boost : {0}, {1:0.4f}, randomforest : {2}, {3:0.4f}'.format(grad_fi[idx][0],float(grad_fi[idx][1]), rf_fi[idx][0],float(rf_fi[idx][1])))"
   ]
  },
  {
   "cell_type": "code",
   "execution_count": null,
   "metadata": {},
   "outputs": [],
   "source": []
  },
  {
   "cell_type": "code",
   "execution_count": null,
   "metadata": {},
   "outputs": [],
   "source": [
    "xgbIs = xgboost.xg"
   ]
  },
  {
   "cell_type": "markdown",
   "metadata": {},
   "source": [
    "### XGBOOST"
   ]
  },
  {
   "cell_type": "markdown",
   "metadata": {},
   "source": [
    "* max_depth : Maximum tree depth for base learners\n",
    "* subsample : Subsample ratio of the training instance.\n",
    "* colsample_bytree : Subsample ratio of columns when constructing each tree.\n",
    "* objective : Specify the learning task and the corresponding learning objective or a custom objective function to be used\n",
    "* booster : Specify which booster to use: gbtree, gblinear or dart.\n",
    "* eval_metric : \n",
    "* silent : Whether to print messages while running boosting.\n",
    "* num_boost_round : Number of boosting iterations\n",
    "* early_stopping_rounds : Activates early stopping. Validation error needs to decrease at least every <early_stopping_rounds> round(s) to continue training\n",
    "* eta : Boosting learning rate"
   ]
  },
  {
   "cell_type": "code",
   "execution_count": null,
   "metadata": {},
   "outputs": [],
   "source": [
    "max_depth = 10\n",
    "subsample = 0.7\n",
    "colsample_bytree= 0.7\n",
    "params ={\n",
    "        \"objective\": \"binary:logistic\",\n",
    "        \"booster\" : \"gbtree\",\n",
    "        \"eval_metric\": \"auc\",\n",
    "        \"max_depth\" : max_depth,\n",
    "        \"subsample\": subsample,\n",
    "        \"colsample_bytree\": colsample_bytree,\n",
    "        \"silent\":1,\n",
    "    'eta':0.02\n",
    "    \n",
    "    }\n",
    "num_boost_round = 200\n",
    "early_stopping_rounds = 10\n",
    "test_size = 0.15"
   ]
  },
  {
   "cell_type": "code",
   "execution_count": null,
   "metadata": {
    "scrolled": false
   },
   "outputs": [],
   "source": [
    "X_train, X_valid = train_test_split(trainMerge, test_size=test_size)\n",
    "y_train = X_train['outcome']\n",
    "y_valid = X_valid['outcome']\n",
    "X_train = X_train.drop(['people_id','activity_id','outcome'],axis = 1)\n",
    "X_valid = X_valid.drop(['people_id','activity_id','outcome'], axis = 1)\n",
    "dtrain = xgboost.DMatrix(X_train, y_train)\n",
    "dvalid = xgboost.DMatrix(X_valid, y_valid)\n",
    "watchlist = [(dtrain, 'train'), (dvalid, 'eval')]\n",
    "gbm = xgboost.train(params, dtrain, num_boost_round, evals=watchlist, early_stopping_rounds=early_stopping_rounds, verbose_eval=True)\n",
    "check = gbm.predict(xgboost.DMatrix(X_valid))\n",
    "score = roc_auc_score(y_valid, check)\n",
    "print (score)\n",
    "testActivityId = testMerge['activity_id']\n",
    "test = testMerge.drop(['people_id','activity_id'],axis = 1)"
   ]
  },
  {
   "cell_type": "code",
   "execution_count": null,
   "metadata": {},
   "outputs": [],
   "source": [
    "test_prediction = gbm.predict(xgboost.DMatrix(test))\n",
    "out = pd.concat([testActivityId,pd.DataFrame(test_prediction.round())],axis = 1)\n",
    "out.rename({0:'outcome'},axis = 1,inplace = True)\n",
    "out.to_csv('./ours2.csv',index = False)"
   ]
  },
  {
   "cell_type": "markdown",
   "metadata": {},
   "source": [
    "auc : 0.863429"
   ]
  },
  {
   "cell_type": "code",
   "execution_count": null,
   "metadata": {},
   "outputs": [],
   "source": [
    "xgboost.plot_importance(gbm)"
   ]
  },
  {
   "cell_type": "code",
   "execution_count": null,
   "metadata": {},
   "outputs": [],
   "source": [
    "gbm.save_model('ourmodel1.model')"
   ]
  },
  {
   "cell_type": "code",
   "execution_count": null,
   "metadata": {},
   "outputs": [],
   "source": [
    "from operator import itemgetter"
   ]
  },
  {
   "cell_type": "code",
   "execution_count": null,
   "metadata": {},
   "outputs": [],
   "source": [
    "sorted(gbm.get_fscore().items(), key=itemgetter(1), reverse=True)[:10]"
   ]
  },
  {
   "cell_type": "code",
   "execution_count": null,
   "metadata": {},
   "outputs": [],
   "source": [
    "xgboost.plot_tree(gbm)"
   ]
  },
  {
   "cell_type": "code",
   "execution_count": null,
   "metadata": {},
   "outputs": [],
   "source": [
    "xgboost.to_graphviz(gbm)"
   ]
  },
  {
   "cell_type": "code",
   "execution_count": null,
   "metadata": {},
   "outputs": [],
   "source": [
    "logistic_model = LogisticRegression(random_state=5,C = 100).fit(mergeX[['group_1','char_7_y','char_38','char_6_y','day_y','char_9_y']], mergey)"
   ]
  },
  {
   "cell_type": "code",
   "execution_count": null,
   "metadata": {},
   "outputs": [],
   "source": [
    "logistic_pred = logistic_model.predict(testMergeX[['group_1','char_7_y','char_38','char_6_y','day_y','char_9_y']])"
   ]
  },
  {
   "cell_type": "code",
   "execution_count": null,
   "metadata": {},
   "outputs": [],
   "source": [
    "out = pd.concat([testActivityId,pd.DataFrame(logistic_pred)],axis = 1)\n",
    "out.rename({0:'outcome'},axis = 1,inplace = True)\n",
    "out.to_csv('./ours3.csv',index = False)"
   ]
  },
  {
   "cell_type": "code",
   "execution_count": null,
   "metadata": {},
   "outputs": [],
   "source": []
  },
  {
   "cell_type": "markdown",
   "metadata": {},
   "source": [
    "### Benchmark 1 - training by using xgboost\n",
    "[kernel](https://www.kaggle.com/abriosi/raddar-0-98-xgboost-sparse-matrix-python)"
   ]
  },
  {
   "cell_type": "code",
   "execution_count": null,
   "metadata": {},
   "outputs": [],
   "source": [
    "train_columns = trainMerge.columns.values\n",
    "test_columns = testMerge.columns.values\n",
    "features = list(set(train_columns) & set(test_columns))"
   ]
  },
  {
   "cell_type": "code",
   "execution_count": null,
   "metadata": {},
   "outputs": [],
   "source": [
    "categorical=['group_1','activity_category',\n",
    "             'char_1_x','char_2_x','char_3_x',\n",
    "             'char_4_x','char_5_x','char_6_x',\n",
    "             'char_7_x','char_8_x','char_9_x',\n",
    "             'char_2_y','char_3_y','char_4_y',\n",
    "             'char_5_y','char_6_y','char_7_y',\n",
    "             'char_8_y','char_9_y']\n",
    "not_categorical=[]\n",
    "for category in mergeX.columns:\n",
    "    if category not in categorical:\n",
    "        not_categorical.append(category)"
   ]
  },
  {
   "cell_type": "code",
   "execution_count": null,
   "metadata": {},
   "outputs": [],
   "source": [
    "enc = OneHotEncoder(handle_unknown='ignore')\n",
    "enc = enc.fit(pd.concat([mergeX[categorical],testMergeX[categorical]]))"
   ]
  },
  {
   "cell_type": "code",
   "execution_count": null,
   "metadata": {},
   "outputs": [],
   "source": [
    "mergeX_cat_sparse=enc.transform(mergeX[categorical])\n",
    "testMergeX_cat_sparse=enc.transform(testMergeX[categorical])"
   ]
  },
  {
   "cell_type": "code",
   "execution_count": null,
   "metadata": {},
   "outputs": [],
   "source": [
    "from scipy.sparse import hstack\n",
    "mergeX_sparse=hstack((mergeX[not_categorical], mergeX_cat_sparse))\n",
    "testMergeX_sparse=hstack((testMergeX[not_categorical], testMergeX_cat_sparse))"
   ]
  },
  {
   "cell_type": "code",
   "execution_count": null,
   "metadata": {},
   "outputs": [],
   "source": [
    "print(\"Training data: \" + format(mergeX_sparse.shape))\n",
    "print(\"Test data: \" + format(testMergeX_sparse.shape))\n",
    "print(\"###########\")\n",
    "print(\"One Hot enconded Test Dataset Script\")"
   ]
  },
  {
   "cell_type": "code",
   "execution_count": null,
   "metadata": {},
   "outputs": [],
   "source": [
    "dtrain = xgboost.DMatrix(mergeX_sparse,label=mergey)\n",
    "dtest = xgboost.DMatrix(testMergeX_sparse)"
   ]
  },
  {
   "cell_type": "code",
   "execution_count": null,
   "metadata": {},
   "outputs": [],
   "source": [
    "param = {'max_depth':10, 'eta':0.02, 'silent':1, 'objective':'binary:logistic' }\n",
    "param['nthread'] = 4\n",
    "param['eval_metric'] = 'auc'\n",
    "param['subsample'] = 0.7\n",
    "param['colsample_bytree']= 0.7\n",
    "param['min_child_weight'] = 0\n",
    "param['booster'] = \"gblinear\""
   ]
  },
  {
   "cell_type": "code",
   "execution_count": null,
   "metadata": {
    "scrolled": true
   },
   "outputs": [],
   "source": [
    "watchlist  = [(dtrain,'train')]\n",
    "num_round = 300\n",
    "early_stopping_rounds=10\n",
    "bst = xgboost.train(param, dtrain, num_round, watchlist,early_stopping_rounds=early_stopping_rounds)\n",
    "ypred = bst.predict(dtest)"
   ]
  },
  {
   "cell_type": "code",
   "execution_count": null,
   "metadata": {},
   "outputs": [],
   "source": [
    "output = pd.DataFrame({ 'activity_id' : testMerge['activity_id'], 'outcome': ypred })\n",
    "output.head()\n",
    "output.to_csv('sub_1.csv', index = False)"
   ]
  },
  {
   "cell_type": "markdown",
   "metadata": {},
   "source": [
    " AUC : 0.979532"
   ]
  },
  {
   "cell_type": "markdown",
   "metadata": {},
   "source": [
    "### Benchmark 2 - Use Leak (char_38, date)\n",
    "[kernel](https://www.kaggle.com/kevinpalm/simplified-leak-starter-template)"
   ]
  },
  {
   "cell_type": "code",
   "execution_count": null,
   "metadata": {},
   "outputs": [],
   "source": [
    "import pandas as pd\n",
    "import numpy as np\n",
    "\n",
    "def simple_load():\n",
    "\n",
    "    # Read in the data\n",
    "    people = pd.read_csv(\"./data/people.csv\")\n",
    "    train = pd.read_csv(\"./data/act_train.csv\")\n",
    "    test = pd.read_csv(\"./data/act_test.csv\")\n",
    "\n",
    "    # Merge people to the other data sets\n",
    "    train = train.merge(people, on=\"people_id\", suffixes=(\"_act\", \"\"))\n",
    "    test = test.merge(people, on=\"people_id\", suffixes=(\"_act\", \"\"))\n",
    "\n",
    "    # Set index to activity id\n",
    "    train = train.set_index(\"activity_id\")\n",
    "    test = test.set_index(\"activity_id\")\n",
    "\n",
    "    # Correct some data types\n",
    "    for field in [\"date_act\", \"date\"]:\n",
    "        train[field] = pd.to_datetime(train[field])\n",
    "        test[field] = pd.to_datetime(test[field])\n",
    "\n",
    "    return train, test\n",
    "\n",
    "\n",
    "def group_decision(train, test, only_certain=True):\n",
    "    # Exploit the leak revealed by Loiso and team to try and directly infer any labels that can be inferred\n",
    "    # https://www.kaggle.com/c/predicting-red-hat-business-value/forums/t/22807/0-987-kernel-now-available-seems-like-leakage\n",
    "\n",
    "    # Make a lookup dataframe, and copy those in first since we can be sure of them\n",
    "    lookup = train.groupby([\"group_1\", \"date_act\"], as_index=False)[\"outcome\"].mean()\n",
    "    test = pd.merge(test.reset_index(), lookup, how=\"left\", on=[\"group_1\", \"date_act\"]).set_index(\"activity_id\")\n",
    "\n",
    "    # Create some date filling columns that we'll use after we append\n",
    "    train[\"date_act_fillfw\"] = train[\"date_act\"]\n",
    "    train[\"date_act_fillbw\"] = train[\"date_act\"]\n",
    "\n",
    "    # Create some group filling columns for later use\n",
    "    train[\"group_fillfw\"] = train[\"group_1\"]\n",
    "    train[\"group_fillbw\"] = train[\"group_1\"]\n",
    "\n",
    "    # Put the two data sets together and sort\n",
    "    df = train.append(test)\n",
    "    df = df.sort_values(by=[\"group_1\", \"date_act\"])\n",
    "\n",
    "    # Fill the dates\n",
    "    df[\"date_act_fillfw\"] = df[\"date_act_fillfw\"].fillna(method=\"ffill\")\n",
    "    df[\"date_act_fillbw\"] = df[\"date_act_fillbw\"].fillna(method=\"bfill\")\n",
    "\n",
    "    # Fill labels\n",
    "    df[\"outcome_fillfw\"] = df[\"outcome\"].fillna(method=\"ffill\")\n",
    "    df[\"outcome_fillbw\"] = df[\"outcome\"].fillna(method=\"bfill\")\n",
    "\n",
    "    # Fill the groups\n",
    "    df[\"group_fillfw\"] = df[\"group_fillfw\"].fillna(method=\"ffill\")\n",
    "    df[\"group_fillbw\"] = df[\"group_fillbw\"].fillna(method=\"bfill\")\n",
    "\n",
    "    # Create int booleans for whether the fillers are from the same date\n",
    "    df[\"fw_same_date\"] = (df[\"date_act_fillfw\"] == df[\"date_act\"]).astype(int)\n",
    "    df[\"bw_same_date\"] = (df[\"date_act_fillbw\"] == df[\"date_act\"]).astype(int)\n",
    "\n",
    "    # Create int booleans for whether the fillers are in the same group\n",
    "    df[\"fw_same_group\"] = (df[\"group_fillfw\"] == df[\"group_1\"]).astype(int)\n",
    "    df[\"bw_same_group\"] = (df[\"group_fillbw\"] == df[\"group_1\"]).astype(int)\n",
    "\n",
    "    # Use the filled labels only if the labels were from the same group, unless we're at the end of the group\n",
    "    df[\"interfill\"] = (df[\"outcome_fillfw\"] *\n",
    "                       df[\"fw_same_group\"] +\n",
    "                       df[\"outcome_fillbw\"] *\n",
    "                       df[\"bw_same_group\"]) / (df[\"fw_same_group\"] +\n",
    "                                               df[\"bw_same_group\"])\n",
    "\n",
    "    # If the labels are at the end of the group, cushion by 0.5\n",
    "    df[\"needs cushion\"] = (df[\"fw_same_group\"] * df[\"bw_same_group\"] - 1).abs()\n",
    "    df[\"cushion\"] = df[\"needs cushion\"] * df[\"interfill\"] * -0.1 + df[\"needs cushion\"] * 0.05\n",
    "    df[\"interfill\"] = df[\"interfill\"] + df[\"cushion\"]\n",
    "\n",
    "    # Fill everything\n",
    "    df[\"outcome\"] = df[\"outcome\"].fillna(df[\"interfill\"])\n",
    "\n",
    "    if only_certain == True:\n",
    "        # Drop anything we're not 100% certain of\n",
    "        df = df[(df[\"outcome\"] == 0.0) | (df[\"outcome\"] == 1.0)]\n",
    "\n",
    "    # Return outcomes to the original index\n",
    "    test[\"outcome\"] = df[\"outcome\"]\n",
    "\n",
    "    return test[\"outcome\"]\n",
    "\n",
    "\n",
    "def benchmark_model():\n",
    "\n",
    "    # Load in the data set simply by merging together\n",
    "    train, test = simple_load()\n",
    "\n",
    "    # Try to just infer the correct dates using the data leak\n",
    "    test[\"outcome\"] = group_decision(train, test, only_certain=False)\n",
    "\n",
    "    # Write the inferred predictions to a template\n",
    "    test.reset_index()[[\"activity_id\", \"outcome\"]].to_csv(\"starter_template.csv\", index=False)\n",
    "\n",
    "    # Fill any missing rows with the mean of the whole column\n",
    "    test[\"outcome\"] = test[\"outcome\"].fillna(test[\"outcome\"].mean())\n",
    "\n",
    "    return test.reset_index()[[\"activity_id\", \"outcome\"]]\n",
    "\n",
    "\n",
    "def main():\n",
    "\n",
    "    # Write a benchmark file to the submissions folder\n",
    "    benchmark_model().to_csv(\"./sub_2.csv\", index=False)\n",
    "\n",
    "if __name__ == \"__main__\":\n",
    "    main()"
   ]
  },
  {
   "cell_type": "markdown",
   "metadata": {},
   "source": [
    "auc : 0.987085"
   ]
  },
  {
   "cell_type": "markdown",
   "metadata": {},
   "source": [
    "### benchmark 3 - Keras ( Neural Network)\n",
    "[kernel](https://www.kaggle.com/qqgeogor/keras-benchmark)"
   ]
  },
  {
   "cell_type": "code",
   "execution_count": null,
   "metadata": {},
   "outputs": [],
   "source": [
    "import pandas as pd\n",
    "import numpy as np\n",
    "from scipy import sparse as ssp\n",
    "import pylab as plt\n",
    "from sklearn.preprocessing import LabelEncoder,LabelBinarizer,MinMaxScaler,OneHotEncoder\n",
    "from sklearn.feature_extraction.text import TfidfVectorizer,CountVectorizer\n",
    "from sklearn.decomposition import TruncatedSVD,NMF,PCA,FactorAnalysis\n",
    "from sklearn.feature_selection import SelectFromModel,SelectPercentile,f_classif\n",
    "from sklearn.decomposition import TruncatedSVD\n",
    "from sklearn.metrics import log_loss,roc_auc_score\n",
    "from sklearn.pipeline import Pipeline,make_pipeline\n",
    "from sklearn.cross_validation import StratifiedKFold,KFold\n",
    "from keras.preprocessing import sequence\n",
    "from keras.callbacks import ModelCheckpoint,Callback\n",
    "from keras import backend as K\n",
    "from keras.layers import Input, Embedding, LSTM, Dense,Flatten, Dropout, merge,Convolution1D,MaxPooling1D,Lambda,AveragePooling1D\n",
    "from keras.layers.normalization import BatchNormalization\n",
    "from keras.optimizers import SGD\n",
    "from keras.layers.advanced_activations import PReLU,LeakyReLU,ELU,SReLU\n",
    "from keras.models import Model\n",
    "\n",
    "seed = 1\n",
    "np.random.seed(seed)\n",
    "dim = 32\n",
    "hidden=64\n",
    "\n",
    "path = \"../data/\"\n",
    "\n",
    "class AucCallback(Callback):  #inherits from Callback\n",
    "    \n",
    "    def __init__(self, validation_data=(), patience=25,is_regression=True,best_model_name='best_keras.mdl',feval='roc_auc_score',batch_size=1024*8):\n",
    "        super(Callback, self).__init__()\n",
    "        \n",
    "        self.patience = patience\n",
    "        self.X_val, self.y_val = validation_data  #tuple of validation X and y\n",
    "        self.best = -np.inf\n",
    "        self.wait = 0  #counter for patience\n",
    "        self.best_model=None\n",
    "        self.best_model_name = best_model_name\n",
    "        self.is_regression = is_regression\n",
    "        self.y_val = self.y_val#.astype(np.int)\n",
    "        self.feval = feval\n",
    "        self.batch_size = batch_size\n",
    "    def on_epoch_end(self, epoch, logs={}):\n",
    "        p = self.model.predict(self.X_val,batch_size=self.batch_size, verbose=0)#.ravel()\n",
    "        if self.feval=='roc_auc_score':\n",
    "            current = roc_auc_score(self.y_val,p)\n",
    "\n",
    "        if current > self.best:\n",
    "            self.best = current\n",
    "            self.wait = 0\n",
    "            self.model.save_weights(self.best_model_name,overwrite=True)\n",
    "            \n",
    "\n",
    "        else:\n",
    "            if self.wait >= self.patience:\n",
    "                self.model.stop_training = True\n",
    "                print('Epoch %05d: early stopping' % (epoch))\n",
    "                \n",
    "                \n",
    "            self.wait += 1 #incremental the number of times without improvement\n",
    "        print('Epoch %d Auc: %f | Best Auc: %f \\n' % (epoch,current,self.best))\n",
    "\n",
    "\n",
    "def make_batches(size, batch_size):\n",
    "    nb_batch = int(np.ceil(size/float(batch_size)))\n",
    "    return [(i*batch_size, min(size, (i+1)*batch_size)) for i in range(0, nb_batch)]\n",
    "\n",
    "\n",
    "\n",
    "def main():\n",
    "    train = pd.read_csv(path+'act_train.csv')\n",
    "    test = pd.read_csv(path+'act_test.csv')\n",
    "    people = pd.read_csv(path+'people.csv')\n",
    "    columns = people.columns\n",
    "    test['outcome'] = np.nan\n",
    "    data = pd.concat([train,test])\n",
    "    \n",
    "    data = pd.merge(data,people,how='left',on='people_id').fillna('missing')\n",
    "    train = data[:train.shape[0]]\n",
    "    test = data[train.shape[0]:]\n",
    "\n",
    "\n",
    "\n",
    "    columns = train.columns.tolist()\n",
    "    columns.remove('activity_id')\n",
    "    columns.remove('outcome')\n",
    "    data = pd.concat([train,test])\n",
    "    for c in columns:\n",
    "        data[c] = LabelEncoder().fit_transform(data[c].values)\n",
    "\n",
    "    train = data[:train.shape[0]]\n",
    "    test = data[train.shape[0]:]\n",
    "    \n",
    "    data = pd.concat([train,test])\n",
    "    columns = train.columns.tolist()\n",
    "    columns.remove('activity_id')\n",
    "    columns.remove('outcome')\n",
    "    flatten_layers = []\n",
    "    inputs = []\n",
    "    for c in columns:\n",
    "        \n",
    "        inputs_c = Input(shape=(1,), dtype='int32')\n",
    "\n",
    "        num_c = len(np.unique(data[c].values))\n",
    "\n",
    "        embed_c = Embedding(\n",
    "                        num_c,\n",
    "                        dim,\n",
    "                        dropout=0.2,\n",
    "                        input_length=1\n",
    "                        )(inputs_c)\n",
    "        flatten_c= Flatten()(embed_c)\n",
    "\n",
    "        inputs.append(inputs_c)\n",
    "        flatten_layers.append(flatten_c)\n",
    "\n",
    "    flatten = merge(flatten_layers,mode='concat')\n",
    "    \n",
    "    fc1 = Dense(hidden,activation='relu')(flatten)\n",
    "    dp1 = Dropout(0.5)(fc1)\n",
    "\n",
    "    outputs = Dense(1,activation='sigmoid')(dp1)\n",
    "\n",
    "    model = Model(input=inputs, output=outputs)\n",
    "    model.compile(\n",
    "                optimizer='adam',\n",
    "                loss='binary_crossentropy',\n",
    "              )\n",
    "\n",
    "    del data\n",
    "\n",
    "    X = train[columns].values\n",
    "    X_t = test[columns].values\n",
    "    y = train[\"outcome\"].values\n",
    "    people_id = train[\"people_id\"].values\n",
    "    activity_id = test['activity_id']\n",
    "    del train\n",
    "    del test\n",
    "\n",
    "    skf = StratifiedKFold(y, n_folds=4, shuffle=True, random_state=seed)\n",
    "    for ind_tr, ind_te in skf:\n",
    "        X_train = X[ind_tr]\n",
    "        X_test = X[ind_te]\n",
    "\n",
    "        y_train = y[ind_tr]\n",
    "        y_test = y[ind_te]\n",
    "        break\n",
    "    \n",
    "    X_train = [X_train[:,i] for i in range(X.shape[1])]\n",
    "    X_test = [X_test[:,i] for i in range(X.shape[1])]\n",
    "    \n",
    "    del X\n",
    "\n",
    "    model_name = 'mlp_residual_%s_%s.hdf5'%(dim,hidden)\n",
    "    model_checkpoint = ModelCheckpoint(model_name, monitor='val_loss', save_best_only=True)\n",
    "    auc_callback = AucCallback(validation_data=(X_test,y_test), patience=5,is_regression=True,best_model_name=path+'best_keras.mdl',feval='roc_auc_score')\n",
    "    \n",
    "    nb_epoch = 10\n",
    "\n",
    "    batch_size = 1024*8\n",
    "    load_model = False\n",
    "    \n",
    "    if load_model:\n",
    "        print('Load Model')\n",
    "        model.load_weights(path+model_name)\n",
    "        # model.load_weights(path+'best_keras.mdl')\n",
    "\n",
    "    model.fit(\n",
    "        X_train, \n",
    "        y_train,\n",
    "        batch_size=batch_size, \n",
    "        nb_epoch=nb_epoch, \n",
    "        verbose=1, \n",
    "        shuffle=True,\n",
    "        validation_data=[X_test,y_test],\n",
    "        # callbacks = [\n",
    "            # model_checkpoint,\n",
    "            # auc_callback,\n",
    "            # ],\n",
    "        )\n",
    "    \n",
    "    # model.load_weights(model_name)\n",
    "    # model.load_weights(path+'best_keras.mdl')\n",
    "    \n",
    "    y_preds = model.predict(X_test,batch_size=1024*8)\n",
    "    # print('auc',roc_auc_score(y_test,y_preds))\n",
    "    \n",
    "    # print('Make submission')\n",
    "    X_t = [X_t[:,i] for i in range(X_t.shape[1])]\n",
    "    outcome = model.predict(X_t,batch_size=1024*8)\n",
    "    submission = pd.DataFrame()\n",
    "    submission['activity_id'] = activity_id\n",
    "    submission['outcome'] = outcome\n",
    "    submission.to_csv('submission_residual_%s_%s.csv'%(dim,hidden),index=False)\n",
    "\n",
    "main()"
   ]
  },
  {
   "cell_type": "markdown",
   "metadata": {},
   "source": [
    "auc : 0.979"
   ]
  },
  {
   "cell_type": "markdown",
   "metadata": {},
   "source": [
    "### Benchmark 4 - PCA\n",
    "[kernel](https://www.kaggle.com/kevinpalm/people-eda-and-decomposition)"
   ]
  },
  {
   "cell_type": "code",
   "execution_count": null,
   "metadata": {},
   "outputs": [],
   "source": [
    "# Import the dataset\n",
    "df = pd.read_csv(\"..data/people.csv\")\n",
    "\n",
    "# Print the first five rows\n",
    "print(df.head())"
   ]
  },
  {
   "cell_type": "code",
   "execution_count": null,
   "metadata": {},
   "outputs": [],
   "source": [
    "from scipy.stats import chisquare\n",
    "\n",
    "# Create a list of characteristics\n",
    "chars = [i for i in df.columns.values if \"char_\" in i]\n",
    "\n",
    "# Create an empty list for appending flagged features\n",
    "flags = []\n",
    "\n",
    "# For each feature summarize frequencies of each other feature\n",
    "for feat in df[chars]:\n",
    "    group = df[chars].groupby(feat)\n",
    "    for otherfeat in df[chars].drop(feat, axis=1):\n",
    "        summary = group[otherfeat].count()\n",
    "        \n",
    "        # Run a chi squared test on the frequencies, and check if the p-value is less than 0.05\n",
    "        if chisquare(summary)[1] < 0.05:\n",
    "            \n",
    "            # If so, flag both features\n",
    "            flags.append(feat)\n",
    "            flags.append(otherfeat)\n",
    "\n",
    "# Remove duplicates by converting to a set at the end\n",
    "flags = set(flags)\n",
    "\n",
    "print(\"It looks like {}% of the characteristics might be related to one another.\".format(len(flags)/len(chars)*100))"
   ]
  },
  {
   "cell_type": "code",
   "execution_count": null,
   "metadata": {},
   "outputs": [],
   "source": [
    "# Convert to dummy variables\n",
    "dums = pd.get_dummies(df[chars])\n",
    "\n",
    "print(\"Before PCA the full size of the characteristics is {} features\".format(len(dums.columns.values)))"
   ]
  },
  {
   "cell_type": "code",
   "execution_count": null,
   "metadata": {},
   "outputs": [],
   "source": [
    "from sklearn.decomposition import PCA\n",
    "from sklearn.preprocessing import MinMaxScaler\n",
    "\n",
    "# As was suggested by dpace, let's also scale the features so that they're all in the range of 0 and 1\n",
    "scaledums = MinMaxScaler().fit_transform(dums)\n",
    "\n",
    "# Now we're ready for PCA. Let's just look at the first two principle components first\n",
    "pca = PCA(n_components=2)\n",
    "featurecomponents = pca.fit_transform(scaledums)\n",
    "\n",
    "print(pca.explained_variance_ratio_)"
   ]
  },
  {
   "cell_type": "code",
   "execution_count": null,
   "metadata": {},
   "outputs": [],
   "source": [
    "# build a dictionary with the names of the components\n",
    "components = {}\n",
    "index = 0\n",
    "for feature in dums.columns.values:\n",
    "    components[feature] = [pca.components_[0][index]]\n",
    "    index += 1\n",
    "    \n",
    "# Exclude all but the most extreme components, because there are a lot\n",
    "sortedcomps = pca.components_[0]\n",
    "sortedcomps.sort()\n",
    "maxcap = sortedcomps[-3]\n",
    "mincap = sortedcomps[2]\n",
    "components = {i:x for i, x in components.items() if x >= maxcap or x <= mincap}\n",
    "    \n",
    "# Convert to dataframe\n",
    "components = pd.DataFrame(components)\n",
    "\n",
    "# Plot the most extreme components\n",
    "components.plot(kind=\"bar\", figsize=(12, 4))"
   ]
  },
  {
   "cell_type": "code",
   "execution_count": null,
   "metadata": {},
   "outputs": [],
   "source": [
    "# Plot the first two principle components\n",
    "featurecomponents = pd.DataFrame(featurecomponents, columns=[\"Principle Component 1\", \"Principle Component 2\"])\n",
    "df[\"Principle Component 1\"] = featurecomponents[\"Principle Component 1\"]\n",
    "\n",
    "featurecomponents.plot(kind=\"scatter\", x=\"Principle Component 1\", y=\"Principle Component 2\", figsize=(12, 12), s=1)"
   ]
  },
  {
   "cell_type": "code",
   "execution_count": null,
   "metadata": {},
   "outputs": [],
   "source": [
    "# Add group_1 to the new data from pca\n",
    "featurecomponents[\"group_1\"] = df[\"group_1\"]\n",
    "\n",
    "# Get a list of groups to sample from\n",
    "groupslist = list(set(featurecomponents[\"group_1\"].tolist()))\n",
    "\n",
    "# Pick a group and plot\n",
    "group = featurecomponents[featurecomponents[\"group_1\"]==groupslist[0]]\n",
    "group.plot(kind=\"scatter\", x=\"Principle Component 1\", y=\"Principle Component 2\", figsize=(3, 3))\n",
    "print(\"There are {} data points in this group.\".format(len(group.index)))"
   ]
  },
  {
   "cell_type": "code",
   "execution_count": null,
   "metadata": {},
   "outputs": [],
   "source": [
    "# Pick a group and plot\n",
    "group = featurecomponents[featurecomponents[\"group_1\"]==groupslist[5]]\n",
    "group.plot(kind=\"scatter\", x=\"Principle Component 1\", y=\"Principle Component 2\", figsize=(3, 3))\n",
    "print(\"There are {} data points in this group.\".format(len(group.index)))"
   ]
  },
  {
   "cell_type": "code",
   "execution_count": null,
   "metadata": {},
   "outputs": [],
   "source": [
    "# Pick a group and plot\n",
    "group = featurecomponents[featurecomponents[\"group_1\"]==groupslist[6]]\n",
    "group.plot(kind=\"scatter\", x=\"Principle Component 1\", y=\"Principle Component 2\", figsize=(3, 3))\n",
    "print(\"There are {} data points in this group.\".format(len(group.index)))"
   ]
  },
  {
   "cell_type": "code",
   "execution_count": null,
   "metadata": {},
   "outputs": [],
   "source": [
    "# Define a list of possible amounts of explained variance we might care about\n",
    "cares = [i/100 for i in range(75, 100, 5)]\n",
    "\n",
    "# Run the PCA with increased components until each care level is reached\n",
    "for i in range (20, len(dums.columns.values)):\n",
    "    pca = PCA(n_components=i)\n",
    "    pca.fit(scaledums)\n",
    "    try:\n",
    "        if pca.explained_variance_ratio_.sum() > cares[0]:\n",
    "\n",
    "            # If greater, print a statement and drop the first item off the list\n",
    "            print(\"To explain {0} of the variance you'll need {1} components\".format(cares[0], i))\n",
    "            cares = cares[1:]\n",
    "    except:\n",
    "        break"
   ]
  }
 ],
 "metadata": {
  "kernelspec": {
   "display_name": "Python 3",
   "language": "python",
   "name": "python3"
  },
  "language_info": {
   "codemirror_mode": {
    "name": "ipython",
    "version": 3
   },
   "file_extension": ".py",
   "mimetype": "text/x-python",
   "name": "python",
   "nbconvert_exporter": "python",
   "pygments_lexer": "ipython3",
   "version": "3.6.4"
  },
  "widgets": {
   "application/vnd.jupyter.widget-state+json": {
    "state": {},
    "version_major": 2,
    "version_minor": 0
   }
  }
 },
 "nbformat": 4,
 "nbformat_minor": 2
}
