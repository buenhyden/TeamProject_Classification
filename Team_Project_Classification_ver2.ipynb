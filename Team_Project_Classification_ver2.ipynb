{
 "cells": [
  {
   "cell_type": "markdown",
   "metadata": {},
   "source": [
    "# Classification"
   ]
  },
  {
   "cell_type": "markdown",
   "metadata": {},
   "source": [
    "## Team Name\n",
    ">### Sigma  \n",
    "\n",
    "## Team Member\n",
    ">### 조현윤, 이상협, 정하연  \n",
    "\n",
    "## Objective\n",
    "> ### in search of better methods of using this behavioral data to predict which individuals they should approach—and even when and how to approach them.\n",
    "> ### to create a classification algorithm that accurately identifies which customers have the most potential business value for Red Hat based on their characteristics and activities.\n",
    "> ### to predict the potential business value of a person who has performed a specific activity.\n",
    "\n",
    "## Evaluation\n",
    "> ### valuated on area under the ROC curve between the predicted and the observed outcome.\n",
    "\n",
    "## Submission File\n",
    "> ### For each activity_id in the test set, you must predict a probability for the 'outcome' variable, represented by a number between 0 and 1.\n",
    "~~~~\n",
    "activity_id,outcome\n",
    "act1_1,0\n",
    "act1_100006,0\n",
    "act1_100050,0\n",
    "~~~~\n",
    "\n",
    "## Data\n",
    "> ### uses two separate data files that may be joined together to create a single, unified data table: a people file and an activity file.\n",
    "> ### The people file contains all of the unique people (and the corresponding characteristics) that have performed activities over time. Each row in the people file represents a unique person. Each person has a unique people_id.\n",
    "> ### The activity file contains all of the unique activities (and the corresponding activity characteristics) that each person has performed over time. Each row in the activity file represents a unique activity performed by a person on a certain date. Each activity has a unique activity_id.\n",
    "> ### The activity file contains several different categories of activities. \n",
    ">> Type 1 activities are different from type 2-7 activities because there are more known characteristics associated with type 1 activities (nine in total) than type 2-7 activities (which have only one associated characteristic).\n",
    "> ### To develop a predictive model with this data, you will likely need to join the files together into a single data set. The two files can be joined together using person_id as the common key. All variables are categorical, with the exception of 'char_38' in the people file, which is a continuous numerical variable.\n",
    "\n",
    "## Reference \n",
    "[kaggel Predicting Red Hat Business Value](https://www.kaggle.com/c/predicting-red-hat-business-value)"
   ]
  },
  {
   "cell_type": "markdown",
   "metadata": {},
   "source": [
    "### Load Python Package"
   ]
  },
  {
   "cell_type": "code",
   "execution_count": 1,
   "metadata": {},
   "outputs": [],
   "source": [
    "import pandas as pd\n",
    "import numpy as np\n",
    "import matplotlib.pyplot as plt\n",
    "import matplotlib\n",
    "from datetime import datetime\n",
    "from datetime import date\n",
    "import seaborn as sns\n",
    "import statsmodels.api as sm\n",
    "import statsmodels.stats.api as sms\n",
    "import statsmodels.stats.stattools as stools\n",
    "import scipy as sp\n",
    "%matplotlib inline"
   ]
  },
  {
   "cell_type": "code",
   "execution_count": 2,
   "metadata": {},
   "outputs": [
    {
     "name": "stderr",
     "output_type": "stream",
     "text": [
      "/Users/hyunyoun/anaconda3/lib/python3.6/site-packages/sklearn/cross_validation.py:41: DeprecationWarning: This module was deprecated in version 0.18 in favor of the model_selection module into which all the refactored classes and functions are moved. Also note that the interface of the new CV iterators are different from that of this module. This module will be removed in 0.20.\n",
      "  \"This module will be removed in 0.20.\", DeprecationWarning)\n"
     ]
    }
   ],
   "source": [
    "import xgboost"
   ]
  },
  {
   "cell_type": "code",
   "execution_count": 3,
   "metadata": {},
   "outputs": [],
   "source": [
    "from sklearn.model_selection import cross_val_score\n",
    "from sklearn.model_selection import KFold"
   ]
  },
  {
   "cell_type": "code",
   "execution_count": 4,
   "metadata": {},
   "outputs": [],
   "source": [
    "from sklearn.tree import DecisionTreeClassifier"
   ]
  },
  {
   "cell_type": "code",
   "execution_count": 5,
   "metadata": {},
   "outputs": [],
   "source": [
    "from sklearn.metrics import *"
   ]
  },
  {
   "cell_type": "code",
   "execution_count": 6,
   "metadata": {},
   "outputs": [],
   "source": [
    "from sklearn.ensemble import VotingClassifier"
   ]
  },
  {
   "cell_type": "code",
   "execution_count": 7,
   "metadata": {},
   "outputs": [],
   "source": [
    "from sklearn.ensemble import GradientBoostingClassifier"
   ]
  },
  {
   "cell_type": "code",
   "execution_count": 8,
   "metadata": {},
   "outputs": [],
   "source": [
    "from sklearn.ensemble import RandomForestClassifier, ExtraTreesClassifier"
   ]
  },
  {
   "cell_type": "code",
   "execution_count": 9,
   "metadata": {},
   "outputs": [],
   "source": [
    "from sklearn.linear_model import LogisticRegression"
   ]
  },
  {
   "cell_type": "code",
   "execution_count": 10,
   "metadata": {},
   "outputs": [],
   "source": [
    "from sklearn.discriminant_analysis import QuadraticDiscriminantAnalysis"
   ]
  },
  {
   "cell_type": "code",
   "execution_count": 11,
   "metadata": {},
   "outputs": [],
   "source": [
    "from sklearn.discriminant_analysis import LinearDiscriminantAnalysis"
   ]
  },
  {
   "cell_type": "code",
   "execution_count": 12,
   "metadata": {},
   "outputs": [],
   "source": [
    "from sklearn.naive_bayes import GaussianNB\n",
    "from sklearn.naive_bayes import BernoulliNB\n",
    "from sklearn.naive_bayes import MultinomialNB\n",
    "from sklearn.ensemble import BaggingClassifier\n",
    "from sklearn.ensemble import AdaBoostClassifier\n"
   ]
  },
  {
   "cell_type": "code",
   "execution_count": 13,
   "metadata": {},
   "outputs": [],
   "source": [
    "from sklearn.preprocessing import LabelEncoder"
   ]
  },
  {
   "cell_type": "code",
   "execution_count": 14,
   "metadata": {},
   "outputs": [],
   "source": [
    "cv =KFold(10)"
   ]
  },
  {
   "cell_type": "markdown",
   "metadata": {},
   "source": [
    "## Exploratory Data Analysis (EDA )¶"
   ]
  },
  {
   "cell_type": "markdown",
   "metadata": {},
   "source": [
    "## Load Data Set"
   ]
  },
  {
   "cell_type": "code",
   "execution_count": 51,
   "metadata": {},
   "outputs": [],
   "source": [
    "# activity data set\n",
    "act_Train = pd.read_csv('./data/act_train.csv')\n",
    "act_Test = pd.read_csv('./data/act_test.csv')\n",
    "# people data set\n",
    "people = pd.read_csv('./data/people.csv')"
   ]
  },
  {
   "cell_type": "markdown",
   "metadata": {},
   "source": [
    "### Split people data set wether train data set or test data set"
   ]
  },
  {
   "cell_type": "code",
   "execution_count": 52,
   "metadata": {},
   "outputs": [],
   "source": [
    "idx_train =list(act_Train['people_id'].value_counts().index)\n",
    "idx_test =list(act_Test['people_id'].value_counts().index)"
   ]
  },
  {
   "cell_type": "code",
   "execution_count": 53,
   "metadata": {},
   "outputs": [],
   "source": [
    "train_people = people.loc[people['people_id'].isin(idx_train)]\n",
    "test_people = people.loc[people['people_id'].isin(idx_test)]"
   ]
  },
  {
   "cell_type": "code",
   "execution_count": 54,
   "metadata": {},
   "outputs": [],
   "source": [
    "train_people.to_csv('./data/act_train_people.csv',index=False)\n",
    "test_people.to_csv('./data/act_test_people.csv',index=False)"
   ]
  },
  {
   "cell_type": "code",
   "execution_count": 55,
   "metadata": {},
   "outputs": [
    {
     "name": "stdout",
     "output_type": "stream",
     "text": [
      "Number of active people: 151295\n"
     ]
    }
   ],
   "source": [
    "print('Number of active people: {}'.format(act_Train['people_id'].nunique()))"
   ]
  },
  {
   "cell_type": "code",
   "execution_count": 56,
   "metadata": {},
   "outputs": [
    {
     "name": "stdout",
     "output_type": "stream",
     "text": [
      "Number of active people: 37823\n"
     ]
    }
   ],
   "source": [
    "print('Number of active people: {}'.format(act_Test['people_id'].nunique()))"
   ]
  },
  {
   "cell_type": "code",
   "execution_count": 57,
   "metadata": {},
   "outputs": [
    {
     "data": {
      "text/html": [
       "<div>\n",
       "<style scoped>\n",
       "    .dataframe tbody tr th:only-of-type {\n",
       "        vertical-align: middle;\n",
       "    }\n",
       "\n",
       "    .dataframe tbody tr th {\n",
       "        vertical-align: top;\n",
       "    }\n",
       "\n",
       "    .dataframe thead th {\n",
       "        text-align: right;\n",
       "    }\n",
       "</style>\n",
       "<table border=\"1\" class=\"dataframe\">\n",
       "  <thead>\n",
       "    <tr style=\"text-align: right;\">\n",
       "      <th></th>\n",
       "      <th>people_id</th>\n",
       "      <th>activity_id</th>\n",
       "      <th>date_x</th>\n",
       "      <th>activity_category</th>\n",
       "      <th>char_1_x</th>\n",
       "      <th>char_2_x</th>\n",
       "      <th>char_3_x</th>\n",
       "      <th>char_4_x</th>\n",
       "      <th>char_5_x</th>\n",
       "      <th>char_6_x</th>\n",
       "      <th>...</th>\n",
       "      <th>char_29</th>\n",
       "      <th>char_30</th>\n",
       "      <th>char_31</th>\n",
       "      <th>char_32</th>\n",
       "      <th>char_33</th>\n",
       "      <th>char_34</th>\n",
       "      <th>char_35</th>\n",
       "      <th>char_36</th>\n",
       "      <th>char_37</th>\n",
       "      <th>char_38</th>\n",
       "    </tr>\n",
       "  </thead>\n",
       "  <tbody>\n",
       "    <tr>\n",
       "      <th>2197286</th>\n",
       "      <td>ppl_99994</td>\n",
       "      <td>act2_4668076</td>\n",
       "      <td>2023-06-16</td>\n",
       "      <td>type 4</td>\n",
       "      <td>NaN</td>\n",
       "      <td>NaN</td>\n",
       "      <td>NaN</td>\n",
       "      <td>NaN</td>\n",
       "      <td>NaN</td>\n",
       "      <td>NaN</td>\n",
       "      <td>...</td>\n",
       "      <td>True</td>\n",
       "      <td>True</td>\n",
       "      <td>True</td>\n",
       "      <td>True</td>\n",
       "      <td>False</td>\n",
       "      <td>True</td>\n",
       "      <td>True</td>\n",
       "      <td>True</td>\n",
       "      <td>True</td>\n",
       "      <td>95</td>\n",
       "    </tr>\n",
       "    <tr>\n",
       "      <th>2197287</th>\n",
       "      <td>ppl_99994</td>\n",
       "      <td>act2_4743548</td>\n",
       "      <td>2023-03-30</td>\n",
       "      <td>type 4</td>\n",
       "      <td>NaN</td>\n",
       "      <td>NaN</td>\n",
       "      <td>NaN</td>\n",
       "      <td>NaN</td>\n",
       "      <td>NaN</td>\n",
       "      <td>NaN</td>\n",
       "      <td>...</td>\n",
       "      <td>True</td>\n",
       "      <td>True</td>\n",
       "      <td>True</td>\n",
       "      <td>True</td>\n",
       "      <td>False</td>\n",
       "      <td>True</td>\n",
       "      <td>True</td>\n",
       "      <td>True</td>\n",
       "      <td>True</td>\n",
       "      <td>95</td>\n",
       "    </tr>\n",
       "    <tr>\n",
       "      <th>2197288</th>\n",
       "      <td>ppl_99994</td>\n",
       "      <td>act2_536973</td>\n",
       "      <td>2023-01-19</td>\n",
       "      <td>type 2</td>\n",
       "      <td>NaN</td>\n",
       "      <td>NaN</td>\n",
       "      <td>NaN</td>\n",
       "      <td>NaN</td>\n",
       "      <td>NaN</td>\n",
       "      <td>NaN</td>\n",
       "      <td>...</td>\n",
       "      <td>True</td>\n",
       "      <td>True</td>\n",
       "      <td>True</td>\n",
       "      <td>True</td>\n",
       "      <td>False</td>\n",
       "      <td>True</td>\n",
       "      <td>True</td>\n",
       "      <td>True</td>\n",
       "      <td>True</td>\n",
       "      <td>95</td>\n",
       "    </tr>\n",
       "    <tr>\n",
       "      <th>2197289</th>\n",
       "      <td>ppl_99994</td>\n",
       "      <td>act2_688656</td>\n",
       "      <td>2023-05-02</td>\n",
       "      <td>type 4</td>\n",
       "      <td>NaN</td>\n",
       "      <td>NaN</td>\n",
       "      <td>NaN</td>\n",
       "      <td>NaN</td>\n",
       "      <td>NaN</td>\n",
       "      <td>NaN</td>\n",
       "      <td>...</td>\n",
       "      <td>True</td>\n",
       "      <td>True</td>\n",
       "      <td>True</td>\n",
       "      <td>True</td>\n",
       "      <td>False</td>\n",
       "      <td>True</td>\n",
       "      <td>True</td>\n",
       "      <td>True</td>\n",
       "      <td>True</td>\n",
       "      <td>95</td>\n",
       "    </tr>\n",
       "    <tr>\n",
       "      <th>2197290</th>\n",
       "      <td>ppl_99994</td>\n",
       "      <td>act2_715089</td>\n",
       "      <td>2023-06-15</td>\n",
       "      <td>type 2</td>\n",
       "      <td>NaN</td>\n",
       "      <td>NaN</td>\n",
       "      <td>NaN</td>\n",
       "      <td>NaN</td>\n",
       "      <td>NaN</td>\n",
       "      <td>NaN</td>\n",
       "      <td>...</td>\n",
       "      <td>True</td>\n",
       "      <td>True</td>\n",
       "      <td>True</td>\n",
       "      <td>True</td>\n",
       "      <td>False</td>\n",
       "      <td>True</td>\n",
       "      <td>True</td>\n",
       "      <td>True</td>\n",
       "      <td>True</td>\n",
       "      <td>95</td>\n",
       "    </tr>\n",
       "  </tbody>\n",
       "</table>\n",
       "<p>5 rows × 55 columns</p>\n",
       "</div>"
      ],
      "text/plain": [
       "         people_id   activity_id      date_x activity_category char_1_x  \\\n",
       "2197286  ppl_99994  act2_4668076  2023-06-16            type 4      NaN   \n",
       "2197287  ppl_99994  act2_4743548  2023-03-30            type 4      NaN   \n",
       "2197288  ppl_99994   act2_536973  2023-01-19            type 2      NaN   \n",
       "2197289  ppl_99994   act2_688656  2023-05-02            type 4      NaN   \n",
       "2197290  ppl_99994   act2_715089  2023-06-15            type 2      NaN   \n",
       "\n",
       "        char_2_x char_3_x char_4_x char_5_x char_6_x   ...   char_29 char_30  \\\n",
       "2197286      NaN      NaN      NaN      NaN      NaN   ...      True    True   \n",
       "2197287      NaN      NaN      NaN      NaN      NaN   ...      True    True   \n",
       "2197288      NaN      NaN      NaN      NaN      NaN   ...      True    True   \n",
       "2197289      NaN      NaN      NaN      NaN      NaN   ...      True    True   \n",
       "2197290      NaN      NaN      NaN      NaN      NaN   ...      True    True   \n",
       "\n",
       "        char_31 char_32  char_33 char_34 char_35 char_36 char_37 char_38  \n",
       "2197286    True    True    False    True    True    True    True      95  \n",
       "2197287    True    True    False    True    True    True    True      95  \n",
       "2197288    True    True    False    True    True    True    True      95  \n",
       "2197289    True    True    False    True    True    True    True      95  \n",
       "2197290    True    True    False    True    True    True    True      95  \n",
       "\n",
       "[5 rows x 55 columns]"
      ]
     },
     "execution_count": 57,
     "metadata": {},
     "output_type": "execute_result"
    }
   ],
   "source": [
    "trainMerge = pd.merge(act_Train,people, on='people_id')\n",
    "trainMerge.tail()"
   ]
  },
  {
   "cell_type": "code",
   "execution_count": 58,
   "metadata": {},
   "outputs": [],
   "source": [
    "trainMerge.to_csv('./data/train_merge.csv',index=False)"
   ]
  },
  {
   "cell_type": "code",
   "execution_count": 59,
   "metadata": {},
   "outputs": [
    {
     "data": {
      "text/html": [
       "<div>\n",
       "<style scoped>\n",
       "    .dataframe tbody tr th:only-of-type {\n",
       "        vertical-align: middle;\n",
       "    }\n",
       "\n",
       "    .dataframe tbody tr th {\n",
       "        vertical-align: top;\n",
       "    }\n",
       "\n",
       "    .dataframe thead th {\n",
       "        text-align: right;\n",
       "    }\n",
       "</style>\n",
       "<table border=\"1\" class=\"dataframe\">\n",
       "  <thead>\n",
       "    <tr style=\"text-align: right;\">\n",
       "      <th></th>\n",
       "      <th>people_id</th>\n",
       "      <th>activity_id</th>\n",
       "      <th>date_x</th>\n",
       "      <th>activity_category</th>\n",
       "      <th>char_1_x</th>\n",
       "      <th>char_2_x</th>\n",
       "      <th>char_3_x</th>\n",
       "      <th>char_4_x</th>\n",
       "      <th>char_5_x</th>\n",
       "      <th>char_6_x</th>\n",
       "      <th>...</th>\n",
       "      <th>char_29</th>\n",
       "      <th>char_30</th>\n",
       "      <th>char_31</th>\n",
       "      <th>char_32</th>\n",
       "      <th>char_33</th>\n",
       "      <th>char_34</th>\n",
       "      <th>char_35</th>\n",
       "      <th>char_36</th>\n",
       "      <th>char_37</th>\n",
       "      <th>char_38</th>\n",
       "    </tr>\n",
       "  </thead>\n",
       "  <tbody>\n",
       "    <tr>\n",
       "      <th>498682</th>\n",
       "      <td>ppl_99997</td>\n",
       "      <td>act2_4367092</td>\n",
       "      <td>2023-04-22</td>\n",
       "      <td>type 2</td>\n",
       "      <td>NaN</td>\n",
       "      <td>NaN</td>\n",
       "      <td>NaN</td>\n",
       "      <td>NaN</td>\n",
       "      <td>NaN</td>\n",
       "      <td>NaN</td>\n",
       "      <td>...</td>\n",
       "      <td>False</td>\n",
       "      <td>False</td>\n",
       "      <td>False</td>\n",
       "      <td>False</td>\n",
       "      <td>False</td>\n",
       "      <td>False</td>\n",
       "      <td>False</td>\n",
       "      <td>False</td>\n",
       "      <td>False</td>\n",
       "      <td>36</td>\n",
       "    </tr>\n",
       "    <tr>\n",
       "      <th>498683</th>\n",
       "      <td>ppl_99997</td>\n",
       "      <td>act2_4404220</td>\n",
       "      <td>2022-11-12</td>\n",
       "      <td>type 2</td>\n",
       "      <td>NaN</td>\n",
       "      <td>NaN</td>\n",
       "      <td>NaN</td>\n",
       "      <td>NaN</td>\n",
       "      <td>NaN</td>\n",
       "      <td>NaN</td>\n",
       "      <td>...</td>\n",
       "      <td>False</td>\n",
       "      <td>False</td>\n",
       "      <td>False</td>\n",
       "      <td>False</td>\n",
       "      <td>False</td>\n",
       "      <td>False</td>\n",
       "      <td>False</td>\n",
       "      <td>False</td>\n",
       "      <td>False</td>\n",
       "      <td>36</td>\n",
       "    </tr>\n",
       "    <tr>\n",
       "      <th>498684</th>\n",
       "      <td>ppl_99997</td>\n",
       "      <td>act2_448830</td>\n",
       "      <td>2022-08-02</td>\n",
       "      <td>type 2</td>\n",
       "      <td>NaN</td>\n",
       "      <td>NaN</td>\n",
       "      <td>NaN</td>\n",
       "      <td>NaN</td>\n",
       "      <td>NaN</td>\n",
       "      <td>NaN</td>\n",
       "      <td>...</td>\n",
       "      <td>False</td>\n",
       "      <td>False</td>\n",
       "      <td>False</td>\n",
       "      <td>False</td>\n",
       "      <td>False</td>\n",
       "      <td>False</td>\n",
       "      <td>False</td>\n",
       "      <td>False</td>\n",
       "      <td>False</td>\n",
       "      <td>36</td>\n",
       "    </tr>\n",
       "    <tr>\n",
       "      <th>498685</th>\n",
       "      <td>ppl_99997</td>\n",
       "      <td>act2_450133</td>\n",
       "      <td>2022-08-02</td>\n",
       "      <td>type 2</td>\n",
       "      <td>NaN</td>\n",
       "      <td>NaN</td>\n",
       "      <td>NaN</td>\n",
       "      <td>NaN</td>\n",
       "      <td>NaN</td>\n",
       "      <td>NaN</td>\n",
       "      <td>...</td>\n",
       "      <td>False</td>\n",
       "      <td>False</td>\n",
       "      <td>False</td>\n",
       "      <td>False</td>\n",
       "      <td>False</td>\n",
       "      <td>False</td>\n",
       "      <td>False</td>\n",
       "      <td>False</td>\n",
       "      <td>False</td>\n",
       "      <td>36</td>\n",
       "    </tr>\n",
       "    <tr>\n",
       "      <th>498686</th>\n",
       "      <td>ppl_99997</td>\n",
       "      <td>act2_847967</td>\n",
       "      <td>2022-10-15</td>\n",
       "      <td>type 2</td>\n",
       "      <td>NaN</td>\n",
       "      <td>NaN</td>\n",
       "      <td>NaN</td>\n",
       "      <td>NaN</td>\n",
       "      <td>NaN</td>\n",
       "      <td>NaN</td>\n",
       "      <td>...</td>\n",
       "      <td>False</td>\n",
       "      <td>False</td>\n",
       "      <td>False</td>\n",
       "      <td>False</td>\n",
       "      <td>False</td>\n",
       "      <td>False</td>\n",
       "      <td>False</td>\n",
       "      <td>False</td>\n",
       "      <td>False</td>\n",
       "      <td>36</td>\n",
       "    </tr>\n",
       "  </tbody>\n",
       "</table>\n",
       "<p>5 rows × 54 columns</p>\n",
       "</div>"
      ],
      "text/plain": [
       "        people_id   activity_id      date_x activity_category char_1_x  \\\n",
       "498682  ppl_99997  act2_4367092  2023-04-22            type 2      NaN   \n",
       "498683  ppl_99997  act2_4404220  2022-11-12            type 2      NaN   \n",
       "498684  ppl_99997   act2_448830  2022-08-02            type 2      NaN   \n",
       "498685  ppl_99997   act2_450133  2022-08-02            type 2      NaN   \n",
       "498686  ppl_99997   act2_847967  2022-10-15            type 2      NaN   \n",
       "\n",
       "       char_2_x char_3_x char_4_x char_5_x char_6_x   ...   char_29 char_30  \\\n",
       "498682      NaN      NaN      NaN      NaN      NaN   ...     False   False   \n",
       "498683      NaN      NaN      NaN      NaN      NaN   ...     False   False   \n",
       "498684      NaN      NaN      NaN      NaN      NaN   ...     False   False   \n",
       "498685      NaN      NaN      NaN      NaN      NaN   ...     False   False   \n",
       "498686      NaN      NaN      NaN      NaN      NaN   ...     False   False   \n",
       "\n",
       "       char_31 char_32 char_33 char_34 char_35 char_36 char_37 char_38  \n",
       "498682   False   False   False   False   False   False   False      36  \n",
       "498683   False   False   False   False   False   False   False      36  \n",
       "498684   False   False   False   False   False   False   False      36  \n",
       "498685   False   False   False   False   False   False   False      36  \n",
       "498686   False   False   False   False   False   False   False      36  \n",
       "\n",
       "[5 rows x 54 columns]"
      ]
     },
     "execution_count": 59,
     "metadata": {},
     "output_type": "execute_result"
    }
   ],
   "source": [
    "testMerge = pd.merge(act_Test,people, on='people_id')\n",
    "testMerge.tail()"
   ]
  },
  {
   "cell_type": "code",
   "execution_count": 60,
   "metadata": {},
   "outputs": [],
   "source": [
    "testMerge.to_csv('./data/test_merge.csv',index=False)"
   ]
  },
  {
   "cell_type": "code",
   "execution_count": 61,
   "metadata": {},
   "outputs": [],
   "source": [
    "dfx = act_Train.groupby(['people_id','outcome']).size().unstack()\n",
    "dfx = dfx.fillna(0).astype(int)"
   ]
  },
  {
   "cell_type": "code",
   "execution_count": 62,
   "metadata": {
    "scrolled": true
   },
   "outputs": [],
   "source": [
    "only1 = dfx[(dfx[0]==0) & (dfx[1]!=0)]\n",
    "only0 = dfx[(dfx[0]!=0) & (dfx[1]==0)]\n",
    "mix_0or1 = dfx[(dfx[0]!=0) & (dfx[1]!=0)]"
   ]
  },
  {
   "cell_type": "code",
   "execution_count": 63,
   "metadata": {},
   "outputs": [
    {
     "name": "stdout",
     "output_type": "stream",
     "text": [
      "62115 82524 6656\n"
     ]
    }
   ],
   "source": [
    "print (len(only1.index),len(only0.index),len(mix_0or1))"
   ]
  },
  {
   "cell_type": "code",
   "execution_count": 64,
   "metadata": {},
   "outputs": [],
   "source": [
    "train_People = pd.merge(train_people, dfx, left_on = 'people_id',right_index = True)"
   ]
  },
  {
   "cell_type": "code",
   "execution_count": 65,
   "metadata": {},
   "outputs": [],
   "source": [
    "train_People.rename(columns={0:'outcome_0',1:'outcome_1'}, inplace = True)"
   ]
  },
  {
   "cell_type": "code",
   "execution_count": 66,
   "metadata": {},
   "outputs": [],
   "source": [
    "def ax(x):\n",
    "    if x['outcome_0'] !=0 and x['outcome_1'] ==0:\n",
    "        return 0\n",
    "    elif x['outcome_0'] ==0 and x['outcome_1'] !=0:\n",
    "        return 1\n",
    "    else:\n",
    "        return 2"
   ]
  },
  {
   "cell_type": "code",
   "execution_count": 67,
   "metadata": {
    "scrolled": false
   },
   "outputs": [
    {
     "data": {
      "text/html": [
       "<div>\n",
       "<style scoped>\n",
       "    .dataframe tbody tr th:only-of-type {\n",
       "        vertical-align: middle;\n",
       "    }\n",
       "\n",
       "    .dataframe tbody tr th {\n",
       "        vertical-align: top;\n",
       "    }\n",
       "\n",
       "    .dataframe thead th {\n",
       "        text-align: right;\n",
       "    }\n",
       "</style>\n",
       "<table border=\"1\" class=\"dataframe\">\n",
       "  <thead>\n",
       "    <tr style=\"text-align: right;\">\n",
       "      <th></th>\n",
       "      <th>people_id</th>\n",
       "      <th>char_1</th>\n",
       "      <th>group_1</th>\n",
       "      <th>char_2</th>\n",
       "      <th>date</th>\n",
       "      <th>char_3</th>\n",
       "      <th>char_4</th>\n",
       "      <th>char_5</th>\n",
       "      <th>char_6</th>\n",
       "      <th>char_7</th>\n",
       "      <th>...</th>\n",
       "      <th>char_31</th>\n",
       "      <th>char_32</th>\n",
       "      <th>char_33</th>\n",
       "      <th>char_34</th>\n",
       "      <th>char_35</th>\n",
       "      <th>char_36</th>\n",
       "      <th>char_37</th>\n",
       "      <th>char_38</th>\n",
       "      <th>outcome_0</th>\n",
       "      <th>outcome_1</th>\n",
       "    </tr>\n",
       "  </thead>\n",
       "  <tbody>\n",
       "    <tr>\n",
       "      <th>0</th>\n",
       "      <td>ppl_100</td>\n",
       "      <td>type 2</td>\n",
       "      <td>group 17304</td>\n",
       "      <td>type 2</td>\n",
       "      <td>2021-06-29</td>\n",
       "      <td>type 5</td>\n",
       "      <td>type 5</td>\n",
       "      <td>type 5</td>\n",
       "      <td>type 3</td>\n",
       "      <td>type 11</td>\n",
       "      <td>...</td>\n",
       "      <td>True</td>\n",
       "      <td>False</td>\n",
       "      <td>False</td>\n",
       "      <td>True</td>\n",
       "      <td>True</td>\n",
       "      <td>True</td>\n",
       "      <td>False</td>\n",
       "      <td>36</td>\n",
       "      <td>6</td>\n",
       "      <td>0</td>\n",
       "    </tr>\n",
       "    <tr>\n",
       "      <th>1</th>\n",
       "      <td>ppl_100002</td>\n",
       "      <td>type 2</td>\n",
       "      <td>group 8688</td>\n",
       "      <td>type 3</td>\n",
       "      <td>2021-01-06</td>\n",
       "      <td>type 28</td>\n",
       "      <td>type 9</td>\n",
       "      <td>type 5</td>\n",
       "      <td>type 3</td>\n",
       "      <td>type 11</td>\n",
       "      <td>...</td>\n",
       "      <td>True</td>\n",
       "      <td>True</td>\n",
       "      <td>True</td>\n",
       "      <td>True</td>\n",
       "      <td>True</td>\n",
       "      <td>True</td>\n",
       "      <td>False</td>\n",
       "      <td>76</td>\n",
       "      <td>0</td>\n",
       "      <td>2</td>\n",
       "    </tr>\n",
       "    <tr>\n",
       "      <th>2</th>\n",
       "      <td>ppl_100003</td>\n",
       "      <td>type 2</td>\n",
       "      <td>group 33592</td>\n",
       "      <td>type 3</td>\n",
       "      <td>2022-06-10</td>\n",
       "      <td>type 4</td>\n",
       "      <td>type 8</td>\n",
       "      <td>type 5</td>\n",
       "      <td>type 2</td>\n",
       "      <td>type 5</td>\n",
       "      <td>...</td>\n",
       "      <td>True</td>\n",
       "      <td>True</td>\n",
       "      <td>True</td>\n",
       "      <td>True</td>\n",
       "      <td>False</td>\n",
       "      <td>True</td>\n",
       "      <td>True</td>\n",
       "      <td>99</td>\n",
       "      <td>0</td>\n",
       "      <td>34</td>\n",
       "    </tr>\n",
       "    <tr>\n",
       "      <th>4</th>\n",
       "      <td>ppl_100006</td>\n",
       "      <td>type 2</td>\n",
       "      <td>group 6534</td>\n",
       "      <td>type 3</td>\n",
       "      <td>2022-07-27</td>\n",
       "      <td>type 40</td>\n",
       "      <td>type 25</td>\n",
       "      <td>type 9</td>\n",
       "      <td>type 3</td>\n",
       "      <td>type 8</td>\n",
       "      <td>...</td>\n",
       "      <td>True</td>\n",
       "      <td>False</td>\n",
       "      <td>False</td>\n",
       "      <td>False</td>\n",
       "      <td>True</td>\n",
       "      <td>True</td>\n",
       "      <td>False</td>\n",
       "      <td>84</td>\n",
       "      <td>0</td>\n",
       "      <td>3</td>\n",
       "    </tr>\n",
       "    <tr>\n",
       "      <th>7</th>\n",
       "      <td>ppl_100013</td>\n",
       "      <td>type 2</td>\n",
       "      <td>group 4204</td>\n",
       "      <td>type 3</td>\n",
       "      <td>2023-01-24</td>\n",
       "      <td>type 4</td>\n",
       "      <td>type 8</td>\n",
       "      <td>type 4</td>\n",
       "      <td>type 1</td>\n",
       "      <td>type 7</td>\n",
       "      <td>...</td>\n",
       "      <td>True</td>\n",
       "      <td>True</td>\n",
       "      <td>True</td>\n",
       "      <td>True</td>\n",
       "      <td>False</td>\n",
       "      <td>True</td>\n",
       "      <td>True</td>\n",
       "      <td>91</td>\n",
       "      <td>0</td>\n",
       "      <td>5</td>\n",
       "    </tr>\n",
       "  </tbody>\n",
       "</table>\n",
       "<p>5 rows × 43 columns</p>\n",
       "</div>"
      ],
      "text/plain": [
       "    people_id  char_1      group_1  char_2        date   char_3   char_4  \\\n",
       "0     ppl_100  type 2  group 17304  type 2  2021-06-29   type 5   type 5   \n",
       "1  ppl_100002  type 2   group 8688  type 3  2021-01-06  type 28   type 9   \n",
       "2  ppl_100003  type 2  group 33592  type 3  2022-06-10   type 4   type 8   \n",
       "4  ppl_100006  type 2   group 6534  type 3  2022-07-27  type 40  type 25   \n",
       "7  ppl_100013  type 2   group 4204  type 3  2023-01-24   type 4   type 8   \n",
       "\n",
       "   char_5  char_6   char_7    ...     char_31 char_32  char_33  char_34  \\\n",
       "0  type 5  type 3  type 11    ...        True   False    False     True   \n",
       "1  type 5  type 3  type 11    ...        True    True     True     True   \n",
       "2  type 5  type 2   type 5    ...        True    True     True     True   \n",
       "4  type 9  type 3   type 8    ...        True   False    False    False   \n",
       "7  type 4  type 1   type 7    ...        True    True     True     True   \n",
       "\n",
       "   char_35  char_36  char_37  char_38  outcome_0  outcome_1  \n",
       "0     True     True    False       36          6          0  \n",
       "1     True     True    False       76          0          2  \n",
       "2    False     True     True       99          0         34  \n",
       "4     True     True    False       84          0          3  \n",
       "7    False     True     True       91          0          5  \n",
       "\n",
       "[5 rows x 43 columns]"
      ]
     },
     "execution_count": 67,
     "metadata": {},
     "output_type": "execute_result"
    }
   ],
   "source": [
    "train_People.head()"
   ]
  },
  {
   "cell_type": "code",
   "execution_count": 68,
   "metadata": {},
   "outputs": [],
   "source": [
    "train_People['result'] = train_People.apply(ax, axis = 1)"
   ]
  },
  {
   "cell_type": "code",
   "execution_count": 69,
   "metadata": {},
   "outputs": [
    {
     "data": {
      "text/html": [
       "<div>\n",
       "<style scoped>\n",
       "    .dataframe tbody tr th:only-of-type {\n",
       "        vertical-align: middle;\n",
       "    }\n",
       "\n",
       "    .dataframe tbody tr th {\n",
       "        vertical-align: top;\n",
       "    }\n",
       "\n",
       "    .dataframe thead th {\n",
       "        text-align: right;\n",
       "    }\n",
       "</style>\n",
       "<table border=\"1\" class=\"dataframe\">\n",
       "  <thead>\n",
       "    <tr style=\"text-align: right;\">\n",
       "      <th></th>\n",
       "      <th>people_id</th>\n",
       "      <th>char_1</th>\n",
       "      <th>group_1</th>\n",
       "      <th>char_2</th>\n",
       "      <th>date</th>\n",
       "      <th>char_3</th>\n",
       "      <th>char_4</th>\n",
       "      <th>char_5</th>\n",
       "      <th>char_6</th>\n",
       "      <th>char_7</th>\n",
       "      <th>...</th>\n",
       "      <th>char_32</th>\n",
       "      <th>char_33</th>\n",
       "      <th>char_34</th>\n",
       "      <th>char_35</th>\n",
       "      <th>char_36</th>\n",
       "      <th>char_37</th>\n",
       "      <th>char_38</th>\n",
       "      <th>outcome_0</th>\n",
       "      <th>outcome_1</th>\n",
       "      <th>result</th>\n",
       "    </tr>\n",
       "  </thead>\n",
       "  <tbody>\n",
       "    <tr>\n",
       "      <th>189111</th>\n",
       "      <td>ppl_99981</td>\n",
       "      <td>type 2</td>\n",
       "      <td>group 17304</td>\n",
       "      <td>type 2</td>\n",
       "      <td>2023-01-26</td>\n",
       "      <td>type 5</td>\n",
       "      <td>type 5</td>\n",
       "      <td>type 5</td>\n",
       "      <td>type 2</td>\n",
       "      <td>type 5</td>\n",
       "      <td>...</td>\n",
       "      <td>True</td>\n",
       "      <td>False</td>\n",
       "      <td>True</td>\n",
       "      <td>False</td>\n",
       "      <td>True</td>\n",
       "      <td>True</td>\n",
       "      <td>3</td>\n",
       "      <td>7</td>\n",
       "      <td>0</td>\n",
       "      <td>0</td>\n",
       "    </tr>\n",
       "    <tr>\n",
       "      <th>189113</th>\n",
       "      <td>ppl_99987</td>\n",
       "      <td>type 1</td>\n",
       "      <td>group 8600</td>\n",
       "      <td>type 1</td>\n",
       "      <td>2022-04-02</td>\n",
       "      <td>type 4</td>\n",
       "      <td>type 6</td>\n",
       "      <td>type 4</td>\n",
       "      <td>type 3</td>\n",
       "      <td>type 11</td>\n",
       "      <td>...</td>\n",
       "      <td>True</td>\n",
       "      <td>False</td>\n",
       "      <td>True</td>\n",
       "      <td>False</td>\n",
       "      <td>True</td>\n",
       "      <td>True</td>\n",
       "      <td>89</td>\n",
       "      <td>0</td>\n",
       "      <td>1</td>\n",
       "      <td>1</td>\n",
       "    </tr>\n",
       "    <tr>\n",
       "      <th>189114</th>\n",
       "      <td>ppl_9999</td>\n",
       "      <td>type 2</td>\n",
       "      <td>group 17304</td>\n",
       "      <td>type 2</td>\n",
       "      <td>2023-02-23</td>\n",
       "      <td>type 6</td>\n",
       "      <td>type 2</td>\n",
       "      <td>type 8</td>\n",
       "      <td>type 3</td>\n",
       "      <td>type 11</td>\n",
       "      <td>...</td>\n",
       "      <td>False</td>\n",
       "      <td>False</td>\n",
       "      <td>False</td>\n",
       "      <td>False</td>\n",
       "      <td>False</td>\n",
       "      <td>False</td>\n",
       "      <td>0</td>\n",
       "      <td>2</td>\n",
       "      <td>0</td>\n",
       "      <td>0</td>\n",
       "    </tr>\n",
       "    <tr>\n",
       "      <th>189115</th>\n",
       "      <td>ppl_99992</td>\n",
       "      <td>type 2</td>\n",
       "      <td>group 17304</td>\n",
       "      <td>type 2</td>\n",
       "      <td>2020-06-25</td>\n",
       "      <td>type 5</td>\n",
       "      <td>type 5</td>\n",
       "      <td>type 3</td>\n",
       "      <td>type 4</td>\n",
       "      <td>type 16</td>\n",
       "      <td>...</td>\n",
       "      <td>False</td>\n",
       "      <td>False</td>\n",
       "      <td>False</td>\n",
       "      <td>False</td>\n",
       "      <td>False</td>\n",
       "      <td>False</td>\n",
       "      <td>0</td>\n",
       "      <td>2</td>\n",
       "      <td>0</td>\n",
       "      <td>0</td>\n",
       "    </tr>\n",
       "    <tr>\n",
       "      <th>189116</th>\n",
       "      <td>ppl_99994</td>\n",
       "      <td>type 2</td>\n",
       "      <td>group 17764</td>\n",
       "      <td>type 3</td>\n",
       "      <td>2023-01-06</td>\n",
       "      <td>type 2</td>\n",
       "      <td>type 7</td>\n",
       "      <td>type 2</td>\n",
       "      <td>type 1</td>\n",
       "      <td>type 2</td>\n",
       "      <td>...</td>\n",
       "      <td>True</td>\n",
       "      <td>False</td>\n",
       "      <td>True</td>\n",
       "      <td>True</td>\n",
       "      <td>True</td>\n",
       "      <td>True</td>\n",
       "      <td>95</td>\n",
       "      <td>0</td>\n",
       "      <td>46</td>\n",
       "      <td>1</td>\n",
       "    </tr>\n",
       "  </tbody>\n",
       "</table>\n",
       "<p>5 rows × 44 columns</p>\n",
       "</div>"
      ],
      "text/plain": [
       "        people_id  char_1      group_1  char_2        date  char_3  char_4  \\\n",
       "189111  ppl_99981  type 2  group 17304  type 2  2023-01-26  type 5  type 5   \n",
       "189113  ppl_99987  type 1   group 8600  type 1  2022-04-02  type 4  type 6   \n",
       "189114   ppl_9999  type 2  group 17304  type 2  2023-02-23  type 6  type 2   \n",
       "189115  ppl_99992  type 2  group 17304  type 2  2020-06-25  type 5  type 5   \n",
       "189116  ppl_99994  type 2  group 17764  type 3  2023-01-06  type 2  type 7   \n",
       "\n",
       "        char_5  char_6   char_7   ...   char_32 char_33  char_34  char_35  \\\n",
       "189111  type 5  type 2   type 5   ...      True   False     True    False   \n",
       "189113  type 4  type 3  type 11   ...      True   False     True    False   \n",
       "189114  type 8  type 3  type 11   ...     False   False    False    False   \n",
       "189115  type 3  type 4  type 16   ...     False   False    False    False   \n",
       "189116  type 2  type 1   type 2   ...      True   False     True     True   \n",
       "\n",
       "        char_36  char_37  char_38  outcome_0  outcome_1  result  \n",
       "189111     True     True        3          7          0       0  \n",
       "189113     True     True       89          0          1       1  \n",
       "189114    False    False        0          2          0       0  \n",
       "189115    False    False        0          2          0       0  \n",
       "189116     True     True       95          0         46       1  \n",
       "\n",
       "[5 rows x 44 columns]"
      ]
     },
     "execution_count": 69,
     "metadata": {},
     "output_type": "execute_result"
    }
   ],
   "source": [
    "train_People.tail()"
   ]
  },
  {
   "cell_type": "code",
   "execution_count": 70,
   "metadata": {
    "scrolled": true
   },
   "outputs": [
    {
     "name": "stdout",
     "output_type": "stream",
     "text": [
      "<class 'pandas.core.frame.DataFrame'>\n",
      "Int64Index: 151295 entries, 0 to 189116\n",
      "Data columns (total 44 columns):\n",
      "people_id    151295 non-null object\n",
      "char_1       151295 non-null object\n",
      "group_1      151295 non-null object\n",
      "char_2       151295 non-null object\n",
      "date         151295 non-null object\n",
      "char_3       151295 non-null object\n",
      "char_4       151295 non-null object\n",
      "char_5       151295 non-null object\n",
      "char_6       151295 non-null object\n",
      "char_7       151295 non-null object\n",
      "char_8       151295 non-null object\n",
      "char_9       151295 non-null object\n",
      "char_10      151295 non-null bool\n",
      "char_11      151295 non-null bool\n",
      "char_12      151295 non-null bool\n",
      "char_13      151295 non-null bool\n",
      "char_14      151295 non-null bool\n",
      "char_15      151295 non-null bool\n",
      "char_16      151295 non-null bool\n",
      "char_17      151295 non-null bool\n",
      "char_18      151295 non-null bool\n",
      "char_19      151295 non-null bool\n",
      "char_20      151295 non-null bool\n",
      "char_21      151295 non-null bool\n",
      "char_22      151295 non-null bool\n",
      "char_23      151295 non-null bool\n",
      "char_24      151295 non-null bool\n",
      "char_25      151295 non-null bool\n",
      "char_26      151295 non-null bool\n",
      "char_27      151295 non-null bool\n",
      "char_28      151295 non-null bool\n",
      "char_29      151295 non-null bool\n",
      "char_30      151295 non-null bool\n",
      "char_31      151295 non-null bool\n",
      "char_32      151295 non-null bool\n",
      "char_33      151295 non-null bool\n",
      "char_34      151295 non-null bool\n",
      "char_35      151295 non-null bool\n",
      "char_36      151295 non-null bool\n",
      "char_37      151295 non-null bool\n",
      "char_38      151295 non-null int64\n",
      "outcome_0    151295 non-null int64\n",
      "outcome_1    151295 non-null int64\n",
      "result       151295 non-null int64\n",
      "dtypes: bool(28), int64(4), object(12)\n",
      "memory usage: 23.7+ MB\n"
     ]
    }
   ],
   "source": [
    "train_People.info()"
   ]
  },
  {
   "cell_type": "code",
   "execution_count": 75,
   "metadata": {},
   "outputs": [],
   "source": [
    "for idx in trainMerge.columns:\n",
    "    if 'type 0' in list(trainMerge[idx].unique()):\n",
    "        print (idx, 'type 0')\n",
    "    else:pass"
   ]
  },
  {
   "cell_type": "code",
   "execution_count": 76,
   "metadata": {
    "scrolled": true
   },
   "outputs": [
    {
     "name": "stdout",
     "output_type": "stream",
     "text": [
      "<class 'pandas.core.frame.DataFrame'>\n",
      "Int64Index: 2197291 entries, 0 to 2197290\n",
      "Data columns (total 55 columns):\n",
      "people_id            object\n",
      "activity_id          object\n",
      "date_x               object\n",
      "activity_category    object\n",
      "char_1_x             object\n",
      "char_2_x             object\n",
      "char_3_x             object\n",
      "char_4_x             object\n",
      "char_5_x             object\n",
      "char_6_x             object\n",
      "char_7_x             object\n",
      "char_8_x             object\n",
      "char_9_x             object\n",
      "char_10_x            object\n",
      "outcome              int64\n",
      "char_1_y             object\n",
      "group_1              object\n",
      "char_2_y             object\n",
      "date_y               object\n",
      "char_3_y             object\n",
      "char_4_y             object\n",
      "char_5_y             object\n",
      "char_6_y             object\n",
      "char_7_y             object\n",
      "char_8_y             object\n",
      "char_9_y             object\n",
      "char_10_y            bool\n",
      "char_11              bool\n",
      "char_12              bool\n",
      "char_13              bool\n",
      "char_14              bool\n",
      "char_15              bool\n",
      "char_16              bool\n",
      "char_17              bool\n",
      "char_18              bool\n",
      "char_19              bool\n",
      "char_20              bool\n",
      "char_21              bool\n",
      "char_22              bool\n",
      "char_23              bool\n",
      "char_24              bool\n",
      "char_25              bool\n",
      "char_26              bool\n",
      "char_27              bool\n",
      "char_28              bool\n",
      "char_29              bool\n",
      "char_30              bool\n",
      "char_31              bool\n",
      "char_32              bool\n",
      "char_33              bool\n",
      "char_34              bool\n",
      "char_35              bool\n",
      "char_36              bool\n",
      "char_37              bool\n",
      "char_38              int64\n",
      "dtypes: bool(28), int64(2), object(25)\n",
      "memory usage: 528.1+ MB\n"
     ]
    }
   ],
   "source": [
    "trainMerge.info()"
   ]
  },
  {
   "cell_type": "code",
   "execution_count": 77,
   "metadata": {},
   "outputs": [
    {
     "data": {
      "text/html": [
       "<div>\n",
       "<style scoped>\n",
       "    .dataframe tbody tr th:only-of-type {\n",
       "        vertical-align: middle;\n",
       "    }\n",
       "\n",
       "    .dataframe tbody tr th {\n",
       "        vertical-align: top;\n",
       "    }\n",
       "\n",
       "    .dataframe thead th {\n",
       "        text-align: right;\n",
       "    }\n",
       "</style>\n",
       "<table border=\"1\" class=\"dataframe\">\n",
       "  <thead>\n",
       "    <tr style=\"text-align: right;\">\n",
       "      <th></th>\n",
       "      <th>people_id</th>\n",
       "      <th>activity_id</th>\n",
       "      <th>date_x</th>\n",
       "      <th>activity_category</th>\n",
       "      <th>char_1_x</th>\n",
       "      <th>char_2_x</th>\n",
       "      <th>char_3_x</th>\n",
       "      <th>char_4_x</th>\n",
       "      <th>char_5_x</th>\n",
       "      <th>char_6_x</th>\n",
       "      <th>...</th>\n",
       "      <th>char_29</th>\n",
       "      <th>char_30</th>\n",
       "      <th>char_31</th>\n",
       "      <th>char_32</th>\n",
       "      <th>char_33</th>\n",
       "      <th>char_34</th>\n",
       "      <th>char_35</th>\n",
       "      <th>char_36</th>\n",
       "      <th>char_37</th>\n",
       "      <th>char_38</th>\n",
       "    </tr>\n",
       "  </thead>\n",
       "  <tbody>\n",
       "    <tr>\n",
       "      <th>0</th>\n",
       "      <td>ppl_100</td>\n",
       "      <td>act2_1734928</td>\n",
       "      <td>2023-08-26</td>\n",
       "      <td>type 4</td>\n",
       "      <td>NaN</td>\n",
       "      <td>NaN</td>\n",
       "      <td>NaN</td>\n",
       "      <td>NaN</td>\n",
       "      <td>NaN</td>\n",
       "      <td>NaN</td>\n",
       "      <td>...</td>\n",
       "      <td>False</td>\n",
       "      <td>True</td>\n",
       "      <td>True</td>\n",
       "      <td>False</td>\n",
       "      <td>False</td>\n",
       "      <td>True</td>\n",
       "      <td>True</td>\n",
       "      <td>True</td>\n",
       "      <td>False</td>\n",
       "      <td>36</td>\n",
       "    </tr>\n",
       "    <tr>\n",
       "      <th>1</th>\n",
       "      <td>ppl_100</td>\n",
       "      <td>act2_2434093</td>\n",
       "      <td>2022-09-27</td>\n",
       "      <td>type 2</td>\n",
       "      <td>NaN</td>\n",
       "      <td>NaN</td>\n",
       "      <td>NaN</td>\n",
       "      <td>NaN</td>\n",
       "      <td>NaN</td>\n",
       "      <td>NaN</td>\n",
       "      <td>...</td>\n",
       "      <td>False</td>\n",
       "      <td>True</td>\n",
       "      <td>True</td>\n",
       "      <td>False</td>\n",
       "      <td>False</td>\n",
       "      <td>True</td>\n",
       "      <td>True</td>\n",
       "      <td>True</td>\n",
       "      <td>False</td>\n",
       "      <td>36</td>\n",
       "    </tr>\n",
       "    <tr>\n",
       "      <th>2</th>\n",
       "      <td>ppl_100</td>\n",
       "      <td>act2_3404049</td>\n",
       "      <td>2022-09-27</td>\n",
       "      <td>type 2</td>\n",
       "      <td>NaN</td>\n",
       "      <td>NaN</td>\n",
       "      <td>NaN</td>\n",
       "      <td>NaN</td>\n",
       "      <td>NaN</td>\n",
       "      <td>NaN</td>\n",
       "      <td>...</td>\n",
       "      <td>False</td>\n",
       "      <td>True</td>\n",
       "      <td>True</td>\n",
       "      <td>False</td>\n",
       "      <td>False</td>\n",
       "      <td>True</td>\n",
       "      <td>True</td>\n",
       "      <td>True</td>\n",
       "      <td>False</td>\n",
       "      <td>36</td>\n",
       "    </tr>\n",
       "    <tr>\n",
       "      <th>3</th>\n",
       "      <td>ppl_100</td>\n",
       "      <td>act2_3651215</td>\n",
       "      <td>2023-08-04</td>\n",
       "      <td>type 2</td>\n",
       "      <td>NaN</td>\n",
       "      <td>NaN</td>\n",
       "      <td>NaN</td>\n",
       "      <td>NaN</td>\n",
       "      <td>NaN</td>\n",
       "      <td>NaN</td>\n",
       "      <td>...</td>\n",
       "      <td>False</td>\n",
       "      <td>True</td>\n",
       "      <td>True</td>\n",
       "      <td>False</td>\n",
       "      <td>False</td>\n",
       "      <td>True</td>\n",
       "      <td>True</td>\n",
       "      <td>True</td>\n",
       "      <td>False</td>\n",
       "      <td>36</td>\n",
       "    </tr>\n",
       "    <tr>\n",
       "      <th>4</th>\n",
       "      <td>ppl_100</td>\n",
       "      <td>act2_4109017</td>\n",
       "      <td>2023-08-26</td>\n",
       "      <td>type 2</td>\n",
       "      <td>NaN</td>\n",
       "      <td>NaN</td>\n",
       "      <td>NaN</td>\n",
       "      <td>NaN</td>\n",
       "      <td>NaN</td>\n",
       "      <td>NaN</td>\n",
       "      <td>...</td>\n",
       "      <td>False</td>\n",
       "      <td>True</td>\n",
       "      <td>True</td>\n",
       "      <td>False</td>\n",
       "      <td>False</td>\n",
       "      <td>True</td>\n",
       "      <td>True</td>\n",
       "      <td>True</td>\n",
       "      <td>False</td>\n",
       "      <td>36</td>\n",
       "    </tr>\n",
       "  </tbody>\n",
       "</table>\n",
       "<p>5 rows × 55 columns</p>\n",
       "</div>"
      ],
      "text/plain": [
       "  people_id   activity_id      date_x activity_category char_1_x char_2_x  \\\n",
       "0   ppl_100  act2_1734928  2023-08-26            type 4      NaN      NaN   \n",
       "1   ppl_100  act2_2434093  2022-09-27            type 2      NaN      NaN   \n",
       "2   ppl_100  act2_3404049  2022-09-27            type 2      NaN      NaN   \n",
       "3   ppl_100  act2_3651215  2023-08-04            type 2      NaN      NaN   \n",
       "4   ppl_100  act2_4109017  2023-08-26            type 2      NaN      NaN   \n",
       "\n",
       "  char_3_x char_4_x char_5_x char_6_x   ...   char_29 char_30 char_31 char_32  \\\n",
       "0      NaN      NaN      NaN      NaN   ...     False    True    True   False   \n",
       "1      NaN      NaN      NaN      NaN   ...     False    True    True   False   \n",
       "2      NaN      NaN      NaN      NaN   ...     False    True    True   False   \n",
       "3      NaN      NaN      NaN      NaN   ...     False    True    True   False   \n",
       "4      NaN      NaN      NaN      NaN   ...     False    True    True   False   \n",
       "\n",
       "   char_33 char_34 char_35 char_36 char_37 char_38  \n",
       "0    False    True    True    True   False      36  \n",
       "1    False    True    True    True   False      36  \n",
       "2    False    True    True    True   False      36  \n",
       "3    False    True    True    True   False      36  \n",
       "4    False    True    True    True   False      36  \n",
       "\n",
       "[5 rows x 55 columns]"
      ]
     },
     "execution_count": 77,
     "metadata": {},
     "output_type": "execute_result"
    }
   ],
   "source": [
    "trainMerge.head()"
   ]
  },
  {
   "cell_type": "code",
   "execution_count": 78,
   "metadata": {
    "scrolled": true
   },
   "outputs": [
    {
     "name": "stdout",
     "output_type": "stream",
     "text": [
      "people_id\n",
      "activity_id\n",
      "date_x\n",
      "activity_category\n",
      "char_1_x\n",
      "char_2_x\n",
      "char_3_x\n",
      "char_4_x\n",
      "char_5_x\n",
      "char_6_x\n",
      "char_7_x\n",
      "char_8_x\n",
      "char_9_x\n",
      "char_10_x\n",
      "outcome\n",
      "char_1_y\n",
      "group_1\n",
      "char_2_y\n",
      "date_y\n",
      "char_3_y\n",
      "char_4_y\n",
      "char_5_y\n",
      "char_6_y\n",
      "char_7_y\n",
      "char_8_y\n",
      "char_9_y\n",
      "char_10_y\n",
      "char_11\n",
      "char_12\n",
      "char_13\n",
      "char_14\n",
      "char_15\n",
      "char_16\n",
      "char_17\n",
      "char_18\n",
      "char_19\n",
      "char_20\n",
      "char_21\n",
      "char_22\n",
      "char_23\n",
      "char_24\n",
      "char_25\n",
      "char_26\n",
      "char_27\n",
      "char_28\n",
      "char_29\n",
      "char_30\n",
      "char_31\n",
      "char_32\n",
      "char_33\n",
      "char_34\n",
      "char_35\n",
      "char_36\n",
      "char_37\n",
      "char_38\n"
     ]
    }
   ],
   "source": [
    "for idx in trainMerge.columns:\n",
    "    print (idx)\n",
    "    if idx not in ['people_id', 'activity_id', 'date_x','date_y', 'char_38', 'outcome']:\n",
    "        if trainMerge[idx].dtype == 'object':\n",
    "            trainMerge.fillna('type 0', inplace = True)\n",
    "            trainMerge[idx] = trainMerge[idx].apply(lambda x:x.split(' ')[1]).astype(np.int32)\n",
    "        elif trainMerge[idx].dtype == 'bool':\n",
    "            trainMerge[idx] = trainMerge[idx].astype(np.int8)"
   ]
  },
  {
   "cell_type": "code",
   "execution_count": null,
   "metadata": {},
   "outputs": [],
   "source": []
  },
  {
   "cell_type": "code",
   "execution_count": 79,
   "metadata": {},
   "outputs": [],
   "source": [
    "trainMerge['date_x'] = pd.to_datetime(trainMerge['date_x'])\n",
    "trainMerge['date_y'] = pd.to_datetime(trainMerge['date_y'])"
   ]
  },
  {
   "cell_type": "code",
   "execution_count": 80,
   "metadata": {},
   "outputs": [],
   "source": [
    "trainMerge['year_x'] = trainMerge['date_x'].dt.year\n",
    "trainMerge['month_x'] = trainMerge['date_x'].dt.month\n",
    "trainMerge['day_x'] = trainMerge['date_x'].dt.day\n",
    "trainMerge['weekday_x'] = trainMerge['date_x'].dt.weekday\n",
    "trainMerge['weekend_x'] = ((trainMerge.weekday_x == 0) | (trainMerge.weekday_x == 6)).astype(int)\n",
    "trainMerge = trainMerge.drop('date_x', axis = 1)\n",
    "    \n",
    "trainMerge['year_y'] = trainMerge['date_y'].dt.year\n",
    "trainMerge['month_y'] = trainMerge['date_y'].dt.month\n",
    "trainMerge['day_y'] = trainMerge['date_y'].dt.day\n",
    "trainMerge['weekday_y'] = trainMerge['date_y'].dt.weekday\n",
    "trainMerge['weekend_y'] = ((trainMerge.weekday_y == 0) | (trainMerge.weekday_y == 6)).astype(int)\n",
    "trainMerge = trainMerge.drop('date_y', axis = 1)"
   ]
  },
  {
   "cell_type": "code",
   "execution_count": 81,
   "metadata": {
    "scrolled": true
   },
   "outputs": [
    {
     "data": {
      "text/html": [
       "<div>\n",
       "<style scoped>\n",
       "    .dataframe tbody tr th:only-of-type {\n",
       "        vertical-align: middle;\n",
       "    }\n",
       "\n",
       "    .dataframe tbody tr th {\n",
       "        vertical-align: top;\n",
       "    }\n",
       "\n",
       "    .dataframe thead th {\n",
       "        text-align: right;\n",
       "    }\n",
       "</style>\n",
       "<table border=\"1\" class=\"dataframe\">\n",
       "  <thead>\n",
       "    <tr style=\"text-align: right;\">\n",
       "      <th></th>\n",
       "      <th>people_id</th>\n",
       "      <th>activity_id</th>\n",
       "      <th>activity_category</th>\n",
       "      <th>char_1_x</th>\n",
       "      <th>char_2_x</th>\n",
       "      <th>char_3_x</th>\n",
       "      <th>char_4_x</th>\n",
       "      <th>char_5_x</th>\n",
       "      <th>char_6_x</th>\n",
       "      <th>char_7_x</th>\n",
       "      <th>...</th>\n",
       "      <th>year_x</th>\n",
       "      <th>month_x</th>\n",
       "      <th>day_x</th>\n",
       "      <th>weekday_x</th>\n",
       "      <th>weekend_x</th>\n",
       "      <th>year_y</th>\n",
       "      <th>month_y</th>\n",
       "      <th>day_y</th>\n",
       "      <th>weekday_y</th>\n",
       "      <th>weekend_y</th>\n",
       "    </tr>\n",
       "  </thead>\n",
       "  <tbody>\n",
       "    <tr>\n",
       "      <th>2197286</th>\n",
       "      <td>ppl_99994</td>\n",
       "      <td>act2_4668076</td>\n",
       "      <td>4</td>\n",
       "      <td>0</td>\n",
       "      <td>0</td>\n",
       "      <td>0</td>\n",
       "      <td>0</td>\n",
       "      <td>0</td>\n",
       "      <td>0</td>\n",
       "      <td>0</td>\n",
       "      <td>...</td>\n",
       "      <td>2023</td>\n",
       "      <td>6</td>\n",
       "      <td>16</td>\n",
       "      <td>4</td>\n",
       "      <td>0</td>\n",
       "      <td>2023</td>\n",
       "      <td>1</td>\n",
       "      <td>6</td>\n",
       "      <td>4</td>\n",
       "      <td>0</td>\n",
       "    </tr>\n",
       "    <tr>\n",
       "      <th>2197287</th>\n",
       "      <td>ppl_99994</td>\n",
       "      <td>act2_4743548</td>\n",
       "      <td>4</td>\n",
       "      <td>0</td>\n",
       "      <td>0</td>\n",
       "      <td>0</td>\n",
       "      <td>0</td>\n",
       "      <td>0</td>\n",
       "      <td>0</td>\n",
       "      <td>0</td>\n",
       "      <td>...</td>\n",
       "      <td>2023</td>\n",
       "      <td>3</td>\n",
       "      <td>30</td>\n",
       "      <td>3</td>\n",
       "      <td>0</td>\n",
       "      <td>2023</td>\n",
       "      <td>1</td>\n",
       "      <td>6</td>\n",
       "      <td>4</td>\n",
       "      <td>0</td>\n",
       "    </tr>\n",
       "    <tr>\n",
       "      <th>2197288</th>\n",
       "      <td>ppl_99994</td>\n",
       "      <td>act2_536973</td>\n",
       "      <td>2</td>\n",
       "      <td>0</td>\n",
       "      <td>0</td>\n",
       "      <td>0</td>\n",
       "      <td>0</td>\n",
       "      <td>0</td>\n",
       "      <td>0</td>\n",
       "      <td>0</td>\n",
       "      <td>...</td>\n",
       "      <td>2023</td>\n",
       "      <td>1</td>\n",
       "      <td>19</td>\n",
       "      <td>3</td>\n",
       "      <td>0</td>\n",
       "      <td>2023</td>\n",
       "      <td>1</td>\n",
       "      <td>6</td>\n",
       "      <td>4</td>\n",
       "      <td>0</td>\n",
       "    </tr>\n",
       "    <tr>\n",
       "      <th>2197289</th>\n",
       "      <td>ppl_99994</td>\n",
       "      <td>act2_688656</td>\n",
       "      <td>4</td>\n",
       "      <td>0</td>\n",
       "      <td>0</td>\n",
       "      <td>0</td>\n",
       "      <td>0</td>\n",
       "      <td>0</td>\n",
       "      <td>0</td>\n",
       "      <td>0</td>\n",
       "      <td>...</td>\n",
       "      <td>2023</td>\n",
       "      <td>5</td>\n",
       "      <td>2</td>\n",
       "      <td>1</td>\n",
       "      <td>0</td>\n",
       "      <td>2023</td>\n",
       "      <td>1</td>\n",
       "      <td>6</td>\n",
       "      <td>4</td>\n",
       "      <td>0</td>\n",
       "    </tr>\n",
       "    <tr>\n",
       "      <th>2197290</th>\n",
       "      <td>ppl_99994</td>\n",
       "      <td>act2_715089</td>\n",
       "      <td>2</td>\n",
       "      <td>0</td>\n",
       "      <td>0</td>\n",
       "      <td>0</td>\n",
       "      <td>0</td>\n",
       "      <td>0</td>\n",
       "      <td>0</td>\n",
       "      <td>0</td>\n",
       "      <td>...</td>\n",
       "      <td>2023</td>\n",
       "      <td>6</td>\n",
       "      <td>15</td>\n",
       "      <td>3</td>\n",
       "      <td>0</td>\n",
       "      <td>2023</td>\n",
       "      <td>1</td>\n",
       "      <td>6</td>\n",
       "      <td>4</td>\n",
       "      <td>0</td>\n",
       "    </tr>\n",
       "  </tbody>\n",
       "</table>\n",
       "<p>5 rows × 63 columns</p>\n",
       "</div>"
      ],
      "text/plain": [
       "         people_id   activity_id  activity_category  char_1_x  char_2_x  \\\n",
       "2197286  ppl_99994  act2_4668076                  4         0         0   \n",
       "2197287  ppl_99994  act2_4743548                  4         0         0   \n",
       "2197288  ppl_99994   act2_536973                  2         0         0   \n",
       "2197289  ppl_99994   act2_688656                  4         0         0   \n",
       "2197290  ppl_99994   act2_715089                  2         0         0   \n",
       "\n",
       "         char_3_x  char_4_x  char_5_x  char_6_x  char_7_x    ...      year_x  \\\n",
       "2197286         0         0         0         0         0    ...        2023   \n",
       "2197287         0         0         0         0         0    ...        2023   \n",
       "2197288         0         0         0         0         0    ...        2023   \n",
       "2197289         0         0         0         0         0    ...        2023   \n",
       "2197290         0         0         0         0         0    ...        2023   \n",
       "\n",
       "         month_x  day_x  weekday_x  weekend_x  year_y  month_y  day_y  \\\n",
       "2197286        6     16          4          0    2023        1      6   \n",
       "2197287        3     30          3          0    2023        1      6   \n",
       "2197288        1     19          3          0    2023        1      6   \n",
       "2197289        5      2          1          0    2023        1      6   \n",
       "2197290        6     15          3          0    2023        1      6   \n",
       "\n",
       "         weekday_y  weekend_y  \n",
       "2197286          4          0  \n",
       "2197287          4          0  \n",
       "2197288          4          0  \n",
       "2197289          4          0  \n",
       "2197290          4          0  \n",
       "\n",
       "[5 rows x 63 columns]"
      ]
     },
     "execution_count": 81,
     "metadata": {},
     "output_type": "execute_result"
    }
   ],
   "source": [
    "trainMerge.tail()"
   ]
  },
  {
   "cell_type": "code",
   "execution_count": 82,
   "metadata": {},
   "outputs": [],
   "source": [
    "mergeX = trainMerge.drop(['people_id','activity_id','outcome'],axis = 1)\n",
    "mergey = trainMerge['outcome']"
   ]
  },
  {
   "cell_type": "code",
   "execution_count": 83,
   "metadata": {
    "scrolled": true
   },
   "outputs": [
    {
     "name": "stdout",
     "output_type": "stream",
     "text": [
      "people_id\n",
      "activity_id\n",
      "date_x\n",
      "activity_category\n",
      "char_1_x\n",
      "char_2_x\n",
      "char_3_x\n",
      "char_4_x\n",
      "char_5_x\n",
      "char_6_x\n",
      "char_7_x\n",
      "char_8_x\n",
      "char_9_x\n",
      "char_10_x\n",
      "char_1_y\n",
      "group_1\n",
      "char_2_y\n",
      "date_y\n",
      "char_3_y\n",
      "char_4_y\n",
      "char_5_y\n",
      "char_6_y\n",
      "char_7_y\n",
      "char_8_y\n",
      "char_9_y\n",
      "char_10_y\n",
      "char_11\n",
      "char_12\n",
      "char_13\n",
      "char_14\n",
      "char_15\n",
      "char_16\n",
      "char_17\n",
      "char_18\n",
      "char_19\n",
      "char_20\n",
      "char_21\n",
      "char_22\n",
      "char_23\n",
      "char_24\n",
      "char_25\n",
      "char_26\n",
      "char_27\n",
      "char_28\n",
      "char_29\n",
      "char_30\n",
      "char_31\n",
      "char_32\n",
      "char_33\n",
      "char_34\n",
      "char_35\n",
      "char_36\n",
      "char_37\n",
      "char_38\n"
     ]
    }
   ],
   "source": [
    "for idx in testMerge.columns:\n",
    "    print (idx)\n",
    "    if idx not in ['people_id', 'activity_id', 'date_x','date_y', 'char_38', 'outcome']:\n",
    "        if testMerge[idx].dtype == 'object':\n",
    "            testMerge.fillna('type 0', inplace = True)\n",
    "            testMerge[idx] = testMerge[idx].apply(lambda x:x.split(' ')[1]).astype(np.int32)\n",
    "        elif testMerge[idx].dtype == 'bool':\n",
    "            testMerge[idx] = testMerge[idx].astype(np.int8)"
   ]
  },
  {
   "cell_type": "code",
   "execution_count": 84,
   "metadata": {},
   "outputs": [],
   "source": [
    "testMerge['date_x'] = pd.to_datetime(testMerge['date_x'])\n",
    "testMerge['date_y'] = pd.to_datetime(testMerge['date_y'])"
   ]
  },
  {
   "cell_type": "code",
   "execution_count": 85,
   "metadata": {},
   "outputs": [],
   "source": [
    "testMerge['year_x'] = testMerge['date_x'].dt.year\n",
    "testMerge['month_x'] = testMerge['date_x'].dt.month\n",
    "testMerge['day_x'] = testMerge['date_x'].dt.day\n",
    "testMerge['weekday_x'] = testMerge['date_x'].dt.weekday\n",
    "testMerge['weekend_x'] = ((testMerge.weekday_x == 0) | (testMerge.weekday_x == 6)).astype(int)\n",
    "testMerge = testMerge.drop('date_x', axis = 1)\n",
    "    \n",
    "testMerge['year_y'] = testMerge['date_y'].dt.year\n",
    "testMerge['month_y'] = testMerge['date_y'].dt.month\n",
    "testMerge['day_y'] = testMerge['date_y'].dt.day\n",
    "testMerge['weekday_y'] = testMerge['date_y'].dt.weekday\n",
    "testMerge['weekend_y'] = ((testMerge.weekday_y == 0) | (testMerge.weekday_y == 6)).astype(int)\n",
    "testMerge = testMerge.drop('date_y', axis = 1)"
   ]
  },
  {
   "cell_type": "code",
   "execution_count": 86,
   "metadata": {},
   "outputs": [],
   "source": [
    "testX = testMerge.drop(['people_id','activity_id'],axis = 1)\n",
    "#testy = trainMerge['outcome']"
   ]
  },
  {
   "cell_type": "code",
   "execution_count": 87,
   "metadata": {},
   "outputs": [
    {
     "name": "stdout",
     "output_type": "stream",
     "text": [
      "CPU times: user 2 µs, sys: 1e+03 ns, total: 3 µs\n",
      "Wall time: 18.1 µs\n"
     ]
    }
   ],
   "source": [
    "model_xgb3 = xgboost.XGBClassifier(n_estimators=100)\n",
    "%time\n",
    "Xx3 = model_xgb3.fit(mergeX,mergey)\n",
    "#cross_val_score(Xx3, mergeX, mergey, scoring='accuracy',cv=cv)"
   ]
  },
  {
   "cell_type": "code",
   "execution_count": 88,
   "metadata": {},
   "outputs": [],
   "source": [
    "output = pd.concat([testMerge['activity_id'], pd.DataFrame(Xx3.predict(testX))],axis = 1)\n",
    "output.rename({0:'outcome'},axis = 1,inplace = True)"
   ]
  },
  {
   "cell_type": "code",
   "execution_count": 89,
   "metadata": {},
   "outputs": [],
   "source": [
    "output.to_csv('./submission.csv',index = False)"
   ]
  },
  {
   "cell_type": "code",
   "execution_count": 72,
   "metadata": {
    "collapsed": true
   },
   "outputs": [
    {
     "name": "stdout",
     "output_type": "stream",
     "text": [
      "activity_category 0.00743537\n",
      "char_1_x 0.00196751\n",
      "char_2_x 0.00180737\n",
      "char_3_x 0.00102951\n",
      "char_4_x 0.000640586\n",
      "char_5_x 0.00105239\n",
      "char_6_x 0.000617708\n",
      "char_7_x 0.000938\n",
      "char_8_x 0.00118966\n",
      "char_9_x 0.00164722\n",
      "char_10_x 0.0199497\n",
      "char_1_y 0.00652025\n",
      "group_1 0.21757\n",
      "char_2_y 0.00304278\n",
      "char_3_y 0.0396248\n",
      "char_4_y 0.0310684\n",
      "char_5_y 0.0210249\n",
      "char_6_y 0.0322352\n",
      "char_7_y 0.0701213\n",
      "char_8_y 0.0334248\n",
      "char_9_y 0.0274308\n",
      "char_10_y 0.00587966\n",
      "char_11 0.00617708\n",
      "char_12 0.00473576\n",
      "char_13 0.00571952\n",
      "char_14 0.00462137\n",
      "char_15 0.00510181\n",
      "char_16 0.00382064\n",
      "char_17 0.00409517\n",
      "char_18 0.00558225\n",
      "char_19 0.00382064\n",
      "char_20 0.00423244\n",
      "char_21 0.00315717\n",
      "char_22 0.00356898\n",
      "char_23 0.00462137\n",
      "char_24 0.00443834\n",
      "char_25 0.00800732\n",
      "char_26 0.00475864\n",
      "char_27 0.00391215\n",
      "char_28 0.00148707\n",
      "char_29 0.0052162\n",
      "char_30 0.00475864\n",
      "char_31 0.0052162\n",
      "char_32 0.00352322\n",
      "char_33 0.00329444\n",
      "char_34 0.00510181\n",
      "char_35 0.00571952\n",
      "char_36 0.00363761\n",
      "char_37 0.00272249\n",
      "char_38 0.0787692\n",
      "year_x 0.0267902\n",
      "month_x 0.0590254\n",
      "day_x 0.0337451\n",
      "isweekend_x 0.0114848\n",
      "year_y 0.015946\n",
      "month_y 0.0405399\n",
      "day_y 0.0559597\n",
      "isweekend_y 0.0304736\n"
     ]
    }
   ],
   "source": [
    "for ix in range(len(mergeX.columns)):\n",
    "    print (mergeX.columns[ix], Xx3.feature_importances_[ix])"
   ]
  },
  {
   "cell_type": "code",
   "execution_count": 73,
   "metadata": {},
   "outputs": [
    {
     "data": {
      "text/plain": [
       "array([ 0.85367952,  0.81624638,  0.81061671,  0.80914672,  0.80718521,\n",
       "        0.85277774,  0.8079862 ,  0.86519303,  0.81605978,  0.77994257])"
      ]
     },
     "execution_count": 73,
     "metadata": {},
     "output_type": "execute_result"
    }
   ],
   "source": [
    "logimodelmerge = LogisticRegression().fit(mergeX,mergey)\n",
    "cross_val_score(logimodelmerge, mergeX, mergey, scoring='accuracy',cv=cv)"
   ]
  },
  {
   "cell_type": "code",
   "execution_count": 74,
   "metadata": {},
   "outputs": [
    {
     "name": "stderr",
     "output_type": "stream",
     "text": [
      "/Users/hyunyoun/anaconda3/lib/python3.6/site-packages/sklearn/discriminant_analysis.py:664: DeprecationWarning: 'store_covariances' was renamed to store_covariance in version 0.19 and will be removed in 0.21.\n",
      "  DeprecationWarning)\n",
      "/Users/hyunyoun/anaconda3/lib/python3.6/site-packages/sklearn/discriminant_analysis.py:682: UserWarning: Variables are collinear\n",
      "  warnings.warn(\"Variables are collinear\")\n"
     ]
    }
   ],
   "source": [
    "qdamerge = QuadraticDiscriminantAnalysis(store_covariances = True).fit(mergeX,mergey)"
   ]
  },
  {
   "cell_type": "code",
   "execution_count": 75,
   "metadata": {
    "scrolled": true
   },
   "outputs": [
    {
     "name": "stderr",
     "output_type": "stream",
     "text": [
      "/Users/hyunyoun/anaconda3/lib/python3.6/site-packages/sklearn/discriminant_analysis.py:664: DeprecationWarning: 'store_covariances' was renamed to store_covariance in version 0.19 and will be removed in 0.21.\n",
      "  DeprecationWarning)\n",
      "/Users/hyunyoun/anaconda3/lib/python3.6/site-packages/sklearn/discriminant_analysis.py:682: UserWarning: Variables are collinear\n",
      "  warnings.warn(\"Variables are collinear\")\n",
      "/Users/hyunyoun/anaconda3/lib/python3.6/site-packages/sklearn/discriminant_analysis.py:664: DeprecationWarning: 'store_covariances' was renamed to store_covariance in version 0.19 and will be removed in 0.21.\n",
      "  DeprecationWarning)\n",
      "/Users/hyunyoun/anaconda3/lib/python3.6/site-packages/sklearn/discriminant_analysis.py:682: UserWarning: Variables are collinear\n",
      "  warnings.warn(\"Variables are collinear\")\n",
      "/Users/hyunyoun/anaconda3/lib/python3.6/site-packages/sklearn/discriminant_analysis.py:664: DeprecationWarning: 'store_covariances' was renamed to store_covariance in version 0.19 and will be removed in 0.21.\n",
      "  DeprecationWarning)\n",
      "/Users/hyunyoun/anaconda3/lib/python3.6/site-packages/sklearn/discriminant_analysis.py:682: UserWarning: Variables are collinear\n",
      "  warnings.warn(\"Variables are collinear\")\n",
      "/Users/hyunyoun/anaconda3/lib/python3.6/site-packages/sklearn/discriminant_analysis.py:664: DeprecationWarning: 'store_covariances' was renamed to store_covariance in version 0.19 and will be removed in 0.21.\n",
      "  DeprecationWarning)\n",
      "/Users/hyunyoun/anaconda3/lib/python3.6/site-packages/sklearn/discriminant_analysis.py:682: UserWarning: Variables are collinear\n",
      "  warnings.warn(\"Variables are collinear\")\n",
      "/Users/hyunyoun/anaconda3/lib/python3.6/site-packages/sklearn/discriminant_analysis.py:664: DeprecationWarning: 'store_covariances' was renamed to store_covariance in version 0.19 and will be removed in 0.21.\n",
      "  DeprecationWarning)\n",
      "/Users/hyunyoun/anaconda3/lib/python3.6/site-packages/sklearn/discriminant_analysis.py:682: UserWarning: Variables are collinear\n",
      "  warnings.warn(\"Variables are collinear\")\n",
      "/Users/hyunyoun/anaconda3/lib/python3.6/site-packages/sklearn/discriminant_analysis.py:664: DeprecationWarning: 'store_covariances' was renamed to store_covariance in version 0.19 and will be removed in 0.21.\n",
      "  DeprecationWarning)\n",
      "/Users/hyunyoun/anaconda3/lib/python3.6/site-packages/sklearn/discriminant_analysis.py:682: UserWarning: Variables are collinear\n",
      "  warnings.warn(\"Variables are collinear\")\n",
      "/Users/hyunyoun/anaconda3/lib/python3.6/site-packages/sklearn/discriminant_analysis.py:664: DeprecationWarning: 'store_covariances' was renamed to store_covariance in version 0.19 and will be removed in 0.21.\n",
      "  DeprecationWarning)\n",
      "/Users/hyunyoun/anaconda3/lib/python3.6/site-packages/sklearn/discriminant_analysis.py:682: UserWarning: Variables are collinear\n",
      "  warnings.warn(\"Variables are collinear\")\n",
      "/Users/hyunyoun/anaconda3/lib/python3.6/site-packages/sklearn/discriminant_analysis.py:664: DeprecationWarning: 'store_covariances' was renamed to store_covariance in version 0.19 and will be removed in 0.21.\n",
      "  DeprecationWarning)\n",
      "/Users/hyunyoun/anaconda3/lib/python3.6/site-packages/sklearn/discriminant_analysis.py:682: UserWarning: Variables are collinear\n",
      "  warnings.warn(\"Variables are collinear\")\n",
      "/Users/hyunyoun/anaconda3/lib/python3.6/site-packages/sklearn/discriminant_analysis.py:664: DeprecationWarning: 'store_covariances' was renamed to store_covariance in version 0.19 and will be removed in 0.21.\n",
      "  DeprecationWarning)\n",
      "/Users/hyunyoun/anaconda3/lib/python3.6/site-packages/sklearn/discriminant_analysis.py:682: UserWarning: Variables are collinear\n",
      "  warnings.warn(\"Variables are collinear\")\n",
      "/Users/hyunyoun/anaconda3/lib/python3.6/site-packages/sklearn/discriminant_analysis.py:664: DeprecationWarning: 'store_covariances' was renamed to store_covariance in version 0.19 and will be removed in 0.21.\n",
      "  DeprecationWarning)\n",
      "/Users/hyunyoun/anaconda3/lib/python3.6/site-packages/sklearn/discriminant_analysis.py:682: UserWarning: Variables are collinear\n",
      "  warnings.warn(\"Variables are collinear\")\n"
     ]
    },
    {
     "data": {
      "text/plain": [
       "array([ 0.62059346,  0.50818053,  0.81209126,  0.517046  ,  0.81556372,\n",
       "        0.63777198,  0.81617811,  0.63190111,  0.82374197,  0.48560272])"
      ]
     },
     "execution_count": 75,
     "metadata": {},
     "output_type": "execute_result"
    }
   ],
   "source": [
    "cross_val_score(qdamerge, mergeX, mergey, scoring='accuracy',cv=cv)"
   ]
  },
  {
   "cell_type": "code",
   "execution_count": 76,
   "metadata": {},
   "outputs": [
    {
     "data": {
      "text/plain": [
       "array([ 0.85596869,  0.82679118,  0.81842633,  0.82106595,  0.82131171,\n",
       "        0.85879424,  0.8212935 ,  0.87016734,  0.82472045,  0.82841136])"
      ]
     },
     "execution_count": 76,
     "metadata": {},
     "output_type": "execute_result"
    }
   ],
   "source": [
    "ldamerge = LinearDiscriminantAnalysis(n_components=3, solver=\"svd\", store_covariance=True).fit(mergeX, mergey)\n",
    "cross_val_score(ldamerge, mergeX, mergey, scoring='accuracy',cv=cv)"
   ]
  },
  {
   "cell_type": "code",
   "execution_count": 77,
   "metadata": {},
   "outputs": [
    {
     "data": {
      "text/plain": [
       "array([ 0.73122013,  0.66348548,  0.67646965,  0.68250891,  0.67930041,\n",
       "        0.74960064,  0.67598269,  0.74794861,  0.59273924,  0.66433197])"
      ]
     },
     "execution_count": 77,
     "metadata": {},
     "output_type": "execute_result"
    }
   ],
   "source": [
    "clf_normmerge = GaussianNB().fit(mergeX,mergey)\n",
    "cross_val_score(clf_normmerge, mergeX, mergey, scoring='accuracy',cv=cv)"
   ]
  },
  {
   "cell_type": "code",
   "execution_count": 78,
   "metadata": {},
   "outputs": [
    {
     "data": {
      "text/plain": [
       "array([ 0.71996086,  0.64669661,  0.65858853,  0.66844613,  0.66450036,\n",
       "        0.7376086 ,  0.64823032,  0.73514192,  0.57807117,  0.64820301])"
      ]
     },
     "execution_count": 78,
     "metadata": {},
     "output_type": "execute_result"
    }
   ],
   "source": [
    "clf_bernmerge = BernoulliNB().fit(mergeX, mergey)\n",
    "cross_val_score(clf_bernmerge, mergeX, mergey, scoring='accuracy',cv=cv)"
   ]
  },
  {
   "cell_type": "code",
   "execution_count": 79,
   "metadata": {
    "scrolled": true
   },
   "outputs": [
    {
     "data": {
      "text/plain": [
       "array([ 0.74633869,  0.66453222,  0.68505295,  0.67880435,  0.68361482,\n",
       "        0.76247559,  0.68787916,  0.77176431,  0.69864697,  0.65938497])"
      ]
     },
     "execution_count": 79,
     "metadata": {},
     "output_type": "execute_result"
    }
   ],
   "source": [
    "clf_multmerge = MultinomialNB().fit(mergeX,mergey)\n",
    "cross_val_score(clf_multmerge, mergeX, mergey, scoring='accuracy',cv=cv)"
   ]
  },
  {
   "cell_type": "code",
   "execution_count": 80,
   "metadata": {},
   "outputs": [
    {
     "data": {
      "text/plain": [
       "array([ 0.85038456,  0.82158022,  0.81369323,  0.81952314,  0.81330184,\n",
       "        0.85232263,  0.81772547,  0.87026747,  0.82280445,  0.82262241])"
      ]
     },
     "execution_count": 80,
     "metadata": {},
     "output_type": "execute_result"
    }
   ],
   "source": [
    "tree1merge = DecisionTreeClassifier(criterion='entropy', max_depth=1).fit(mergeX, mergey)\n",
    "cross_val_score(tree1merge, mergeX, mergey, scoring='accuracy',cv=cv)"
   ]
  },
  {
   "cell_type": "code",
   "execution_count": 81,
   "metadata": {},
   "outputs": [
    {
     "data": {
      "text/plain": [
       "array([ 0.90233013,  0.87740353,  0.86963032,  0.86558442,  0.87749   ,\n",
       "        0.90748149,  0.87475936,  0.8635683 ,  0.88395251,  0.84388497])"
      ]
     },
     "execution_count": 81,
     "metadata": {},
     "output_type": "execute_result"
    }
   ],
   "source": [
    "baggingmerge = BaggingClassifier(DecisionTreeClassifier(), bootstrap_features=True, random_state=0).fit(mergeX, mergey)\n",
    "cross_val_score(baggingmerge, mergeX, mergey, scoring='accuracy',cv=cv)"
   ]
  },
  {
   "cell_type": "code",
   "execution_count": 96,
   "metadata": {},
   "outputs": [],
   "source": [
    "pred = baggingmerge.predict(testX)"
   ]
  },
  {
   "cell_type": "code",
   "execution_count": 101,
   "metadata": {},
   "outputs": [],
   "source": [
    "output = pd.concat([testMerge['activity_id'], pd.DataFrame(pred)],axis = 1)\n",
    "output.rename({0:'outcome'},axis = 1,inplace = True)"
   ]
  },
  {
   "cell_type": "code",
   "execution_count": 102,
   "metadata": {},
   "outputs": [],
   "source": [
    "output.to_csv('./submission.csv',index = False)"
   ]
  },
  {
   "cell_type": "code",
   "execution_count": null,
   "metadata": {},
   "outputs": [],
   "source": []
  },
  {
   "cell_type": "code",
   "execution_count": null,
   "metadata": {},
   "outputs": [],
   "source": []
  },
  {
   "cell_type": "code",
   "execution_count": null,
   "metadata": {},
   "outputs": [],
   "source": []
  },
  {
   "cell_type": "code",
   "execution_count": 106,
   "metadata": {},
   "outputs": [],
   "source": [
    "forestmerge = RandomForestClassifier(n_estimators = 100).fit(mergeX,mergey)\n",
    "#cross_val_score(forestmerge, mergeX, mergey, scoring='accuracy',cv=cv)\n",
    "output2 = pd.concat([testMerge['activity_id'], pd.DataFrame(forestmerge.predict(testX))],axis = 1)\n",
    "output2.rename({0:'outcome'},axis = 1,inplace = True)"
   ]
  },
  {
   "cell_type": "code",
   "execution_count": 109,
   "metadata": {},
   "outputs": [],
   "source": [
    "output2.to_csv('./submission2.csv',index=False)"
   ]
  },
  {
   "cell_type": "code",
   "execution_count": 111,
   "metadata": {},
   "outputs": [],
   "source": [
    "model_gradmerge = GradientBoostingClassifier(n_estimators=100,random_state=0).fit(mergeX,mergey)\n",
    "#cross_val_score(model_gradmerge, mergeX, mergey, scoring='accuracy',cv=cv)"
   ]
  },
  {
   "cell_type": "code",
   "execution_count": 112,
   "metadata": {},
   "outputs": [],
   "source": [
    "output3 = pd.concat([testMerge['activity_id'], pd.DataFrame(model_gradmerge.predict(testX))],axis = 1)\n",
    "output3.rename({0:'outcome'},axis = 1,inplace = True)"
   ]
  },
  {
   "cell_type": "code",
   "execution_count": 113,
   "metadata": {},
   "outputs": [],
   "source": [
    "output3.to_csv('./submission3.csv',index=False)"
   ]
  },
  {
   "cell_type": "code",
   "execution_count": 114,
   "metadata": {},
   "outputs": [],
   "source": [
    "extraforestmerge = ExtraTreesClassifier(n_estimators=100, random_state=0).fit(mergeX,mergey)\n",
    "#cross_val_score(extraforestmerge, mergeX, mergey, scoring='accuracy',cv=cv)"
   ]
  },
  {
   "cell_type": "code",
   "execution_count": 115,
   "metadata": {},
   "outputs": [],
   "source": [
    "output4 = pd.concat([testMerge['activity_id'], pd.DataFrame(extraforestmerge.predict(testX))],axis = 1)\n",
    "output4.rename({0:'outcome'},axis = 1,inplace = True)"
   ]
  },
  {
   "cell_type": "code",
   "execution_count": 116,
   "metadata": {},
   "outputs": [],
   "source": [
    "output4.to_csv('./submission4.csv',index=False)"
   ]
  },
  {
   "cell_type": "code",
   "execution_count": 117,
   "metadata": {},
   "outputs": [],
   "source": [
    "model_adamerge = AdaBoostClassifier(DecisionTreeClassifier(max_depth=5, random_state=0), \n",
    "                               algorithm=\"SAMME\", n_estimators=100).fit(mergeX,mergey)\n",
    "#cross_val_score(model_adamerge, mergeX, mergey, scoring='accuracy',cv=cv)"
   ]
  },
  {
   "cell_type": "code",
   "execution_count": 118,
   "metadata": {},
   "outputs": [],
   "source": [
    "output5 = pd.concat([testMerge['activity_id'], pd.DataFrame(model_adamerge.predict(testX))],axis = 1)\n",
    "output5.rename({0:'outcome'},axis = 1,inplace = True)"
   ]
  },
  {
   "cell_type": "code",
   "execution_count": 119,
   "metadata": {},
   "outputs": [],
   "source": [
    "output5.to_csv('./submission5.csv',index=False)"
   ]
  },
  {
   "cell_type": "code",
   "execution_count": 48,
   "metadata": {},
   "outputs": [],
   "source": [
    "from sklearn.svm import SVC"
   ]
  },
  {
   "cell_type": "code",
   "execution_count": null,
   "metadata": {},
   "outputs": [],
   "source": [
    "modelsvc = SVC(kernel='linear').fit(mergeX, mergey)"
   ]
  },
  {
   "cell_type": "code",
   "execution_count": null,
   "metadata": {},
   "outputs": [],
   "source": [
    "output6 = pd.concat([testMerge['activity_id'], pd.DataFrame(modelsvc.predict(testX))],axis = 1)\n",
    "output6.rename({0:'outcome'},axis = 1,inplace = True)"
   ]
  },
  {
   "cell_type": "code",
   "execution_count": null,
   "metadata": {},
   "outputs": [],
   "source": [
    "output6.to_csv('./submission6.csv',index=False)"
   ]
  },
  {
   "cell_type": "code",
   "execution_count": null,
   "metadata": {},
   "outputs": [],
   "source": [
    "modelsvc2 = SVC(kernel='rbf',C=0.5,gamma=30).fit(mergeX, mergey)"
   ]
  },
  {
   "cell_type": "code",
   "execution_count": null,
   "metadata": {},
   "outputs": [],
   "source": [
    "output7 = pd.concat([testMerge['activity_id'], pd.DataFrame(modelsvc2.predict(testX))],axis = 1)\n",
    "output7.rename({0:'outcome'},axis = 1,inplace = True)\n",
    "output7.to_csv('./submission7.csv',index=False)"
   ]
  },
  {
   "cell_type": "code",
   "execution_count": null,
   "metadata": {},
   "outputs": [],
   "source": []
  }
 ],
 "metadata": {
  "kernelspec": {
   "display_name": "Python 3",
   "language": "python",
   "name": "python3"
  },
  "language_info": {
   "codemirror_mode": {
    "name": "ipython",
    "version": 3
   },
   "file_extension": ".py",
   "mimetype": "text/x-python",
   "name": "python",
   "nbconvert_exporter": "python",
   "pygments_lexer": "ipython3",
   "version": "3.6.3"
  }
 },
 "nbformat": 4,
 "nbformat_minor": 2
}
